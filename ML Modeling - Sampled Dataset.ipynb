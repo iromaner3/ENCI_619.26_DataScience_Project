{
 "cells": [
  {
   "cell_type": "code",
   "execution_count": 1,
   "id": "a5e064e5",
   "metadata": {},
   "outputs": [],
   "source": [
    "import pandas as pd\n",
    "import numpy as np\n",
    "import matplotlib.pyplot as plt\n",
    "import warnings\n",
    "# Import classifiers from scikit-learn\n",
    "from sklearn.ensemble import RandomForestClassifier\n",
    "from sklearn.neighbors import KNeighborsClassifier\n",
    "from xgboost import XGBClassifier\n",
    "# Import preprocessing tools\n",
    "from sklearn.model_selection import train_test_split, GridSearchCV, RandomizedSearchCV\n",
    "from sklearn.preprocessing import StandardScaler, OneHotEncoder\n",
    "# Import classification metrics\n",
    "from sklearn.metrics import classification_report, confusion_matrix, accuracy_score, make_scorer, f1_score, roc_auc_score, matthews_corrcoef\n",
    "# Presets\n",
    "pd.set_option('display.max_columns', None)\n",
    "pd.set_option('display.max_rows', None)\n",
    "warnings.filterwarnings('ignore')\n",
    "%matplotlib inline"
   ]
  },
  {
   "cell_type": "code",
   "execution_count": 2,
   "id": "bb91ff7e",
   "metadata": {},
   "outputs": [
    {
     "data": {
      "text/html": [
       "<div>\n",
       "<style scoped>\n",
       "    .dataframe tbody tr th:only-of-type {\n",
       "        vertical-align: middle;\n",
       "    }\n",
       "\n",
       "    .dataframe tbody tr th {\n",
       "        vertical-align: top;\n",
       "    }\n",
       "\n",
       "    .dataframe thead th {\n",
       "        text-align: right;\n",
       "    }\n",
       "</style>\n",
       "<table border=\"1\" class=\"dataframe\">\n",
       "  <thead>\n",
       "    <tr style=\"text-align: right;\">\n",
       "      <th></th>\n",
       "      <th>INDEX_</th>\n",
       "      <th>HOUR</th>\n",
       "      <th>DAYOFWEEK</th>\n",
       "      <th>VISIBILITY</th>\n",
       "      <th>LIGHT</th>\n",
       "      <th>RDSFCOND</th>\n",
       "      <th>TEMP</th>\n",
       "      <th>REL_HUMID</th>\n",
       "      <th>LOCCOORD</th>\n",
       "      <th>TRAFFCTL</th>\n",
       "      <th>ROADCLASS</th>\n",
       "      <th>SPEEDLMT</th>\n",
       "      <th>VEH_ADT</th>\n",
       "      <th>PED_ADT</th>\n",
       "      <th>LAND_USE</th>\n",
       "      <th>POP_2021</th>\n",
       "      <th>PRIV_DWELL</th>\n",
       "      <th>LAND_AREA</th>\n",
       "      <th>INVAGE</th>\n",
       "      <th>PEDCOND</th>\n",
       "      <th>PEDACT</th>\n",
       "      <th>VEHINV</th>\n",
       "      <th>VIOL</th>\n",
       "      <th>INJURY</th>\n",
       "    </tr>\n",
       "  </thead>\n",
       "  <tbody>\n",
       "    <tr>\n",
       "      <th>0</th>\n",
       "      <td>3366652</td>\n",
       "      <td>7</td>\n",
       "      <td>weekday</td>\n",
       "      <td>Other</td>\n",
       "      <td>Dark</td>\n",
       "      <td>Wet</td>\n",
       "      <td>1.5</td>\n",
       "      <td>0.99</td>\n",
       "      <td>Midblock</td>\n",
       "      <td>No Control</td>\n",
       "      <td>Major Arterial</td>\n",
       "      <td>60</td>\n",
       "      <td>498.0</td>\n",
       "      <td>219.0</td>\n",
       "      <td>Mixed Use</td>\n",
       "      <td>504</td>\n",
       "      <td>263</td>\n",
       "      <td>225</td>\n",
       "      <td>45 to 64</td>\n",
       "      <td>Distracted</td>\n",
       "      <td>Crossing without ROW</td>\n",
       "      <td>automobile</td>\n",
       "      <td>speeding</td>\n",
       "      <td>Major</td>\n",
       "    </tr>\n",
       "    <tr>\n",
       "      <th>1</th>\n",
       "      <td>3370334</td>\n",
       "      <td>19</td>\n",
       "      <td>weekday</td>\n",
       "      <td>Rain</td>\n",
       "      <td>Dark</td>\n",
       "      <td>Wet</td>\n",
       "      <td>4.8</td>\n",
       "      <td>1.00</td>\n",
       "      <td>Midblock</td>\n",
       "      <td>Traffic Signal including Transit</td>\n",
       "      <td>Major Arterial</td>\n",
       "      <td>60</td>\n",
       "      <td>351.0</td>\n",
       "      <td>63.0</td>\n",
       "      <td>Residential</td>\n",
       "      <td>452</td>\n",
       "      <td>205</td>\n",
       "      <td>183</td>\n",
       "      <td>Over 65</td>\n",
       "      <td>Normal</td>\n",
       "      <td>Crossing without ROW</td>\n",
       "      <td>automobile</td>\n",
       "      <td>speeding</td>\n",
       "      <td>Major</td>\n",
       "    </tr>\n",
       "  </tbody>\n",
       "</table>\n",
       "</div>"
      ],
      "text/plain": [
       "    INDEX_  HOUR DAYOFWEEK VISIBILITY LIGHT RDSFCOND  TEMP  REL_HUMID   \n",
       "0  3366652     7   weekday      Other  Dark      Wet   1.5       0.99  \\\n",
       "1  3370334    19   weekday       Rain  Dark      Wet   4.8       1.00   \n",
       "\n",
       "   LOCCOORD                          TRAFFCTL       ROADCLASS  SPEEDLMT   \n",
       "0  Midblock                        No Control  Major Arterial        60  \\\n",
       "1  Midblock  Traffic Signal including Transit  Major Arterial        60   \n",
       "\n",
       "   VEH_ADT  PED_ADT     LAND_USE  POP_2021  PRIV_DWELL  LAND_AREA    INVAGE   \n",
       "0    498.0    219.0    Mixed Use       504         263        225  45 to 64  \\\n",
       "1    351.0     63.0  Residential       452         205        183   Over 65   \n",
       "\n",
       "      PEDCOND                PEDACT      VEHINV      VIOL INJURY  \n",
       "0  Distracted  Crossing without ROW  automobile  speeding  Major  \n",
       "1      Normal  Crossing without ROW  automobile  speeding  Major  "
      ]
     },
     "execution_count": 2,
     "metadata": {},
     "output_type": "execute_result"
    }
   ],
   "source": [
    "DF = pd.read_csv('data_for_ml.csv')\n",
    "DF.head(2)"
   ]
  },
  {
   "cell_type": "code",
   "execution_count": 3,
   "id": "1cd7a548",
   "metadata": {},
   "outputs": [
    {
     "data": {
      "text/html": [
       "<div>\n",
       "<style scoped>\n",
       "    .dataframe tbody tr th:only-of-type {\n",
       "        vertical-align: middle;\n",
       "    }\n",
       "\n",
       "    .dataframe tbody tr th {\n",
       "        vertical-align: top;\n",
       "    }\n",
       "\n",
       "    .dataframe thead th {\n",
       "        text-align: right;\n",
       "    }\n",
       "</style>\n",
       "<table border=\"1\" class=\"dataframe\">\n",
       "  <thead>\n",
       "    <tr style=\"text-align: right;\">\n",
       "      <th></th>\n",
       "      <th>HOUR</th>\n",
       "      <th>DAYOFWEEK</th>\n",
       "      <th>VISIBILITY</th>\n",
       "      <th>LIGHT</th>\n",
       "      <th>RDSFCOND</th>\n",
       "      <th>TEMP</th>\n",
       "      <th>REL_HUMID</th>\n",
       "      <th>LOCCOORD</th>\n",
       "      <th>TRAFFCTL</th>\n",
       "      <th>ROADCLASS</th>\n",
       "      <th>SPEEDLMT</th>\n",
       "      <th>VEH_ADT</th>\n",
       "      <th>PED_ADT</th>\n",
       "      <th>LAND_USE</th>\n",
       "      <th>POP_2021</th>\n",
       "      <th>PRIV_DWELL</th>\n",
       "      <th>LAND_AREA</th>\n",
       "      <th>INVAGE</th>\n",
       "      <th>PEDCOND</th>\n",
       "      <th>PEDACT</th>\n",
       "      <th>VEHINV</th>\n",
       "      <th>VIOL</th>\n",
       "      <th>INJURY</th>\n",
       "    </tr>\n",
       "  </thead>\n",
       "  <tbody>\n",
       "    <tr>\n",
       "      <th>0</th>\n",
       "      <td>7</td>\n",
       "      <td>weekday</td>\n",
       "      <td>Other</td>\n",
       "      <td>Dark</td>\n",
       "      <td>Wet</td>\n",
       "      <td>1.5</td>\n",
       "      <td>0.99</td>\n",
       "      <td>Midblock</td>\n",
       "      <td>No Control</td>\n",
       "      <td>Major Arterial</td>\n",
       "      <td>60</td>\n",
       "      <td>498.0</td>\n",
       "      <td>219.0</td>\n",
       "      <td>Mixed Use</td>\n",
       "      <td>504</td>\n",
       "      <td>263</td>\n",
       "      <td>225</td>\n",
       "      <td>45 to 64</td>\n",
       "      <td>Distracted</td>\n",
       "      <td>Crossing without ROW</td>\n",
       "      <td>automobile</td>\n",
       "      <td>speeding</td>\n",
       "      <td>Major</td>\n",
       "    </tr>\n",
       "  </tbody>\n",
       "</table>\n",
       "</div>"
      ],
      "text/plain": [
       "   HOUR DAYOFWEEK VISIBILITY LIGHT RDSFCOND  TEMP  REL_HUMID  LOCCOORD   \n",
       "0     7   weekday      Other  Dark      Wet   1.5       0.99  Midblock  \\\n",
       "\n",
       "     TRAFFCTL       ROADCLASS  SPEEDLMT  VEH_ADT  PED_ADT   LAND_USE   \n",
       "0  No Control  Major Arterial        60    498.0    219.0  Mixed Use  \\\n",
       "\n",
       "   POP_2021  PRIV_DWELL  LAND_AREA    INVAGE     PEDCOND   \n",
       "0       504         263        225  45 to 64  Distracted  \\\n",
       "\n",
       "                 PEDACT      VEHINV      VIOL INJURY  \n",
       "0  Crossing without ROW  automobile  speeding  Major  "
      ]
     },
     "execution_count": 3,
     "metadata": {},
     "output_type": "execute_result"
    }
   ],
   "source": [
    "df = DF.drop('INDEX_', axis=1)\n",
    "df.head(1)"
   ]
  },
  {
   "cell_type": "code",
   "execution_count": 6,
   "id": "4974fda6",
   "metadata": {},
   "outputs": [],
   "source": [
    "# Fill missing values\n",
    "df['INJURY'] = df['INJURY'].fillna('None')"
   ]
  },
  {
   "cell_type": "code",
   "execution_count": 7,
   "id": "97afec4f",
   "metadata": {},
   "outputs": [
    {
     "data": {
      "text/plain": [
       "0"
      ]
     },
     "execution_count": 7,
     "metadata": {},
     "output_type": "execute_result"
    }
   ],
   "source": [
    "df['INJURY'].isna().sum()"
   ]
  },
  {
   "cell_type": "code",
   "execution_count": 8,
   "id": "5673339e",
   "metadata": {},
   "outputs": [
    {
     "data": {
      "text/plain": [
       "INJURY\n",
       "Major      0.776743\n",
       "Fatal      0.163508\n",
       "Minor      0.035014\n",
       "Minimal    0.015740\n",
       "None       0.008995\n",
       "Name: proportion, dtype: float64"
      ]
     },
     "execution_count": 8,
     "metadata": {},
     "output_type": "execute_result"
    }
   ],
   "source": [
    "# Check proportions of target variables\n",
    "df['INJURY'].value_counts(normalize=True)"
   ]
  },
  {
   "cell_type": "code",
   "execution_count": 9,
   "id": "79a89a82",
   "metadata": {},
   "outputs": [
    {
     "data": {
      "text/plain": [
       "INJURY\n",
       "Major      2418\n",
       "Fatal       509\n",
       "Minor       109\n",
       "Minimal      49\n",
       "None         28\n",
       "Name: count, dtype: int64"
      ]
     },
     "execution_count": 9,
     "metadata": {},
     "output_type": "execute_result"
    }
   ],
   "source": [
    "df['INJURY'].value_counts()"
   ]
  },
  {
   "cell_type": "markdown",
   "id": "c0b2d76f",
   "metadata": {},
   "source": [
    "# Stratified Sampling"
   ]
  },
  {
   "cell_type": "code",
   "execution_count": 22,
   "id": "ecbe198a",
   "metadata": {},
   "outputs": [],
   "source": [
    "samples = []\n",
    "for injury in df['INJURY'].unique():\n",
    "    group_data = df[df['INJURY']==injury]\n",
    "    sampled_group = group_data.sample(n=100, replace=True, random_state=101)\n",
    "    samples.append(sampled_group)"
   ]
  },
  {
   "cell_type": "code",
   "execution_count": 25,
   "id": "2f4872b9",
   "metadata": {},
   "outputs": [
    {
     "data": {
      "text/html": [
       "<div>\n",
       "<style scoped>\n",
       "    .dataframe tbody tr th:only-of-type {\n",
       "        vertical-align: middle;\n",
       "    }\n",
       "\n",
       "    .dataframe tbody tr th {\n",
       "        vertical-align: top;\n",
       "    }\n",
       "\n",
       "    .dataframe thead th {\n",
       "        text-align: right;\n",
       "    }\n",
       "</style>\n",
       "<table border=\"1\" class=\"dataframe\">\n",
       "  <thead>\n",
       "    <tr style=\"text-align: right;\">\n",
       "      <th></th>\n",
       "      <th>HOUR</th>\n",
       "      <th>DAYOFWEEK</th>\n",
       "      <th>VISIBILITY</th>\n",
       "      <th>LIGHT</th>\n",
       "      <th>RDSFCOND</th>\n",
       "      <th>TEMP</th>\n",
       "      <th>REL_HUMID</th>\n",
       "      <th>LOCCOORD</th>\n",
       "      <th>TRAFFCTL</th>\n",
       "      <th>ROADCLASS</th>\n",
       "      <th>SPEEDLMT</th>\n",
       "      <th>VEH_ADT</th>\n",
       "      <th>PED_ADT</th>\n",
       "      <th>LAND_USE</th>\n",
       "      <th>POP_2021</th>\n",
       "      <th>PRIV_DWELL</th>\n",
       "      <th>LAND_AREA</th>\n",
       "      <th>INVAGE</th>\n",
       "      <th>PEDCOND</th>\n",
       "      <th>PEDACT</th>\n",
       "      <th>VEHINV</th>\n",
       "      <th>VIOL</th>\n",
       "      <th>INJURY</th>\n",
       "    </tr>\n",
       "  </thead>\n",
       "  <tbody>\n",
       "    <tr>\n",
       "      <th>0</th>\n",
       "      <td>16</td>\n",
       "      <td>weekday</td>\n",
       "      <td>Clear</td>\n",
       "      <td>Daylight</td>\n",
       "      <td>Dry</td>\n",
       "      <td>19.4</td>\n",
       "      <td>0.41</td>\n",
       "      <td>Intersection</td>\n",
       "      <td>Traffic Signal including Transit</td>\n",
       "      <td>Major Arterial</td>\n",
       "      <td>60</td>\n",
       "      <td>466.0</td>\n",
       "      <td>7.0</td>\n",
       "      <td>Parks</td>\n",
       "      <td>457</td>\n",
       "      <td>279</td>\n",
       "      <td>265</td>\n",
       "      <td>45 to 64</td>\n",
       "      <td>Unknown</td>\n",
       "      <td>Crossing without ROW</td>\n",
       "      <td>transit vehicle</td>\n",
       "      <td>speeding</td>\n",
       "      <td>Major</td>\n",
       "    </tr>\n",
       "    <tr>\n",
       "      <th>1</th>\n",
       "      <td>22</td>\n",
       "      <td>weekday</td>\n",
       "      <td>Clear</td>\n",
       "      <td>Dark</td>\n",
       "      <td>Dry</td>\n",
       "      <td>12.8</td>\n",
       "      <td>0.63</td>\n",
       "      <td>Midblock</td>\n",
       "      <td>No Control</td>\n",
       "      <td>Major Arterial</td>\n",
       "      <td>60</td>\n",
       "      <td>430.0</td>\n",
       "      <td>19.0</td>\n",
       "      <td>Unknown</td>\n",
       "      <td>1085</td>\n",
       "      <td>607</td>\n",
       "      <td>568</td>\n",
       "      <td>45 to 64</td>\n",
       "      <td>Impaired - Alcohol (BAC = Normal)</td>\n",
       "      <td>Crossing with ROW and no control</td>\n",
       "      <td>automobile</td>\n",
       "      <td>speeding</td>\n",
       "      <td>Major</td>\n",
       "    </tr>\n",
       "  </tbody>\n",
       "</table>\n",
       "</div>"
      ],
      "text/plain": [
       "   HOUR DAYOFWEEK VISIBILITY     LIGHT RDSFCOND  TEMP  REL_HUMID   \n",
       "0    16   weekday      Clear  Daylight      Dry  19.4       0.41  \\\n",
       "1    22   weekday      Clear      Dark      Dry  12.8       0.63   \n",
       "\n",
       "       LOCCOORD                          TRAFFCTL       ROADCLASS  SPEEDLMT   \n",
       "0  Intersection  Traffic Signal including Transit  Major Arterial        60  \\\n",
       "1      Midblock                        No Control  Major Arterial        60   \n",
       "\n",
       "   VEH_ADT  PED_ADT LAND_USE  POP_2021  PRIV_DWELL  LAND_AREA    INVAGE   \n",
       "0    466.0      7.0    Parks       457         279        265  45 to 64  \\\n",
       "1    430.0     19.0  Unknown      1085         607        568  45 to 64   \n",
       "\n",
       "                             PEDCOND                            PEDACT   \n",
       "0                            Unknown              Crossing without ROW  \\\n",
       "1  Impaired - Alcohol (BAC = Normal)  Crossing with ROW and no control   \n",
       "\n",
       "            VEHINV      VIOL INJURY  \n",
       "0  transit vehicle  speeding  Major  \n",
       "1       automobile  speeding  Major  "
      ]
     },
     "execution_count": 25,
     "metadata": {},
     "output_type": "execute_result"
    }
   ],
   "source": [
    "stratified_df = pd.concat(samples)\n",
    "new_df = stratified_df.reset_index().drop('index',axis=1)\n",
    "new_df.head(2)"
   ]
  },
  {
   "cell_type": "code",
   "execution_count": 37,
   "id": "3cd65a91",
   "metadata": {},
   "outputs": [
    {
     "data": {
      "text/html": [
       "<div>\n",
       "<style scoped>\n",
       "    .dataframe tbody tr th:only-of-type {\n",
       "        vertical-align: middle;\n",
       "    }\n",
       "\n",
       "    .dataframe tbody tr th {\n",
       "        vertical-align: top;\n",
       "    }\n",
       "\n",
       "    .dataframe thead th {\n",
       "        text-align: right;\n",
       "    }\n",
       "</style>\n",
       "<table border=\"1\" class=\"dataframe\">\n",
       "  <thead>\n",
       "    <tr style=\"text-align: right;\">\n",
       "      <th></th>\n",
       "      <th>HOUR</th>\n",
       "      <th>DAYOFWEEK</th>\n",
       "      <th>VISIBILITY</th>\n",
       "      <th>LIGHT</th>\n",
       "      <th>RDSFCOND</th>\n",
       "      <th>TEMP</th>\n",
       "      <th>REL_HUMID</th>\n",
       "      <th>LOCCOORD</th>\n",
       "      <th>TRAFFCTL</th>\n",
       "      <th>ROADCLASS</th>\n",
       "      <th>SPEEDLMT</th>\n",
       "      <th>VEH_ADT</th>\n",
       "      <th>PED_ADT</th>\n",
       "      <th>LAND_USE</th>\n",
       "      <th>POP_2021</th>\n",
       "      <th>PRIV_DWELL</th>\n",
       "      <th>LAND_AREA</th>\n",
       "      <th>INVAGE</th>\n",
       "      <th>PEDCOND</th>\n",
       "      <th>PEDACT</th>\n",
       "      <th>VEHINV</th>\n",
       "      <th>VIOL</th>\n",
       "      <th>INJURY</th>\n",
       "    </tr>\n",
       "  </thead>\n",
       "  <tbody>\n",
       "    <tr>\n",
       "      <th>0</th>\n",
       "      <td>16</td>\n",
       "      <td>weekday</td>\n",
       "      <td>Clear</td>\n",
       "      <td>Daylight</td>\n",
       "      <td>Dry</td>\n",
       "      <td>19.4</td>\n",
       "      <td>0.41</td>\n",
       "      <td>Intersection</td>\n",
       "      <td>Traffic Signal including Transit</td>\n",
       "      <td>Major Arterial</td>\n",
       "      <td>60</td>\n",
       "      <td>466.0</td>\n",
       "      <td>7.0</td>\n",
       "      <td>Parks</td>\n",
       "      <td>457</td>\n",
       "      <td>279</td>\n",
       "      <td>265</td>\n",
       "      <td>45 to 64</td>\n",
       "      <td>Unknown</td>\n",
       "      <td>Crossing without ROW</td>\n",
       "      <td>transit vehicle</td>\n",
       "      <td>speeding</td>\n",
       "      <td>3</td>\n",
       "    </tr>\n",
       "    <tr>\n",
       "      <th>1</th>\n",
       "      <td>22</td>\n",
       "      <td>weekday</td>\n",
       "      <td>Clear</td>\n",
       "      <td>Dark</td>\n",
       "      <td>Dry</td>\n",
       "      <td>12.8</td>\n",
       "      <td>0.63</td>\n",
       "      <td>Midblock</td>\n",
       "      <td>No Control</td>\n",
       "      <td>Major Arterial</td>\n",
       "      <td>60</td>\n",
       "      <td>430.0</td>\n",
       "      <td>19.0</td>\n",
       "      <td>Unknown</td>\n",
       "      <td>1085</td>\n",
       "      <td>607</td>\n",
       "      <td>568</td>\n",
       "      <td>45 to 64</td>\n",
       "      <td>Impaired - Alcohol (BAC = Normal)</td>\n",
       "      <td>Crossing with ROW and no control</td>\n",
       "      <td>automobile</td>\n",
       "      <td>speeding</td>\n",
       "      <td>3</td>\n",
       "    </tr>\n",
       "  </tbody>\n",
       "</table>\n",
       "</div>"
      ],
      "text/plain": [
       "   HOUR DAYOFWEEK VISIBILITY     LIGHT RDSFCOND  TEMP  REL_HUMID   \n",
       "0    16   weekday      Clear  Daylight      Dry  19.4       0.41  \\\n",
       "1    22   weekday      Clear      Dark      Dry  12.8       0.63   \n",
       "\n",
       "       LOCCOORD                          TRAFFCTL       ROADCLASS  SPEEDLMT   \n",
       "0  Intersection  Traffic Signal including Transit  Major Arterial        60  \\\n",
       "1      Midblock                        No Control  Major Arterial        60   \n",
       "\n",
       "   VEH_ADT  PED_ADT LAND_USE  POP_2021  PRIV_DWELL  LAND_AREA    INVAGE   \n",
       "0    466.0      7.0    Parks       457         279        265  45 to 64  \\\n",
       "1    430.0     19.0  Unknown      1085         607        568  45 to 64   \n",
       "\n",
       "                             PEDCOND                            PEDACT   \n",
       "0                            Unknown              Crossing without ROW  \\\n",
       "1  Impaired - Alcohol (BAC = Normal)  Crossing with ROW and no control   \n",
       "\n",
       "            VEHINV      VIOL  INJURY  \n",
       "0  transit vehicle  speeding       3  \n",
       "1       automobile  speeding       3  "
      ]
     },
     "execution_count": 37,
     "metadata": {},
     "output_type": "execute_result"
    }
   ],
   "source": [
    "injury_map = {\n",
    "    'Fatal' : 4,\n",
    "    'Major' : 3,\n",
    "    'Minor' : 2,\n",
    "    'Minimal' : 1,\n",
    "    'None' : 0\n",
    "}\n",
    "\n",
    "new_df['INJURY'] = new_df['INJURY'].replace(injury_map)\n",
    "new_df.head(2)"
   ]
  },
  {
   "cell_type": "markdown",
   "id": "5f859f56",
   "metadata": {},
   "source": [
    "# Data Preprocessing"
   ]
  },
  {
   "cell_type": "code",
   "execution_count": 38,
   "id": "5c6b51c7",
   "metadata": {},
   "outputs": [],
   "source": [
    "X = new_df.iloc[:, :-1].values\n",
    "y = new_df.iloc[:,-1].values"
   ]
  },
  {
   "cell_type": "code",
   "execution_count": 39,
   "id": "d16f8ea6",
   "metadata": {},
   "outputs": [],
   "source": [
    "cat_columns_index = [1, 2, 3, 4, 7, 8, 9, 13, 17, 18, 19, 20, 21]\n",
    "encoder = OneHotEncoder(categories='auto', sparse=False, handle_unknown='ignore')\n",
    "X_cat = encoder.fit_transform(X[:, cat_columns_index])"
   ]
  },
  {
   "cell_type": "code",
   "execution_count": 40,
   "id": "d71720c5",
   "metadata": {},
   "outputs": [
    {
     "name": "stdout",
     "output_type": "stream",
     "text": [
      "[[1.000e+00 0.000e+00 1.000e+00 ... 4.570e+02 2.790e+02 2.650e+02]\n",
      " [1.000e+00 0.000e+00 1.000e+00 ... 1.085e+03 6.070e+02 5.680e+02]\n",
      " [0.000e+00 1.000e+00 1.000e+00 ... 4.040e+02 1.110e+02 1.040e+02]\n",
      " ...\n",
      " [1.000e+00 0.000e+00 0.000e+00 ... 4.210e+02 2.040e+02 1.890e+02]\n",
      " [0.000e+00 1.000e+00 1.000e+00 ... 9.980e+02 3.220e+02 3.100e+02]\n",
      " [1.000e+00 0.000e+00 1.000e+00 ... 2.830e+02 1.490e+02 1.240e+02]]\n"
     ]
    }
   ],
   "source": [
    "num_columns_index = [0, 5, 6, 10, 11, 12, 14, 15, 16]\n",
    "X_encoded = np.concatenate((X_cat, X[:, num_columns_index].astype(float)), axis=1)\n",
    "print(X_encoded)"
   ]
  },
  {
   "cell_type": "code",
   "execution_count": 41,
   "id": "081cea30",
   "metadata": {},
   "outputs": [],
   "source": [
    "X_train, X_test, y_train, y_test = train_test_split(X_encoded, y, test_size=0.20, random_state=100)"
   ]
  },
  {
   "cell_type": "code",
   "execution_count": 42,
   "id": "8293fe88",
   "metadata": {},
   "outputs": [],
   "source": [
    "scaler = StandardScaler()\n",
    "X_train[:, -len(num_columns_index):] = scaler.fit_transform(X_train[:, -len(num_columns_index):])\n",
    "X_test[:, -len(num_columns_index):] = scaler.transform(X_test[:, -len(num_columns_index):])"
   ]
  },
  {
   "cell_type": "markdown",
   "id": "ecc20162",
   "metadata": {},
   "source": [
    "# ML Modeling"
   ]
  },
  {
   "cell_type": "markdown",
   "id": "8f865b88",
   "metadata": {},
   "source": [
    "## KNN"
   ]
  },
  {
   "cell_type": "code",
   "execution_count": 43,
   "id": "9c45e05e",
   "metadata": {},
   "outputs": [],
   "source": [
    "# Instantiate KNN object\n",
    "knn = KNeighborsClassifier()\n",
    "# Define a parameter grid for tuning\n",
    "param_grid_knn = {\n",
    "    'n_neighbors' : [i for i in range(1,36)],\n",
    "    'weights' : ['uniform', 'distance'],\n",
    "    'metric' : ['euclidean', 'manhattan']\n",
    "}\n",
    "# Define grid search object for KNN\n",
    "random_search_knn = RandomizedSearchCV(knn, param_grid_knn, n_iter=100, cv=5, scoring='accuracy')"
   ]
  },
  {
   "cell_type": "code",
   "execution_count": 44,
   "id": "cdd4b437",
   "metadata": {},
   "outputs": [
    {
     "data": {
      "text/html": [
       "<style>#sk-container-id-2 {color: black;}#sk-container-id-2 pre{padding: 0;}#sk-container-id-2 div.sk-toggleable {background-color: white;}#sk-container-id-2 label.sk-toggleable__label {cursor: pointer;display: block;width: 100%;margin-bottom: 0;padding: 0.3em;box-sizing: border-box;text-align: center;}#sk-container-id-2 label.sk-toggleable__label-arrow:before {content: \"▸\";float: left;margin-right: 0.25em;color: #696969;}#sk-container-id-2 label.sk-toggleable__label-arrow:hover:before {color: black;}#sk-container-id-2 div.sk-estimator:hover label.sk-toggleable__label-arrow:before {color: black;}#sk-container-id-2 div.sk-toggleable__content {max-height: 0;max-width: 0;overflow: hidden;text-align: left;background-color: #f0f8ff;}#sk-container-id-2 div.sk-toggleable__content pre {margin: 0.2em;color: black;border-radius: 0.25em;background-color: #f0f8ff;}#sk-container-id-2 input.sk-toggleable__control:checked~div.sk-toggleable__content {max-height: 200px;max-width: 100%;overflow: auto;}#sk-container-id-2 input.sk-toggleable__control:checked~label.sk-toggleable__label-arrow:before {content: \"▾\";}#sk-container-id-2 div.sk-estimator input.sk-toggleable__control:checked~label.sk-toggleable__label {background-color: #d4ebff;}#sk-container-id-2 div.sk-label input.sk-toggleable__control:checked~label.sk-toggleable__label {background-color: #d4ebff;}#sk-container-id-2 input.sk-hidden--visually {border: 0;clip: rect(1px 1px 1px 1px);clip: rect(1px, 1px, 1px, 1px);height: 1px;margin: -1px;overflow: hidden;padding: 0;position: absolute;width: 1px;}#sk-container-id-2 div.sk-estimator {font-family: monospace;background-color: #f0f8ff;border: 1px dotted black;border-radius: 0.25em;box-sizing: border-box;margin-bottom: 0.5em;}#sk-container-id-2 div.sk-estimator:hover {background-color: #d4ebff;}#sk-container-id-2 div.sk-parallel-item::after {content: \"\";width: 100%;border-bottom: 1px solid gray;flex-grow: 1;}#sk-container-id-2 div.sk-label:hover label.sk-toggleable__label {background-color: #d4ebff;}#sk-container-id-2 div.sk-serial::before {content: \"\";position: absolute;border-left: 1px solid gray;box-sizing: border-box;top: 0;bottom: 0;left: 50%;z-index: 0;}#sk-container-id-2 div.sk-serial {display: flex;flex-direction: column;align-items: center;background-color: white;padding-right: 0.2em;padding-left: 0.2em;position: relative;}#sk-container-id-2 div.sk-item {position: relative;z-index: 1;}#sk-container-id-2 div.sk-parallel {display: flex;align-items: stretch;justify-content: center;background-color: white;position: relative;}#sk-container-id-2 div.sk-item::before, #sk-container-id-2 div.sk-parallel-item::before {content: \"\";position: absolute;border-left: 1px solid gray;box-sizing: border-box;top: 0;bottom: 0;left: 50%;z-index: -1;}#sk-container-id-2 div.sk-parallel-item {display: flex;flex-direction: column;z-index: 1;position: relative;background-color: white;}#sk-container-id-2 div.sk-parallel-item:first-child::after {align-self: flex-end;width: 50%;}#sk-container-id-2 div.sk-parallel-item:last-child::after {align-self: flex-start;width: 50%;}#sk-container-id-2 div.sk-parallel-item:only-child::after {width: 0;}#sk-container-id-2 div.sk-dashed-wrapped {border: 1px dashed gray;margin: 0 0.4em 0.5em 0.4em;box-sizing: border-box;padding-bottom: 0.4em;background-color: white;}#sk-container-id-2 div.sk-label label {font-family: monospace;font-weight: bold;display: inline-block;line-height: 1.2em;}#sk-container-id-2 div.sk-label-container {text-align: center;}#sk-container-id-2 div.sk-container {/* jupyter's `normalize.less` sets `[hidden] { display: none; }` but bootstrap.min.css set `[hidden] { display: none !important; }` so we also need the `!important` here to be able to override the default hidden behavior on the sphinx rendered scikit-learn.org. See: https://github.com/scikit-learn/scikit-learn/issues/21755 */display: inline-block !important;position: relative;}#sk-container-id-2 div.sk-text-repr-fallback {display: none;}</style><div id=\"sk-container-id-2\" class=\"sk-top-container\"><div class=\"sk-text-repr-fallback\"><pre>RandomizedSearchCV(cv=5, estimator=KNeighborsClassifier(), n_iter=100,\n",
       "                   param_distributions={&#x27;metric&#x27;: [&#x27;euclidean&#x27;, &#x27;manhattan&#x27;],\n",
       "                                        &#x27;n_neighbors&#x27;: [1, 2, 3, 4, 5, 6, 7, 8,\n",
       "                                                        9, 10, 11, 12, 13, 14,\n",
       "                                                        15, 16, 17, 18, 19, 20,\n",
       "                                                        21, 22, 23, 24, 25, 26,\n",
       "                                                        27, 28, 29, 30, ...],\n",
       "                                        &#x27;weights&#x27;: [&#x27;uniform&#x27;, &#x27;distance&#x27;]},\n",
       "                   scoring=&#x27;accuracy&#x27;)</pre><b>In a Jupyter environment, please rerun this cell to show the HTML representation or trust the notebook. <br />On GitHub, the HTML representation is unable to render, please try loading this page with nbviewer.org.</b></div><div class=\"sk-container\" hidden><div class=\"sk-item sk-dashed-wrapped\"><div class=\"sk-label-container\"><div class=\"sk-label sk-toggleable\"><input class=\"sk-toggleable__control sk-hidden--visually\" id=\"sk-estimator-id-4\" type=\"checkbox\" ><label for=\"sk-estimator-id-4\" class=\"sk-toggleable__label sk-toggleable__label-arrow\">RandomizedSearchCV</label><div class=\"sk-toggleable__content\"><pre>RandomizedSearchCV(cv=5, estimator=KNeighborsClassifier(), n_iter=100,\n",
       "                   param_distributions={&#x27;metric&#x27;: [&#x27;euclidean&#x27;, &#x27;manhattan&#x27;],\n",
       "                                        &#x27;n_neighbors&#x27;: [1, 2, 3, 4, 5, 6, 7, 8,\n",
       "                                                        9, 10, 11, 12, 13, 14,\n",
       "                                                        15, 16, 17, 18, 19, 20,\n",
       "                                                        21, 22, 23, 24, 25, 26,\n",
       "                                                        27, 28, 29, 30, ...],\n",
       "                                        &#x27;weights&#x27;: [&#x27;uniform&#x27;, &#x27;distance&#x27;]},\n",
       "                   scoring=&#x27;accuracy&#x27;)</pre></div></div></div><div class=\"sk-parallel\"><div class=\"sk-parallel-item\"><div class=\"sk-item\"><div class=\"sk-label-container\"><div class=\"sk-label sk-toggleable\"><input class=\"sk-toggleable__control sk-hidden--visually\" id=\"sk-estimator-id-5\" type=\"checkbox\" ><label for=\"sk-estimator-id-5\" class=\"sk-toggleable__label sk-toggleable__label-arrow\">estimator: KNeighborsClassifier</label><div class=\"sk-toggleable__content\"><pre>KNeighborsClassifier()</pre></div></div></div><div class=\"sk-serial\"><div class=\"sk-item\"><div class=\"sk-estimator sk-toggleable\"><input class=\"sk-toggleable__control sk-hidden--visually\" id=\"sk-estimator-id-6\" type=\"checkbox\" ><label for=\"sk-estimator-id-6\" class=\"sk-toggleable__label sk-toggleable__label-arrow\">KNeighborsClassifier</label><div class=\"sk-toggleable__content\"><pre>KNeighborsClassifier()</pre></div></div></div></div></div></div></div></div></div></div>"
      ],
      "text/plain": [
       "RandomizedSearchCV(cv=5, estimator=KNeighborsClassifier(), n_iter=100,\n",
       "                   param_distributions={'metric': ['euclidean', 'manhattan'],\n",
       "                                        'n_neighbors': [1, 2, 3, 4, 5, 6, 7, 8,\n",
       "                                                        9, 10, 11, 12, 13, 14,\n",
       "                                                        15, 16, 17, 18, 19, 20,\n",
       "                                                        21, 22, 23, 24, 25, 26,\n",
       "                                                        27, 28, 29, 30, ...],\n",
       "                                        'weights': ['uniform', 'distance']},\n",
       "                   scoring='accuracy')"
      ]
     },
     "execution_count": 44,
     "metadata": {},
     "output_type": "execute_result"
    }
   ],
   "source": [
    "# Fit the model\n",
    "random_search_knn.fit(X_train, y_train)"
   ]
  },
  {
   "cell_type": "code",
   "execution_count": 45,
   "id": "83263bd2",
   "metadata": {},
   "outputs": [
    {
     "name": "stdout",
     "output_type": "stream",
     "text": [
      "              precision    recall  f1-score   support\n",
      "\n",
      "           0       0.73      1.00      0.84        19\n",
      "           1       0.62      0.82      0.71        22\n",
      "           2       0.50      0.36      0.42        14\n",
      "           3       0.43      0.45      0.44        20\n",
      "           4       0.79      0.44      0.56        25\n",
      "\n",
      "    accuracy                           0.62       100\n",
      "   macro avg       0.61      0.61      0.59       100\n",
      "weighted avg       0.63      0.62      0.60       100\n",
      "\n"
     ]
    }
   ],
   "source": [
    "# Print the classification report\n",
    "y_ped_knn = random_search_knn.predict(X_test)\n",
    "print(classification_report(y_test, y_ped_knn))"
   ]
  },
  {
   "cell_type": "code",
   "execution_count": 46,
   "id": "37d5b362",
   "metadata": {},
   "outputs": [
    {
     "name": "stdout",
     "output_type": "stream",
     "text": [
      "0.5303952677678889\n",
      "0.7978172039201109\n"
     ]
    }
   ],
   "source": [
    "# Print other metrics\n",
    "y_ped_knn_proba = random_search_knn.predict_proba(X_test)\n",
    "print(matthews_corrcoef(y_test, y_ped_knn))\n",
    "print(roc_auc_score(y_test, y_ped_knn_proba, multi_class='ovr'))"
   ]
  },
  {
   "cell_type": "markdown",
   "id": "6d4c419b",
   "metadata": {},
   "source": [
    "## Random Forest"
   ]
  },
  {
   "cell_type": "code",
   "execution_count": 47,
   "id": "0a501428",
   "metadata": {},
   "outputs": [],
   "source": [
    "# Instantiate RF object\n",
    "rf = RandomForestClassifier()\n",
    "\n",
    "# Define parameter grid\n",
    "param_grid_rf = {\n",
    "    'n_estimators': [50, 100, 200],                # Number of trees in the forest\n",
    "    'max_features': ['auto', 'sqrt', 'log2'],      # Number of features to consider at each split\n",
    "    'max_depth': [None, 10, 20, 30],               # Maximum depth of the tree\n",
    "    'min_samples_split': [2, 5, 10],               # Minimum number of samples required to split an internal node\n",
    "    'min_samples_leaf': [1, 2, 4],                 # Minimum number of samples required to be at a leaf node\n",
    "    'bootstrap': [True, False],                     # Whether bootstrap samples are used when building trees\n",
    "    'criterion': ['gini', 'entropy']               # Function to measure the quality of a split\n",
    "}\n",
    "\n",
    "# Define grid search object for RF\n",
    "random_search_rf = RandomizedSearchCV(rf, param_grid_rf, n_iter=100, cv=5, scoring='accuracy')"
   ]
  },
  {
   "cell_type": "code",
   "execution_count": 48,
   "id": "316ac5df",
   "metadata": {},
   "outputs": [
    {
     "data": {
      "text/html": [
       "<style>#sk-container-id-3 {color: black;}#sk-container-id-3 pre{padding: 0;}#sk-container-id-3 div.sk-toggleable {background-color: white;}#sk-container-id-3 label.sk-toggleable__label {cursor: pointer;display: block;width: 100%;margin-bottom: 0;padding: 0.3em;box-sizing: border-box;text-align: center;}#sk-container-id-3 label.sk-toggleable__label-arrow:before {content: \"▸\";float: left;margin-right: 0.25em;color: #696969;}#sk-container-id-3 label.sk-toggleable__label-arrow:hover:before {color: black;}#sk-container-id-3 div.sk-estimator:hover label.sk-toggleable__label-arrow:before {color: black;}#sk-container-id-3 div.sk-toggleable__content {max-height: 0;max-width: 0;overflow: hidden;text-align: left;background-color: #f0f8ff;}#sk-container-id-3 div.sk-toggleable__content pre {margin: 0.2em;color: black;border-radius: 0.25em;background-color: #f0f8ff;}#sk-container-id-3 input.sk-toggleable__control:checked~div.sk-toggleable__content {max-height: 200px;max-width: 100%;overflow: auto;}#sk-container-id-3 input.sk-toggleable__control:checked~label.sk-toggleable__label-arrow:before {content: \"▾\";}#sk-container-id-3 div.sk-estimator input.sk-toggleable__control:checked~label.sk-toggleable__label {background-color: #d4ebff;}#sk-container-id-3 div.sk-label input.sk-toggleable__control:checked~label.sk-toggleable__label {background-color: #d4ebff;}#sk-container-id-3 input.sk-hidden--visually {border: 0;clip: rect(1px 1px 1px 1px);clip: rect(1px, 1px, 1px, 1px);height: 1px;margin: -1px;overflow: hidden;padding: 0;position: absolute;width: 1px;}#sk-container-id-3 div.sk-estimator {font-family: monospace;background-color: #f0f8ff;border: 1px dotted black;border-radius: 0.25em;box-sizing: border-box;margin-bottom: 0.5em;}#sk-container-id-3 div.sk-estimator:hover {background-color: #d4ebff;}#sk-container-id-3 div.sk-parallel-item::after {content: \"\";width: 100%;border-bottom: 1px solid gray;flex-grow: 1;}#sk-container-id-3 div.sk-label:hover label.sk-toggleable__label {background-color: #d4ebff;}#sk-container-id-3 div.sk-serial::before {content: \"\";position: absolute;border-left: 1px solid gray;box-sizing: border-box;top: 0;bottom: 0;left: 50%;z-index: 0;}#sk-container-id-3 div.sk-serial {display: flex;flex-direction: column;align-items: center;background-color: white;padding-right: 0.2em;padding-left: 0.2em;position: relative;}#sk-container-id-3 div.sk-item {position: relative;z-index: 1;}#sk-container-id-3 div.sk-parallel {display: flex;align-items: stretch;justify-content: center;background-color: white;position: relative;}#sk-container-id-3 div.sk-item::before, #sk-container-id-3 div.sk-parallel-item::before {content: \"\";position: absolute;border-left: 1px solid gray;box-sizing: border-box;top: 0;bottom: 0;left: 50%;z-index: -1;}#sk-container-id-3 div.sk-parallel-item {display: flex;flex-direction: column;z-index: 1;position: relative;background-color: white;}#sk-container-id-3 div.sk-parallel-item:first-child::after {align-self: flex-end;width: 50%;}#sk-container-id-3 div.sk-parallel-item:last-child::after {align-self: flex-start;width: 50%;}#sk-container-id-3 div.sk-parallel-item:only-child::after {width: 0;}#sk-container-id-3 div.sk-dashed-wrapped {border: 1px dashed gray;margin: 0 0.4em 0.5em 0.4em;box-sizing: border-box;padding-bottom: 0.4em;background-color: white;}#sk-container-id-3 div.sk-label label {font-family: monospace;font-weight: bold;display: inline-block;line-height: 1.2em;}#sk-container-id-3 div.sk-label-container {text-align: center;}#sk-container-id-3 div.sk-container {/* jupyter's `normalize.less` sets `[hidden] { display: none; }` but bootstrap.min.css set `[hidden] { display: none !important; }` so we also need the `!important` here to be able to override the default hidden behavior on the sphinx rendered scikit-learn.org. See: https://github.com/scikit-learn/scikit-learn/issues/21755 */display: inline-block !important;position: relative;}#sk-container-id-3 div.sk-text-repr-fallback {display: none;}</style><div id=\"sk-container-id-3\" class=\"sk-top-container\"><div class=\"sk-text-repr-fallback\"><pre>RandomizedSearchCV(cv=5, estimator=RandomForestClassifier(), n_iter=100,\n",
       "                   param_distributions={&#x27;bootstrap&#x27;: [True, False],\n",
       "                                        &#x27;criterion&#x27;: [&#x27;gini&#x27;, &#x27;entropy&#x27;],\n",
       "                                        &#x27;max_depth&#x27;: [None, 10, 20, 30],\n",
       "                                        &#x27;max_features&#x27;: [&#x27;auto&#x27;, &#x27;sqrt&#x27;,\n",
       "                                                         &#x27;log2&#x27;],\n",
       "                                        &#x27;min_samples_leaf&#x27;: [1, 2, 4],\n",
       "                                        &#x27;min_samples_split&#x27;: [2, 5, 10],\n",
       "                                        &#x27;n_estimators&#x27;: [50, 100, 200]},\n",
       "                   scoring=&#x27;accuracy&#x27;)</pre><b>In a Jupyter environment, please rerun this cell to show the HTML representation or trust the notebook. <br />On GitHub, the HTML representation is unable to render, please try loading this page with nbviewer.org.</b></div><div class=\"sk-container\" hidden><div class=\"sk-item sk-dashed-wrapped\"><div class=\"sk-label-container\"><div class=\"sk-label sk-toggleable\"><input class=\"sk-toggleable__control sk-hidden--visually\" id=\"sk-estimator-id-7\" type=\"checkbox\" ><label for=\"sk-estimator-id-7\" class=\"sk-toggleable__label sk-toggleable__label-arrow\">RandomizedSearchCV</label><div class=\"sk-toggleable__content\"><pre>RandomizedSearchCV(cv=5, estimator=RandomForestClassifier(), n_iter=100,\n",
       "                   param_distributions={&#x27;bootstrap&#x27;: [True, False],\n",
       "                                        &#x27;criterion&#x27;: [&#x27;gini&#x27;, &#x27;entropy&#x27;],\n",
       "                                        &#x27;max_depth&#x27;: [None, 10, 20, 30],\n",
       "                                        &#x27;max_features&#x27;: [&#x27;auto&#x27;, &#x27;sqrt&#x27;,\n",
       "                                                         &#x27;log2&#x27;],\n",
       "                                        &#x27;min_samples_leaf&#x27;: [1, 2, 4],\n",
       "                                        &#x27;min_samples_split&#x27;: [2, 5, 10],\n",
       "                                        &#x27;n_estimators&#x27;: [50, 100, 200]},\n",
       "                   scoring=&#x27;accuracy&#x27;)</pre></div></div></div><div class=\"sk-parallel\"><div class=\"sk-parallel-item\"><div class=\"sk-item\"><div class=\"sk-label-container\"><div class=\"sk-label sk-toggleable\"><input class=\"sk-toggleable__control sk-hidden--visually\" id=\"sk-estimator-id-8\" type=\"checkbox\" ><label for=\"sk-estimator-id-8\" class=\"sk-toggleable__label sk-toggleable__label-arrow\">estimator: RandomForestClassifier</label><div class=\"sk-toggleable__content\"><pre>RandomForestClassifier()</pre></div></div></div><div class=\"sk-serial\"><div class=\"sk-item\"><div class=\"sk-estimator sk-toggleable\"><input class=\"sk-toggleable__control sk-hidden--visually\" id=\"sk-estimator-id-9\" type=\"checkbox\" ><label for=\"sk-estimator-id-9\" class=\"sk-toggleable__label sk-toggleable__label-arrow\">RandomForestClassifier</label><div class=\"sk-toggleable__content\"><pre>RandomForestClassifier()</pre></div></div></div></div></div></div></div></div></div></div>"
      ],
      "text/plain": [
       "RandomizedSearchCV(cv=5, estimator=RandomForestClassifier(), n_iter=100,\n",
       "                   param_distributions={'bootstrap': [True, False],\n",
       "                                        'criterion': ['gini', 'entropy'],\n",
       "                                        'max_depth': [None, 10, 20, 30],\n",
       "                                        'max_features': ['auto', 'sqrt',\n",
       "                                                         'log2'],\n",
       "                                        'min_samples_leaf': [1, 2, 4],\n",
       "                                        'min_samples_split': [2, 5, 10],\n",
       "                                        'n_estimators': [50, 100, 200]},\n",
       "                   scoring='accuracy')"
      ]
     },
     "execution_count": 48,
     "metadata": {},
     "output_type": "execute_result"
    }
   ],
   "source": [
    "# Train the model\n",
    "random_search_rf.fit(X_train, y_train)"
   ]
  },
  {
   "cell_type": "code",
   "execution_count": 49,
   "id": "3ceeae37",
   "metadata": {},
   "outputs": [
    {
     "name": "stdout",
     "output_type": "stream",
     "text": [
      "              precision    recall  f1-score   support\n",
      "\n",
      "           0       0.83      1.00      0.90        19\n",
      "           1       0.80      0.73      0.76        22\n",
      "           2       0.50      0.36      0.42        14\n",
      "           3       0.38      0.45      0.41        20\n",
      "           4       0.70      0.64      0.67        25\n",
      "\n",
      "    accuracy                           0.65       100\n",
      "   macro avg       0.64      0.63      0.63       100\n",
      "weighted avg       0.65      0.65      0.65       100\n",
      "\n"
     ]
    }
   ],
   "source": [
    "# Print Classification Report\n",
    "y_ped_rf = random_search_rf.predict(X_test)\n",
    "print(classification_report(y_test, y_ped_rf))"
   ]
  },
  {
   "cell_type": "code",
   "execution_count": 50,
   "id": "7a723aca",
   "metadata": {},
   "outputs": [
    {
     "name": "stdout",
     "output_type": "stream",
     "text": [
      "0.5605115202236649\n",
      "0.8696889317523977\n"
     ]
    }
   ],
   "source": [
    "# Print other metrics\n",
    "y_ped_rf_proba = random_search_rf.predict_proba(X_test)\n",
    "print(matthews_corrcoef(y_test, y_ped_rf))\n",
    "print(roc_auc_score(y_test, y_ped_rf_proba, multi_class='ovr'))"
   ]
  },
  {
   "cell_type": "code",
   "execution_count": 51,
   "id": "d7a2964d",
   "metadata": {},
   "outputs": [
    {
     "data": {
      "text/plain": [
       "{'n_estimators': 100,\n",
       " 'min_samples_split': 2,\n",
       " 'min_samples_leaf': 2,\n",
       " 'max_features': 'sqrt',\n",
       " 'max_depth': None,\n",
       " 'criterion': 'gini',\n",
       " 'bootstrap': False}"
      ]
     },
     "execution_count": 51,
     "metadata": {},
     "output_type": "execute_result"
    }
   ],
   "source": [
    "# Best parameters\n",
    "random_search_rf.best_params_"
   ]
  },
  {
   "cell_type": "markdown",
   "id": "9464ffbc",
   "metadata": {},
   "source": [
    "## XGBoost"
   ]
  },
  {
   "cell_type": "code",
   "execution_count": 52,
   "id": "4aa1fede",
   "metadata": {},
   "outputs": [],
   "source": [
    "# Instatiate the XGB object\n",
    "xgb = XGBClassifier()\n",
    "\n",
    "# Define parameter grid\n",
    "param_grid_xgb = {\n",
    "    'learning_rate': [0.01, 0.1, 0.3],\n",
    "    'max_depth': [3, 5, 7],\n",
    "    'min_child_weight': [1, 3, 5],\n",
    "    'subsample': [0.5, 0.8, 1.0],\n",
    "    'colsample_bytree': [0.5, 0.8, 1.0]\n",
    "}\n",
    "\n",
    "# Define random search for XGB\n",
    "random_search_xgb = RandomizedSearchCV(xgb, param_grid_xgb, n_iter=100, cv=5, scoring='accuracy')"
   ]
  },
  {
   "cell_type": "code",
   "execution_count": 53,
   "id": "8bacd45c",
   "metadata": {},
   "outputs": [
    {
     "data": {
      "text/html": [
       "<style>#sk-container-id-4 {color: black;}#sk-container-id-4 pre{padding: 0;}#sk-container-id-4 div.sk-toggleable {background-color: white;}#sk-container-id-4 label.sk-toggleable__label {cursor: pointer;display: block;width: 100%;margin-bottom: 0;padding: 0.3em;box-sizing: border-box;text-align: center;}#sk-container-id-4 label.sk-toggleable__label-arrow:before {content: \"▸\";float: left;margin-right: 0.25em;color: #696969;}#sk-container-id-4 label.sk-toggleable__label-arrow:hover:before {color: black;}#sk-container-id-4 div.sk-estimator:hover label.sk-toggleable__label-arrow:before {color: black;}#sk-container-id-4 div.sk-toggleable__content {max-height: 0;max-width: 0;overflow: hidden;text-align: left;background-color: #f0f8ff;}#sk-container-id-4 div.sk-toggleable__content pre {margin: 0.2em;color: black;border-radius: 0.25em;background-color: #f0f8ff;}#sk-container-id-4 input.sk-toggleable__control:checked~div.sk-toggleable__content {max-height: 200px;max-width: 100%;overflow: auto;}#sk-container-id-4 input.sk-toggleable__control:checked~label.sk-toggleable__label-arrow:before {content: \"▾\";}#sk-container-id-4 div.sk-estimator input.sk-toggleable__control:checked~label.sk-toggleable__label {background-color: #d4ebff;}#sk-container-id-4 div.sk-label input.sk-toggleable__control:checked~label.sk-toggleable__label {background-color: #d4ebff;}#sk-container-id-4 input.sk-hidden--visually {border: 0;clip: rect(1px 1px 1px 1px);clip: rect(1px, 1px, 1px, 1px);height: 1px;margin: -1px;overflow: hidden;padding: 0;position: absolute;width: 1px;}#sk-container-id-4 div.sk-estimator {font-family: monospace;background-color: #f0f8ff;border: 1px dotted black;border-radius: 0.25em;box-sizing: border-box;margin-bottom: 0.5em;}#sk-container-id-4 div.sk-estimator:hover {background-color: #d4ebff;}#sk-container-id-4 div.sk-parallel-item::after {content: \"\";width: 100%;border-bottom: 1px solid gray;flex-grow: 1;}#sk-container-id-4 div.sk-label:hover label.sk-toggleable__label {background-color: #d4ebff;}#sk-container-id-4 div.sk-serial::before {content: \"\";position: absolute;border-left: 1px solid gray;box-sizing: border-box;top: 0;bottom: 0;left: 50%;z-index: 0;}#sk-container-id-4 div.sk-serial {display: flex;flex-direction: column;align-items: center;background-color: white;padding-right: 0.2em;padding-left: 0.2em;position: relative;}#sk-container-id-4 div.sk-item {position: relative;z-index: 1;}#sk-container-id-4 div.sk-parallel {display: flex;align-items: stretch;justify-content: center;background-color: white;position: relative;}#sk-container-id-4 div.sk-item::before, #sk-container-id-4 div.sk-parallel-item::before {content: \"\";position: absolute;border-left: 1px solid gray;box-sizing: border-box;top: 0;bottom: 0;left: 50%;z-index: -1;}#sk-container-id-4 div.sk-parallel-item {display: flex;flex-direction: column;z-index: 1;position: relative;background-color: white;}#sk-container-id-4 div.sk-parallel-item:first-child::after {align-self: flex-end;width: 50%;}#sk-container-id-4 div.sk-parallel-item:last-child::after {align-self: flex-start;width: 50%;}#sk-container-id-4 div.sk-parallel-item:only-child::after {width: 0;}#sk-container-id-4 div.sk-dashed-wrapped {border: 1px dashed gray;margin: 0 0.4em 0.5em 0.4em;box-sizing: border-box;padding-bottom: 0.4em;background-color: white;}#sk-container-id-4 div.sk-label label {font-family: monospace;font-weight: bold;display: inline-block;line-height: 1.2em;}#sk-container-id-4 div.sk-label-container {text-align: center;}#sk-container-id-4 div.sk-container {/* jupyter's `normalize.less` sets `[hidden] { display: none; }` but bootstrap.min.css set `[hidden] { display: none !important; }` so we also need the `!important` here to be able to override the default hidden behavior on the sphinx rendered scikit-learn.org. See: https://github.com/scikit-learn/scikit-learn/issues/21755 */display: inline-block !important;position: relative;}#sk-container-id-4 div.sk-text-repr-fallback {display: none;}</style><div id=\"sk-container-id-4\" class=\"sk-top-container\"><div class=\"sk-text-repr-fallback\"><pre>RandomizedSearchCV(cv=5,\n",
       "                   estimator=XGBClassifier(base_score=None, booster=None,\n",
       "                                           callbacks=None,\n",
       "                                           colsample_bylevel=None,\n",
       "                                           colsample_bynode=None,\n",
       "                                           colsample_bytree=None, device=None,\n",
       "                                           early_stopping_rounds=None,\n",
       "                                           enable_categorical=False,\n",
       "                                           eval_metric=None, feature_types=None,\n",
       "                                           gamma=None, grow_policy=None,\n",
       "                                           importance_type=None,\n",
       "                                           interaction_constraints=None,\n",
       "                                           learning_rate...\n",
       "                                           max_leaves=None,\n",
       "                                           min_child_weight=None, missing=nan,\n",
       "                                           monotone_constraints=None,\n",
       "                                           multi_strategy=None,\n",
       "                                           n_estimators=None, n_jobs=None,\n",
       "                                           num_parallel_tree=None,\n",
       "                                           random_state=None, ...),\n",
       "                   n_iter=100,\n",
       "                   param_distributions={&#x27;colsample_bytree&#x27;: [0.5, 0.8, 1.0],\n",
       "                                        &#x27;learning_rate&#x27;: [0.01, 0.1, 0.3],\n",
       "                                        &#x27;max_depth&#x27;: [3, 5, 7],\n",
       "                                        &#x27;min_child_weight&#x27;: [1, 3, 5],\n",
       "                                        &#x27;subsample&#x27;: [0.5, 0.8, 1.0]},\n",
       "                   scoring=&#x27;accuracy&#x27;)</pre><b>In a Jupyter environment, please rerun this cell to show the HTML representation or trust the notebook. <br />On GitHub, the HTML representation is unable to render, please try loading this page with nbviewer.org.</b></div><div class=\"sk-container\" hidden><div class=\"sk-item sk-dashed-wrapped\"><div class=\"sk-label-container\"><div class=\"sk-label sk-toggleable\"><input class=\"sk-toggleable__control sk-hidden--visually\" id=\"sk-estimator-id-10\" type=\"checkbox\" ><label for=\"sk-estimator-id-10\" class=\"sk-toggleable__label sk-toggleable__label-arrow\">RandomizedSearchCV</label><div class=\"sk-toggleable__content\"><pre>RandomizedSearchCV(cv=5,\n",
       "                   estimator=XGBClassifier(base_score=None, booster=None,\n",
       "                                           callbacks=None,\n",
       "                                           colsample_bylevel=None,\n",
       "                                           colsample_bynode=None,\n",
       "                                           colsample_bytree=None, device=None,\n",
       "                                           early_stopping_rounds=None,\n",
       "                                           enable_categorical=False,\n",
       "                                           eval_metric=None, feature_types=None,\n",
       "                                           gamma=None, grow_policy=None,\n",
       "                                           importance_type=None,\n",
       "                                           interaction_constraints=None,\n",
       "                                           learning_rate...\n",
       "                                           max_leaves=None,\n",
       "                                           min_child_weight=None, missing=nan,\n",
       "                                           monotone_constraints=None,\n",
       "                                           multi_strategy=None,\n",
       "                                           n_estimators=None, n_jobs=None,\n",
       "                                           num_parallel_tree=None,\n",
       "                                           random_state=None, ...),\n",
       "                   n_iter=100,\n",
       "                   param_distributions={&#x27;colsample_bytree&#x27;: [0.5, 0.8, 1.0],\n",
       "                                        &#x27;learning_rate&#x27;: [0.01, 0.1, 0.3],\n",
       "                                        &#x27;max_depth&#x27;: [3, 5, 7],\n",
       "                                        &#x27;min_child_weight&#x27;: [1, 3, 5],\n",
       "                                        &#x27;subsample&#x27;: [0.5, 0.8, 1.0]},\n",
       "                   scoring=&#x27;accuracy&#x27;)</pre></div></div></div><div class=\"sk-parallel\"><div class=\"sk-parallel-item\"><div class=\"sk-item\"><div class=\"sk-label-container\"><div class=\"sk-label sk-toggleable\"><input class=\"sk-toggleable__control sk-hidden--visually\" id=\"sk-estimator-id-11\" type=\"checkbox\" ><label for=\"sk-estimator-id-11\" class=\"sk-toggleable__label sk-toggleable__label-arrow\">estimator: XGBClassifier</label><div class=\"sk-toggleable__content\"><pre>XGBClassifier(base_score=None, booster=None, callbacks=None,\n",
       "              colsample_bylevel=None, colsample_bynode=None,\n",
       "              colsample_bytree=None, device=None, early_stopping_rounds=None,\n",
       "              enable_categorical=False, eval_metric=None, feature_types=None,\n",
       "              gamma=None, grow_policy=None, importance_type=None,\n",
       "              interaction_constraints=None, learning_rate=None, max_bin=None,\n",
       "              max_cat_threshold=None, max_cat_to_onehot=None,\n",
       "              max_delta_step=None, max_depth=None, max_leaves=None,\n",
       "              min_child_weight=None, missing=nan, monotone_constraints=None,\n",
       "              multi_strategy=None, n_estimators=None, n_jobs=None,\n",
       "              num_parallel_tree=None, random_state=None, ...)</pre></div></div></div><div class=\"sk-serial\"><div class=\"sk-item\"><div class=\"sk-estimator sk-toggleable\"><input class=\"sk-toggleable__control sk-hidden--visually\" id=\"sk-estimator-id-12\" type=\"checkbox\" ><label for=\"sk-estimator-id-12\" class=\"sk-toggleable__label sk-toggleable__label-arrow\">XGBClassifier</label><div class=\"sk-toggleable__content\"><pre>XGBClassifier(base_score=None, booster=None, callbacks=None,\n",
       "              colsample_bylevel=None, colsample_bynode=None,\n",
       "              colsample_bytree=None, device=None, early_stopping_rounds=None,\n",
       "              enable_categorical=False, eval_metric=None, feature_types=None,\n",
       "              gamma=None, grow_policy=None, importance_type=None,\n",
       "              interaction_constraints=None, learning_rate=None, max_bin=None,\n",
       "              max_cat_threshold=None, max_cat_to_onehot=None,\n",
       "              max_delta_step=None, max_depth=None, max_leaves=None,\n",
       "              min_child_weight=None, missing=nan, monotone_constraints=None,\n",
       "              multi_strategy=None, n_estimators=None, n_jobs=None,\n",
       "              num_parallel_tree=None, random_state=None, ...)</pre></div></div></div></div></div></div></div></div></div></div>"
      ],
      "text/plain": [
       "RandomizedSearchCV(cv=5,\n",
       "                   estimator=XGBClassifier(base_score=None, booster=None,\n",
       "                                           callbacks=None,\n",
       "                                           colsample_bylevel=None,\n",
       "                                           colsample_bynode=None,\n",
       "                                           colsample_bytree=None, device=None,\n",
       "                                           early_stopping_rounds=None,\n",
       "                                           enable_categorical=False,\n",
       "                                           eval_metric=None, feature_types=None,\n",
       "                                           gamma=None, grow_policy=None,\n",
       "                                           importance_type=None,\n",
       "                                           interaction_constraints=None,\n",
       "                                           learning_rate...\n",
       "                                           max_leaves=None,\n",
       "                                           min_child_weight=None, missing=nan,\n",
       "                                           monotone_constraints=None,\n",
       "                                           multi_strategy=None,\n",
       "                                           n_estimators=None, n_jobs=None,\n",
       "                                           num_parallel_tree=None,\n",
       "                                           random_state=None, ...),\n",
       "                   n_iter=100,\n",
       "                   param_distributions={'colsample_bytree': [0.5, 0.8, 1.0],\n",
       "                                        'learning_rate': [0.01, 0.1, 0.3],\n",
       "                                        'max_depth': [3, 5, 7],\n",
       "                                        'min_child_weight': [1, 3, 5],\n",
       "                                        'subsample': [0.5, 0.8, 1.0]},\n",
       "                   scoring='accuracy')"
      ]
     },
     "execution_count": 53,
     "metadata": {},
     "output_type": "execute_result"
    }
   ],
   "source": [
    "# Train the model\n",
    "random_search_xgb.fit(X_train, y_train)"
   ]
  },
  {
   "cell_type": "code",
   "execution_count": 54,
   "id": "9b111c21",
   "metadata": {},
   "outputs": [
    {
     "name": "stdout",
     "output_type": "stream",
     "text": [
      "              precision    recall  f1-score   support\n",
      "\n",
      "           0       0.83      1.00      0.90        19\n",
      "           1       0.80      0.73      0.76        22\n",
      "           2       0.50      0.36      0.42        14\n",
      "           3       0.38      0.45      0.41        20\n",
      "           4       0.70      0.64      0.67        25\n",
      "\n",
      "    accuracy                           0.65       100\n",
      "   macro avg       0.64      0.63      0.63       100\n",
      "weighted avg       0.65      0.65      0.65       100\n",
      "\n"
     ]
    }
   ],
   "source": [
    "# Print Classification Report\n",
    "y_ped_xgb = random_search_rf.predict(X_test)\n",
    "print(classification_report(y_test, y_ped_xgb))"
   ]
  },
  {
   "cell_type": "code",
   "execution_count": 55,
   "id": "4239ee66",
   "metadata": {},
   "outputs": [
    {
     "name": "stdout",
     "output_type": "stream",
     "text": [
      "0.5605115202236649\n",
      "0.8562284306382224\n"
     ]
    }
   ],
   "source": [
    "# Print other metrics\n",
    "y_ped_xgb_proba = random_search_xgb.predict_proba(X_test)\n",
    "print(matthews_corrcoef(y_test, y_ped_xgb))\n",
    "print(roc_auc_score(y_test, y_ped_xgb_proba, multi_class='ovr'))"
   ]
  },
  {
   "cell_type": "code",
   "execution_count": 56,
   "id": "f6a1f016",
   "metadata": {},
   "outputs": [
    {
     "data": {
      "text/plain": [
       "{'subsample': 0.8,\n",
       " 'min_child_weight': 1,\n",
       " 'max_depth': 5,\n",
       " 'learning_rate': 0.3,\n",
       " 'colsample_bytree': 1.0}"
      ]
     },
     "execution_count": 56,
     "metadata": {},
     "output_type": "execute_result"
    }
   ],
   "source": [
    "# Best parameters\n",
    "random_search_xgb.best_params_"
   ]
  },
  {
   "cell_type": "markdown",
   "id": "6bad0f02",
   "metadata": {},
   "source": [
    "# Summaries"
   ]
  },
  {
   "cell_type": "code",
   "execution_count": 57,
   "id": "9981f933",
   "metadata": {},
   "outputs": [
    {
     "name": "stdout",
     "output_type": "stream",
     "text": [
      "KNN Model Training Accuracy: 98.25%\n",
      "KNN Model Testing Accuracy: 62.0%\n",
      "\n",
      "RandomForest Model Training Accuracy: 98.0 %\n",
      "RandomForest Model Testing Accuracy: 65.0 %\n",
      "\n",
      "XGBoost Model Training Accuracy: 98.25 %\n",
      "XGBoost Model Testing Accuracy: 59.0 %\n"
     ]
    }
   ],
   "source": [
    "# Precise Scores\n",
    "print(f'KNN Model Training Accuracy: {random_search_knn.score(X_train, y_train)*100}%')\n",
    "print(f'KNN Model Testing Accuracy: {random_search_knn.score(X_test, y_test)*100}%\\n')\n",
    "print(f'RandomForest Model Training Accuracy: {random_search_rf.score(X_train, y_train)*100} %')\n",
    "print(f'RandomForest Model Testing Accuracy: {random_search_rf.score(X_test, y_test)*100} %\\n')\n",
    "print(f'XGBoost Model Training Accuracy: {random_search_xgb.score(X_train, y_train)*100} %')\n",
    "print(f'XGBoost Model Testing Accuracy: {random_search_xgb.score(X_test, y_test)*100} %')"
   ]
  },
  {
   "cell_type": "code",
   "execution_count": null,
   "id": "7aaa7f8f",
   "metadata": {},
   "outputs": [],
   "source": []
  }
 ],
 "metadata": {
  "kernelspec": {
   "display_name": "Python 3 (ipykernel)",
   "language": "python",
   "name": "python3"
  },
  "language_info": {
   "codemirror_mode": {
    "name": "ipython",
    "version": 3
   },
   "file_extension": ".py",
   "mimetype": "text/x-python",
   "name": "python",
   "nbconvert_exporter": "python",
   "pygments_lexer": "ipython3",
   "version": "3.11.3"
  }
 },
 "nbformat": 4,
 "nbformat_minor": 5
}

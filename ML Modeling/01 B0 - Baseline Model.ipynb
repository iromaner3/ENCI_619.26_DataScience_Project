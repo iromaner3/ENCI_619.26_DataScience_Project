{
 "cells": [
  {
   "cell_type": "markdown",
   "id": "17b353af",
   "metadata": {},
   "source": [
    "# Baseline Model - Multinomial Logit (MNL)"
   ]
  },
  {
   "cell_type": "markdown",
   "id": "7faf9d13",
   "metadata": {},
   "source": [
    "## Importing Packages and Dataset"
   ]
  },
  {
   "cell_type": "code",
   "execution_count": 1,
   "id": "f52bcce6",
   "metadata": {},
   "outputs": [],
   "source": [
    "import pandas as pd\n",
    "import numpy as np\n",
    "import matplotlib.pyplot as plt\n",
    "import seaborn as sns\n",
    "import warnings\n",
    "from sklearn.preprocessing import OneHotEncoder, StandardScaler\n",
    "from sklearn.linear_model import LogisticRegression\n",
    "from sklearn.model_selection import train_test_split, RandomizedSearchCV\n",
    "from sklearn.metrics import confusion_matrix, classification_report, accuracy_score, recall_score, precision_score, f1_score\n",
    "pd.set_option('display.max_columns', None)\n",
    "pd.set_option('display.max_rows', None)\n",
    "warnings.filterwarnings('ignore')\n",
    "%matplotlib inline"
   ]
  },
  {
   "cell_type": "code",
   "execution_count": 2,
   "id": "f112cf04",
   "metadata": {},
   "outputs": [],
   "source": [
    "np.random.seed(100)"
   ]
  },
  {
   "cell_type": "code",
   "execution_count": 3,
   "id": "08dda1a7",
   "metadata": {},
   "outputs": [
    {
     "data": {
      "text/html": [
       "<div>\n",
       "<style scoped>\n",
       "    .dataframe tbody tr th:only-of-type {\n",
       "        vertical-align: middle;\n",
       "    }\n",
       "\n",
       "    .dataframe tbody tr th {\n",
       "        vertical-align: top;\n",
       "    }\n",
       "\n",
       "    .dataframe thead th {\n",
       "        text-align: right;\n",
       "    }\n",
       "</style>\n",
       "<table border=\"1\" class=\"dataframe\">\n",
       "  <thead>\n",
       "    <tr style=\"text-align: right;\">\n",
       "      <th></th>\n",
       "      <th>INDEX_</th>\n",
       "      <th>HOUR</th>\n",
       "      <th>DAYOFWEEK</th>\n",
       "      <th>VISIBILITY</th>\n",
       "      <th>LIGHT</th>\n",
       "      <th>RDSFCOND</th>\n",
       "      <th>TEMP</th>\n",
       "      <th>REL_HUMID</th>\n",
       "      <th>LOCCOORD</th>\n",
       "      <th>TRAFFCTL</th>\n",
       "      <th>ROADCLASS</th>\n",
       "      <th>SPEEDLMT</th>\n",
       "      <th>VEH_ADT</th>\n",
       "      <th>PED_ADT</th>\n",
       "      <th>LAND_USE</th>\n",
       "      <th>POP_2021</th>\n",
       "      <th>PRIV_DWELL</th>\n",
       "      <th>LAND_AREA</th>\n",
       "      <th>INVAGE</th>\n",
       "      <th>PEDCOND</th>\n",
       "      <th>PEDACT</th>\n",
       "      <th>VEHINV</th>\n",
       "      <th>VIOL</th>\n",
       "      <th>INJURY</th>\n",
       "    </tr>\n",
       "  </thead>\n",
       "  <tbody>\n",
       "    <tr>\n",
       "      <th>0</th>\n",
       "      <td>3366652</td>\n",
       "      <td>7</td>\n",
       "      <td>weekday</td>\n",
       "      <td>Other</td>\n",
       "      <td>Dark</td>\n",
       "      <td>Wet</td>\n",
       "      <td>1.5</td>\n",
       "      <td>0.99</td>\n",
       "      <td>Midblock</td>\n",
       "      <td>No Control</td>\n",
       "      <td>Major Arterial</td>\n",
       "      <td>60</td>\n",
       "      <td>498.0</td>\n",
       "      <td>219.0</td>\n",
       "      <td>Mixed Use</td>\n",
       "      <td>504</td>\n",
       "      <td>263</td>\n",
       "      <td>225</td>\n",
       "      <td>45 to 64</td>\n",
       "      <td>Distracted</td>\n",
       "      <td>Crossing without ROW</td>\n",
       "      <td>automobile</td>\n",
       "      <td>speeding</td>\n",
       "      <td>Major</td>\n",
       "    </tr>\n",
       "    <tr>\n",
       "      <th>1</th>\n",
       "      <td>3370334</td>\n",
       "      <td>19</td>\n",
       "      <td>weekday</td>\n",
       "      <td>Rain</td>\n",
       "      <td>Dark</td>\n",
       "      <td>Wet</td>\n",
       "      <td>4.8</td>\n",
       "      <td>1.00</td>\n",
       "      <td>Midblock</td>\n",
       "      <td>Traffic Signal including Transit</td>\n",
       "      <td>Major Arterial</td>\n",
       "      <td>60</td>\n",
       "      <td>351.0</td>\n",
       "      <td>63.0</td>\n",
       "      <td>Residential</td>\n",
       "      <td>452</td>\n",
       "      <td>205</td>\n",
       "      <td>183</td>\n",
       "      <td>Over 65</td>\n",
       "      <td>Normal</td>\n",
       "      <td>Crossing without ROW</td>\n",
       "      <td>automobile</td>\n",
       "      <td>speeding</td>\n",
       "      <td>Major</td>\n",
       "    </tr>\n",
       "  </tbody>\n",
       "</table>\n",
       "</div>"
      ],
      "text/plain": [
       "    INDEX_  HOUR DAYOFWEEK VISIBILITY LIGHT RDSFCOND  TEMP  REL_HUMID   \n",
       "0  3366652     7   weekday      Other  Dark      Wet   1.5       0.99  \\\n",
       "1  3370334    19   weekday       Rain  Dark      Wet   4.8       1.00   \n",
       "\n",
       "   LOCCOORD                          TRAFFCTL       ROADCLASS  SPEEDLMT   \n",
       "0  Midblock                        No Control  Major Arterial        60  \\\n",
       "1  Midblock  Traffic Signal including Transit  Major Arterial        60   \n",
       "\n",
       "   VEH_ADT  PED_ADT     LAND_USE  POP_2021  PRIV_DWELL  LAND_AREA    INVAGE   \n",
       "0    498.0    219.0    Mixed Use       504         263        225  45 to 64  \\\n",
       "1    351.0     63.0  Residential       452         205        183   Over 65   \n",
       "\n",
       "      PEDCOND                PEDACT      VEHINV      VIOL INJURY  \n",
       "0  Distracted  Crossing without ROW  automobile  speeding  Major  \n",
       "1      Normal  Crossing without ROW  automobile  speeding  Major  "
      ]
     },
     "execution_count": 3,
     "metadata": {},
     "output_type": "execute_result"
    }
   ],
   "source": [
    "DF = pd.read_csv('data_for_ml.csv')\n",
    "DF.head(2)"
   ]
  },
  {
   "cell_type": "code",
   "execution_count": 4,
   "id": "e2232d61",
   "metadata": {},
   "outputs": [
    {
     "data": {
      "text/html": [
       "<div>\n",
       "<style scoped>\n",
       "    .dataframe tbody tr th:only-of-type {\n",
       "        vertical-align: middle;\n",
       "    }\n",
       "\n",
       "    .dataframe tbody tr th {\n",
       "        vertical-align: top;\n",
       "    }\n",
       "\n",
       "    .dataframe thead th {\n",
       "        text-align: right;\n",
       "    }\n",
       "</style>\n",
       "<table border=\"1\" class=\"dataframe\">\n",
       "  <thead>\n",
       "    <tr style=\"text-align: right;\">\n",
       "      <th></th>\n",
       "      <th>HOUR</th>\n",
       "      <th>DAYOFWEEK</th>\n",
       "      <th>VISIBILITY</th>\n",
       "      <th>LIGHT</th>\n",
       "      <th>RDSFCOND</th>\n",
       "      <th>TEMP</th>\n",
       "      <th>REL_HUMID</th>\n",
       "      <th>LOCCOORD</th>\n",
       "      <th>TRAFFCTL</th>\n",
       "      <th>ROADCLASS</th>\n",
       "      <th>SPEEDLMT</th>\n",
       "      <th>VEH_ADT</th>\n",
       "      <th>PED_ADT</th>\n",
       "      <th>LAND_USE</th>\n",
       "      <th>POP_2021</th>\n",
       "      <th>PRIV_DWELL</th>\n",
       "      <th>LAND_AREA</th>\n",
       "      <th>INVAGE</th>\n",
       "      <th>PEDCOND</th>\n",
       "      <th>PEDACT</th>\n",
       "      <th>VEHINV</th>\n",
       "      <th>VIOL</th>\n",
       "      <th>INJURY</th>\n",
       "    </tr>\n",
       "  </thead>\n",
       "  <tbody>\n",
       "    <tr>\n",
       "      <th>0</th>\n",
       "      <td>7</td>\n",
       "      <td>weekday</td>\n",
       "      <td>Other</td>\n",
       "      <td>Dark</td>\n",
       "      <td>Wet</td>\n",
       "      <td>1.5</td>\n",
       "      <td>0.99</td>\n",
       "      <td>Midblock</td>\n",
       "      <td>No Control</td>\n",
       "      <td>Major Arterial</td>\n",
       "      <td>60</td>\n",
       "      <td>498.0</td>\n",
       "      <td>219.0</td>\n",
       "      <td>Mixed Use</td>\n",
       "      <td>504</td>\n",
       "      <td>263</td>\n",
       "      <td>225</td>\n",
       "      <td>45 to 64</td>\n",
       "      <td>Distracted</td>\n",
       "      <td>Crossing without ROW</td>\n",
       "      <td>automobile</td>\n",
       "      <td>speeding</td>\n",
       "      <td>Major</td>\n",
       "    </tr>\n",
       "  </tbody>\n",
       "</table>\n",
       "</div>"
      ],
      "text/plain": [
       "   HOUR DAYOFWEEK VISIBILITY LIGHT RDSFCOND  TEMP  REL_HUMID  LOCCOORD   \n",
       "0     7   weekday      Other  Dark      Wet   1.5       0.99  Midblock  \\\n",
       "\n",
       "     TRAFFCTL       ROADCLASS  SPEEDLMT  VEH_ADT  PED_ADT   LAND_USE   \n",
       "0  No Control  Major Arterial        60    498.0    219.0  Mixed Use  \\\n",
       "\n",
       "   POP_2021  PRIV_DWELL  LAND_AREA    INVAGE     PEDCOND   \n",
       "0       504         263        225  45 to 64  Distracted  \\\n",
       "\n",
       "                 PEDACT      VEHINV      VIOL INJURY  \n",
       "0  Crossing without ROW  automobile  speeding  Major  "
      ]
     },
     "execution_count": 4,
     "metadata": {},
     "output_type": "execute_result"
    }
   ],
   "source": [
    "df = DF.drop('INDEX_',axis=1)\n",
    "df.head(1)"
   ]
  },
  {
   "cell_type": "code",
   "execution_count": 5,
   "id": "2ea2dede",
   "metadata": {},
   "outputs": [
    {
     "data": {
      "text/html": [
       "<div>\n",
       "<style scoped>\n",
       "    .dataframe tbody tr th:only-of-type {\n",
       "        vertical-align: middle;\n",
       "    }\n",
       "\n",
       "    .dataframe tbody tr th {\n",
       "        vertical-align: top;\n",
       "    }\n",
       "\n",
       "    .dataframe thead th {\n",
       "        text-align: right;\n",
       "    }\n",
       "</style>\n",
       "<table border=\"1\" class=\"dataframe\">\n",
       "  <thead>\n",
       "    <tr style=\"text-align: right;\">\n",
       "      <th></th>\n",
       "      <th>HOUR</th>\n",
       "      <th>DAYOFWEEK</th>\n",
       "      <th>VISIBILITY</th>\n",
       "      <th>LIGHT</th>\n",
       "      <th>RDSFCOND</th>\n",
       "      <th>TEMP</th>\n",
       "      <th>REL_HUMID</th>\n",
       "      <th>LOCCOORD</th>\n",
       "      <th>TRAFFCTL</th>\n",
       "      <th>ROADCLASS</th>\n",
       "      <th>SPEEDLMT</th>\n",
       "      <th>VEH_ADT</th>\n",
       "      <th>PED_ADT</th>\n",
       "      <th>LAND_USE</th>\n",
       "      <th>POP_2021</th>\n",
       "      <th>PRIV_DWELL</th>\n",
       "      <th>LAND_AREA</th>\n",
       "      <th>INVAGE</th>\n",
       "      <th>PEDCOND</th>\n",
       "      <th>PEDACT</th>\n",
       "      <th>VEHINV</th>\n",
       "      <th>VIOL</th>\n",
       "      <th>INJURY</th>\n",
       "    </tr>\n",
       "  </thead>\n",
       "  <tbody>\n",
       "    <tr>\n",
       "      <th>0</th>\n",
       "      <td>7</td>\n",
       "      <td>weekday</td>\n",
       "      <td>Other</td>\n",
       "      <td>Dark</td>\n",
       "      <td>Wet</td>\n",
       "      <td>1.5</td>\n",
       "      <td>0.99</td>\n",
       "      <td>Midblock</td>\n",
       "      <td>No Control</td>\n",
       "      <td>Major Arterial</td>\n",
       "      <td>60</td>\n",
       "      <td>498.0</td>\n",
       "      <td>219.0</td>\n",
       "      <td>Mixed Use</td>\n",
       "      <td>504</td>\n",
       "      <td>263</td>\n",
       "      <td>225</td>\n",
       "      <td>45 to 64</td>\n",
       "      <td>Distracted</td>\n",
       "      <td>Crossing without ROW</td>\n",
       "      <td>automobile</td>\n",
       "      <td>speeding</td>\n",
       "      <td>3</td>\n",
       "    </tr>\n",
       "  </tbody>\n",
       "</table>\n",
       "</div>"
      ],
      "text/plain": [
       "   HOUR DAYOFWEEK VISIBILITY LIGHT RDSFCOND  TEMP  REL_HUMID  LOCCOORD   \n",
       "0     7   weekday      Other  Dark      Wet   1.5       0.99  Midblock  \\\n",
       "\n",
       "     TRAFFCTL       ROADCLASS  SPEEDLMT  VEH_ADT  PED_ADT   LAND_USE   \n",
       "0  No Control  Major Arterial        60    498.0    219.0  Mixed Use  \\\n",
       "\n",
       "   POP_2021  PRIV_DWELL  LAND_AREA    INVAGE     PEDCOND   \n",
       "0       504         263        225  45 to 64  Distracted  \\\n",
       "\n",
       "                 PEDACT      VEHINV      VIOL  INJURY  \n",
       "0  Crossing without ROW  automobile  speeding       3  "
      ]
     },
     "execution_count": 5,
     "metadata": {},
     "output_type": "execute_result"
    }
   ],
   "source": [
    "# Integer encode the INJURY column\n",
    "injury_map = {\n",
    "    'Fatal' : 4,\n",
    "    'Major' : 3,\n",
    "    'Minor' : 2,\n",
    "    'Minimal' : 1,\n",
    "    np.nan : 0\n",
    "}\n",
    "df['INJURY'] = df['INJURY'].replace(injury_map).astype(int)\n",
    "df.head(1)"
   ]
  },
  {
   "cell_type": "markdown",
   "id": "47356b8c",
   "metadata": {},
   "source": [
    "# Data Preprocessing for ML"
   ]
  },
  {
   "cell_type": "code",
   "execution_count": 6,
   "id": "5c69a1cc",
   "metadata": {},
   "outputs": [],
   "source": [
    "# Split into X and y variables\n",
    "X = df.iloc[:, :-1].values\n",
    "y = df.iloc[:,-1].values"
   ]
  },
  {
   "cell_type": "code",
   "execution_count": 7,
   "id": "62eedd08",
   "metadata": {},
   "outputs": [],
   "source": [
    "# One hot encode the categorical columns\n",
    "cat_columns_index = [1, 2, 3, 4, 7, 8, 9, 13, 17, 18, 19, 20, 21]\n",
    "encoder = OneHotEncoder(categories='auto', sparse=False, handle_unknown='ignore')\n",
    "X_cat = encoder.fit_transform(X[:, cat_columns_index])"
   ]
  },
  {
   "cell_type": "code",
   "execution_count": 8,
   "id": "562cc4b0",
   "metadata": {},
   "outputs": [
    {
     "name": "stdout",
     "output_type": "stream",
     "text": [
      "[[1.0 0.0 0.0 ... 504 263 225]\n",
      " [1.0 0.0 0.0 ... 452 205 183]\n",
      " [1.0 0.0 1.0 ... 807 375 322]\n",
      " ...\n",
      " [1.0 0.0 0.0 ... 482 252 231]\n",
      " [0.0 1.0 1.0 ... 1981 1195 1112]\n",
      " [1.0 0.0 1.0 ... 1170 482 467]]\n"
     ]
    }
   ],
   "source": [
    "# Combine the categorical and numerical columns\n",
    "num_columns_index = [0, 5, 6, 10, 11, 12, 14, 15, 16]\n",
    "X_encoded = np.concatenate((X_cat, X[:, num_columns_index]), axis=1)\n",
    "print(X_encoded)"
   ]
  },
  {
   "cell_type": "code",
   "execution_count": 9,
   "id": "176f0ec9",
   "metadata": {},
   "outputs": [],
   "source": [
    "# Split encoded X and y to train test split\n",
    "X_train, X_test, y_train, y_test = train_test_split(X_encoded, y, test_size=0.20, random_state=100)"
   ]
  },
  {
   "cell_type": "code",
   "execution_count": 10,
   "id": "e42fb1a1",
   "metadata": {},
   "outputs": [
    {
     "name": "stdout",
     "output_type": "stream",
     "text": [
      "[[1.0 0.0 1.0 ... -0.5867732574402085 -0.5265834440260664\n",
      "  -0.5226000650737648]\n",
      " [1.0 0.0 1.0 ... 2.0284752641268318 1.433142186594836 1.5585892351770785]\n",
      " [1.0 0.0 1.0 ... 1.7854821802357512 2.0608224248081974\n",
      "  2.0504771899165526]\n",
      " ...\n",
      " [1.0 0.0 0.0 ... -0.6056832250581914 -0.4655195294487484\n",
      "  -0.4803918577363841]\n",
      " [1.0 0.0 0.0 ... -0.32297920916934647 -0.45841907426533934\n",
      "  -0.4511707911181976]\n",
      " [0.0 1.0 1.0 ... -0.44400300192443726 -0.049432855700977114\n",
      "  -0.03395889551408934]]\n",
      "[[1.0 0.0 1.0 ... -0.6151382088671828 -0.5336838992094755\n",
      "  -0.5339638132030595]\n",
      " [0.0 1.0 1.0 ... -0.7739819368582396 -0.6714327297676114\n",
      "  -0.6833159314737909]\n",
      " [1.0 0.0 1.0 ... -0.37781811526149695 -0.3717935210277487\n",
      "  -0.36350759126363785]\n",
      " ...\n",
      " [1.0 0.0 1.0 ... -0.27570429012438913 0.1025168852239769\n",
      "  0.03260020067178006]\n",
      " [0.0 1.0 1.0 ... -0.6208111991525778 -0.4413779818251576\n",
      "  -0.4609111466575931]\n",
      " [1.0 0.0 1.0 ... -0.7248160210514839 -0.5919076317134297\n",
      "  -0.6005229093889289]]\n"
     ]
    }
   ],
   "source": [
    "# Scale the numerical features\n",
    "scaler = StandardScaler()\n",
    "X_train[:, -len(num_columns_index):] = scaler.fit_transform(X_train[:, -len(num_columns_index):])\n",
    "X_test[:, -len(num_columns_index):] = scaler.transform(X_test[:, -len(num_columns_index):])\n",
    "print(X_train)\n",
    "print(X_test)"
   ]
  },
  {
   "cell_type": "markdown",
   "id": "92b893c5",
   "metadata": {},
   "source": [
    "# Modeling"
   ]
  },
  {
   "cell_type": "code",
   "execution_count": 11,
   "id": "257ffba5",
   "metadata": {},
   "outputs": [],
   "source": [
    "# Parameter Grid\n",
    "param_grid = {\n",
    "    'solver' : ['lbfgs', 'newton-cg', 'saga'],\n",
    "    'penalty': ['l2', 'l1', 'elasticnet', 'none'],\n",
    "    'C': [0.001, 0.01, 0.1, 1, 10, 100],\n",
    "    'multi_class': ['ovr', 'multinomial']\n",
    "}"
   ]
  },
  {
   "cell_type": "code",
   "execution_count": 12,
   "id": "9f84ce51",
   "metadata": {},
   "outputs": [],
   "source": [
    "# Hyperparameter Tuning\n",
    "logreg = LogisticRegression()\n",
    "\n",
    "logreg_rs = RandomizedSearchCV(estimator=logreg,\n",
    "                                param_distributions=param_grid,\n",
    "                                n_iter = 100,\n",
    "                                cv = 5,\n",
    "                                scoring = 'accuracy',\n",
    "                                random_state=100)"
   ]
  },
  {
   "cell_type": "code",
   "execution_count": 13,
   "id": "2dae10ee",
   "metadata": {},
   "outputs": [
    {
     "data": {
      "text/html": [
       "<style>#sk-container-id-1 {color: black;}#sk-container-id-1 pre{padding: 0;}#sk-container-id-1 div.sk-toggleable {background-color: white;}#sk-container-id-1 label.sk-toggleable__label {cursor: pointer;display: block;width: 100%;margin-bottom: 0;padding: 0.3em;box-sizing: border-box;text-align: center;}#sk-container-id-1 label.sk-toggleable__label-arrow:before {content: \"▸\";float: left;margin-right: 0.25em;color: #696969;}#sk-container-id-1 label.sk-toggleable__label-arrow:hover:before {color: black;}#sk-container-id-1 div.sk-estimator:hover label.sk-toggleable__label-arrow:before {color: black;}#sk-container-id-1 div.sk-toggleable__content {max-height: 0;max-width: 0;overflow: hidden;text-align: left;background-color: #f0f8ff;}#sk-container-id-1 div.sk-toggleable__content pre {margin: 0.2em;color: black;border-radius: 0.25em;background-color: #f0f8ff;}#sk-container-id-1 input.sk-toggleable__control:checked~div.sk-toggleable__content {max-height: 200px;max-width: 100%;overflow: auto;}#sk-container-id-1 input.sk-toggleable__control:checked~label.sk-toggleable__label-arrow:before {content: \"▾\";}#sk-container-id-1 div.sk-estimator input.sk-toggleable__control:checked~label.sk-toggleable__label {background-color: #d4ebff;}#sk-container-id-1 div.sk-label input.sk-toggleable__control:checked~label.sk-toggleable__label {background-color: #d4ebff;}#sk-container-id-1 input.sk-hidden--visually {border: 0;clip: rect(1px 1px 1px 1px);clip: rect(1px, 1px, 1px, 1px);height: 1px;margin: -1px;overflow: hidden;padding: 0;position: absolute;width: 1px;}#sk-container-id-1 div.sk-estimator {font-family: monospace;background-color: #f0f8ff;border: 1px dotted black;border-radius: 0.25em;box-sizing: border-box;margin-bottom: 0.5em;}#sk-container-id-1 div.sk-estimator:hover {background-color: #d4ebff;}#sk-container-id-1 div.sk-parallel-item::after {content: \"\";width: 100%;border-bottom: 1px solid gray;flex-grow: 1;}#sk-container-id-1 div.sk-label:hover label.sk-toggleable__label {background-color: #d4ebff;}#sk-container-id-1 div.sk-serial::before {content: \"\";position: absolute;border-left: 1px solid gray;box-sizing: border-box;top: 0;bottom: 0;left: 50%;z-index: 0;}#sk-container-id-1 div.sk-serial {display: flex;flex-direction: column;align-items: center;background-color: white;padding-right: 0.2em;padding-left: 0.2em;position: relative;}#sk-container-id-1 div.sk-item {position: relative;z-index: 1;}#sk-container-id-1 div.sk-parallel {display: flex;align-items: stretch;justify-content: center;background-color: white;position: relative;}#sk-container-id-1 div.sk-item::before, #sk-container-id-1 div.sk-parallel-item::before {content: \"\";position: absolute;border-left: 1px solid gray;box-sizing: border-box;top: 0;bottom: 0;left: 50%;z-index: -1;}#sk-container-id-1 div.sk-parallel-item {display: flex;flex-direction: column;z-index: 1;position: relative;background-color: white;}#sk-container-id-1 div.sk-parallel-item:first-child::after {align-self: flex-end;width: 50%;}#sk-container-id-1 div.sk-parallel-item:last-child::after {align-self: flex-start;width: 50%;}#sk-container-id-1 div.sk-parallel-item:only-child::after {width: 0;}#sk-container-id-1 div.sk-dashed-wrapped {border: 1px dashed gray;margin: 0 0.4em 0.5em 0.4em;box-sizing: border-box;padding-bottom: 0.4em;background-color: white;}#sk-container-id-1 div.sk-label label {font-family: monospace;font-weight: bold;display: inline-block;line-height: 1.2em;}#sk-container-id-1 div.sk-label-container {text-align: center;}#sk-container-id-1 div.sk-container {/* jupyter's `normalize.less` sets `[hidden] { display: none; }` but bootstrap.min.css set `[hidden] { display: none !important; }` so we also need the `!important` here to be able to override the default hidden behavior on the sphinx rendered scikit-learn.org. See: https://github.com/scikit-learn/scikit-learn/issues/21755 */display: inline-block !important;position: relative;}#sk-container-id-1 div.sk-text-repr-fallback {display: none;}</style><div id=\"sk-container-id-1\" class=\"sk-top-container\"><div class=\"sk-text-repr-fallback\"><pre>RandomizedSearchCV(cv=5, estimator=LogisticRegression(), n_iter=100,\n",
       "                   param_distributions={&#x27;C&#x27;: [0.001, 0.01, 0.1, 1, 10, 100],\n",
       "                                        &#x27;multi_class&#x27;: [&#x27;ovr&#x27;, &#x27;multinomial&#x27;],\n",
       "                                        &#x27;penalty&#x27;: [&#x27;l2&#x27;, &#x27;l1&#x27;, &#x27;elasticnet&#x27;,\n",
       "                                                    &#x27;none&#x27;],\n",
       "                                        &#x27;solver&#x27;: [&#x27;lbfgs&#x27;, &#x27;newton-cg&#x27;,\n",
       "                                                   &#x27;saga&#x27;]},\n",
       "                   random_state=100, scoring=&#x27;accuracy&#x27;)</pre><b>In a Jupyter environment, please rerun this cell to show the HTML representation or trust the notebook. <br />On GitHub, the HTML representation is unable to render, please try loading this page with nbviewer.org.</b></div><div class=\"sk-container\" hidden><div class=\"sk-item sk-dashed-wrapped\"><div class=\"sk-label-container\"><div class=\"sk-label sk-toggleable\"><input class=\"sk-toggleable__control sk-hidden--visually\" id=\"sk-estimator-id-1\" type=\"checkbox\" ><label for=\"sk-estimator-id-1\" class=\"sk-toggleable__label sk-toggleable__label-arrow\">RandomizedSearchCV</label><div class=\"sk-toggleable__content\"><pre>RandomizedSearchCV(cv=5, estimator=LogisticRegression(), n_iter=100,\n",
       "                   param_distributions={&#x27;C&#x27;: [0.001, 0.01, 0.1, 1, 10, 100],\n",
       "                                        &#x27;multi_class&#x27;: [&#x27;ovr&#x27;, &#x27;multinomial&#x27;],\n",
       "                                        &#x27;penalty&#x27;: [&#x27;l2&#x27;, &#x27;l1&#x27;, &#x27;elasticnet&#x27;,\n",
       "                                                    &#x27;none&#x27;],\n",
       "                                        &#x27;solver&#x27;: [&#x27;lbfgs&#x27;, &#x27;newton-cg&#x27;,\n",
       "                                                   &#x27;saga&#x27;]},\n",
       "                   random_state=100, scoring=&#x27;accuracy&#x27;)</pre></div></div></div><div class=\"sk-parallel\"><div class=\"sk-parallel-item\"><div class=\"sk-item\"><div class=\"sk-label-container\"><div class=\"sk-label sk-toggleable\"><input class=\"sk-toggleable__control sk-hidden--visually\" id=\"sk-estimator-id-2\" type=\"checkbox\" ><label for=\"sk-estimator-id-2\" class=\"sk-toggleable__label sk-toggleable__label-arrow\">estimator: LogisticRegression</label><div class=\"sk-toggleable__content\"><pre>LogisticRegression()</pre></div></div></div><div class=\"sk-serial\"><div class=\"sk-item\"><div class=\"sk-estimator sk-toggleable\"><input class=\"sk-toggleable__control sk-hidden--visually\" id=\"sk-estimator-id-3\" type=\"checkbox\" ><label for=\"sk-estimator-id-3\" class=\"sk-toggleable__label sk-toggleable__label-arrow\">LogisticRegression</label><div class=\"sk-toggleable__content\"><pre>LogisticRegression()</pre></div></div></div></div></div></div></div></div></div></div>"
      ],
      "text/plain": [
       "RandomizedSearchCV(cv=5, estimator=LogisticRegression(), n_iter=100,\n",
       "                   param_distributions={'C': [0.001, 0.01, 0.1, 1, 10, 100],\n",
       "                                        'multi_class': ['ovr', 'multinomial'],\n",
       "                                        'penalty': ['l2', 'l1', 'elasticnet',\n",
       "                                                    'none'],\n",
       "                                        'solver': ['lbfgs', 'newton-cg',\n",
       "                                                   'saga']},\n",
       "                   random_state=100, scoring='accuracy')"
      ]
     },
     "execution_count": 13,
     "metadata": {},
     "output_type": "execute_result"
    }
   ],
   "source": [
    "logreg_rs.fit(X_train, y_train)"
   ]
  },
  {
   "cell_type": "markdown",
   "id": "ad400eb2",
   "metadata": {},
   "source": [
    "## Model Performance"
   ]
  },
  {
   "cell_type": "code",
   "execution_count": 14,
   "id": "96105cdc",
   "metadata": {},
   "outputs": [
    {
     "name": "stdout",
     "output_type": "stream",
     "text": [
      "Training Accuracy: 78.23%\n",
      "Test Accuracy: 76.57%\n",
      "Precision: 67.30%\n",
      "Recall: 76.57%\n",
      "F1 Score: 70.81%\n",
      "\n",
      "Confusion Matrix:\n",
      "[[  0   0   0   6   0]\n",
      " [  0   0   0  14   0]\n",
      " [  0   0   0  17   3]\n",
      " [  0   0   0 464  24]\n",
      " [  0   0   0  82  13]]\n",
      "\n"
     ]
    },
    {
     "data": {
      "text/plain": [
       "<Axes: >"
      ]
     },
     "execution_count": 14,
     "metadata": {},
     "output_type": "execute_result"
    },
    {
     "data": {
      "image/png": "[encoded data removed]",
      "text/plain": [
       "<Figure size 640x480 with 2 Axes>"
      ]
     },
     "metadata": {},
     "output_type": "display_data"
    }
   ],
   "source": [
    "y_pred = logreg_rs.predict(X_test)\n",
    "# Training and Testing Accuracy Score\n",
    "print(f\"Training Accuracy: {logreg_rs.best_score_*100:.2f}%\")\n",
    "print(f\"Test Accuracy: {accuracy_score(y_test, y_pred)*100:.2f}%\")\n",
    "# Other Metrics\n",
    "print(f\"Precision: {precision_score(y_test, y_pred, average='weighted')*100:.2f}%\")\n",
    "print(f\"Recall: {recall_score(y_test, y_pred, average='weighted')*100:.2f}%\")\n",
    "print(f\"F1 Score: {f1_score(y_test, y_pred, average='weighted')*100:.2f}%\\n\")\n",
    "# Confusion Matrix\n",
    "print(f\"Confusion Matrix:\")\n",
    "cm = confusion_matrix(y_test, y_pred)\n",
    "print(f\"{cm}\\n\")\n",
    "sns.heatmap(cm, annot=True, fmt='g', cmap='plasma')"
   ]
  },
  {
   "cell_type": "code",
   "execution_count": 15,
   "id": "aa93ae7b",
   "metadata": {},
   "outputs": [
    {
     "data": {
      "text/plain": [
       "{'solver': 'saga', 'penalty': 'none', 'multi_class': 'ovr', 'C': 0.001}"
      ]
     },
     "execution_count": 15,
     "metadata": {},
     "output_type": "execute_result"
    }
   ],
   "source": [
    "# Best Parameters\n",
    "logreg_rs.best_params_"
   ]
  },
  {
   "cell_type": "markdown",
   "id": "31515a68",
   "metadata": {},
   "source": [
    "# Binary Outcome Predictions"
   ]
  },
  {
   "cell_type": "code",
   "execution_count": 19,
   "id": "c8144f13",
   "metadata": {},
   "outputs": [
    {
     "data": {
      "text/html": [
       "<div>\n",
       "<style scoped>\n",
       "    .dataframe tbody tr th:only-of-type {\n",
       "        vertical-align: middle;\n",
       "    }\n",
       "\n",
       "    .dataframe tbody tr th {\n",
       "        vertical-align: top;\n",
       "    }\n",
       "\n",
       "    .dataframe thead th {\n",
       "        text-align: right;\n",
       "    }\n",
       "</style>\n",
       "<table border=\"1\" class=\"dataframe\">\n",
       "  <thead>\n",
       "    <tr style=\"text-align: right;\">\n",
       "      <th></th>\n",
       "      <th>HOUR</th>\n",
       "      <th>DAYOFWEEK</th>\n",
       "      <th>VISIBILITY</th>\n",
       "      <th>LIGHT</th>\n",
       "      <th>RDSFCOND</th>\n",
       "      <th>TEMP</th>\n",
       "      <th>REL_HUMID</th>\n",
       "      <th>LOCCOORD</th>\n",
       "      <th>TRAFFCTL</th>\n",
       "      <th>ROADCLASS</th>\n",
       "      <th>SPEEDLMT</th>\n",
       "      <th>VEH_ADT</th>\n",
       "      <th>PED_ADT</th>\n",
       "      <th>LAND_USE</th>\n",
       "      <th>POP_2021</th>\n",
       "      <th>PRIV_DWELL</th>\n",
       "      <th>LAND_AREA</th>\n",
       "      <th>INVAGE</th>\n",
       "      <th>PEDCOND</th>\n",
       "      <th>PEDACT</th>\n",
       "      <th>VEHINV</th>\n",
       "      <th>VIOL</th>\n",
       "      <th>INJURY</th>\n",
       "    </tr>\n",
       "  </thead>\n",
       "  <tbody>\n",
       "    <tr>\n",
       "      <th>0</th>\n",
       "      <td>7</td>\n",
       "      <td>weekday</td>\n",
       "      <td>Other</td>\n",
       "      <td>Dark</td>\n",
       "      <td>Wet</td>\n",
       "      <td>1.5</td>\n",
       "      <td>0.99</td>\n",
       "      <td>Midblock</td>\n",
       "      <td>No Control</td>\n",
       "      <td>Major Arterial</td>\n",
       "      <td>60</td>\n",
       "      <td>498.0</td>\n",
       "      <td>219.0</td>\n",
       "      <td>Mixed Use</td>\n",
       "      <td>504</td>\n",
       "      <td>263</td>\n",
       "      <td>225</td>\n",
       "      <td>45 to 64</td>\n",
       "      <td>Distracted</td>\n",
       "      <td>Crossing without ROW</td>\n",
       "      <td>automobile</td>\n",
       "      <td>speeding</td>\n",
       "      <td>0</td>\n",
       "    </tr>\n",
       "  </tbody>\n",
       "</table>\n",
       "</div>"
      ],
      "text/plain": [
       "   HOUR DAYOFWEEK VISIBILITY LIGHT RDSFCOND  TEMP  REL_HUMID  LOCCOORD   \n",
       "0     7   weekday      Other  Dark      Wet   1.5       0.99  Midblock  \\\n",
       "\n",
       "     TRAFFCTL       ROADCLASS  SPEEDLMT  VEH_ADT  PED_ADT   LAND_USE   \n",
       "0  No Control  Major Arterial        60    498.0    219.0  Mixed Use  \\\n",
       "\n",
       "   POP_2021  PRIV_DWELL  LAND_AREA    INVAGE     PEDCOND   \n",
       "0       504         263        225  45 to 64  Distracted  \\\n",
       "\n",
       "                 PEDACT      VEHINV      VIOL  INJURY  \n",
       "0  Crossing without ROW  automobile  speeding       0  "
      ]
     },
     "execution_count": 19,
     "metadata": {},
     "output_type": "execute_result"
    }
   ],
   "source": [
    "alt_df = pd.read_csv('data_for_ml.csv')\n",
    "alt_df = alt_df.drop('INDEX_',axis=1)\n",
    "# Binary integer encode, 1 as fatal and 0 as non-fatal\n",
    "injury_binary = {\n",
    "    'Fatal' : 1,\n",
    "    'Major' : 0,\n",
    "    'Minor' : 0,\n",
    "    'Minimal' : 0,\n",
    "    np.nan : 0\n",
    "}\n",
    "# Replace\n",
    "alt_df['INJURY'] = alt_df['INJURY'].replace(injury_binary).astype(int)\n",
    "alt_df.head(1)"
   ]
  },
  {
   "cell_type": "markdown",
   "id": "df8e875a",
   "metadata": {},
   "source": [
    "## Preprocessing"
   ]
  },
  {
   "cell_type": "code",
   "execution_count": 20,
   "id": "06a0a3f7",
   "metadata": {},
   "outputs": [
    {
     "name": "stdout",
     "output_type": "stream",
     "text": [
      "Explanatory Variable Train Set Dimension: (2490, 83)\n",
      "Explanatory Variable Test Set Dimension: (623, 83)\n"
     ]
    }
   ],
   "source": [
    "# Split into X and y variables\n",
    "X = alt_df.iloc[:, :-1].values\n",
    "y = alt_df.iloc[:,-1].values\n",
    "\n",
    "# One hot encode the categorical columns\n",
    "cat_columns_index = [1, 2, 3, 4, 7, 8, 9, 13, 17, 18, 19, 20, 21]\n",
    "encoder = OneHotEncoder(categories='auto', sparse=False, handle_unknown='ignore')\n",
    "X_cat = encoder.fit_transform(X[:, cat_columns_index])\n",
    "\n",
    "# Combine the categorical and numerical columns\n",
    "num_columns_index = [0, 5, 6, 10, 11, 12, 14, 15, 16]\n",
    "X_encoded = np.concatenate((X_cat, X[:, num_columns_index]), axis=1)\n",
    "\n",
    "# Split encoded X and y to train test split\n",
    "X_train2, X_test2, y_train2, y_test2 = train_test_split(X_encoded, y, test_size=0.20, random_state=100)\n",
    "\n",
    "# Scale the numerical features\n",
    "scaler = StandardScaler()\n",
    "X_train2[:, -len(num_columns_index):] = scaler.fit_transform(X_train2[:, -len(num_columns_index):])\n",
    "X_test2[:, -len(num_columns_index):] = scaler.transform(X_test2[:, -len(num_columns_index):])\n",
    "print(f\"Explanatory Variable Train Set Dimension: {X_train2.shape}\")\n",
    "print(f\"Explanatory Variable Test Set Dimension: {X_test2.shape}\")"
   ]
  },
  {
   "cell_type": "markdown",
   "id": "9a7e4532",
   "metadata": {},
   "source": [
    "## Modeling"
   ]
  },
  {
   "cell_type": "code",
   "execution_count": 21,
   "id": "16d7d35e",
   "metadata": {},
   "outputs": [
    {
     "data": {
      "text/html": [
       "<style>#sk-container-id-2 {color: black;}#sk-container-id-2 pre{padding: 0;}#sk-container-id-2 div.sk-toggleable {background-color: white;}#sk-container-id-2 label.sk-toggleable__label {cursor: pointer;display: block;width: 100%;margin-bottom: 0;padding: 0.3em;box-sizing: border-box;text-align: center;}#sk-container-id-2 label.sk-toggleable__label-arrow:before {content: \"▸\";float: left;margin-right: 0.25em;color: #696969;}#sk-container-id-2 label.sk-toggleable__label-arrow:hover:before {color: black;}#sk-container-id-2 div.sk-estimator:hover label.sk-toggleable__label-arrow:before {color: black;}#sk-container-id-2 div.sk-toggleable__content {max-height: 0;max-width: 0;overflow: hidden;text-align: left;background-color: #f0f8ff;}#sk-container-id-2 div.sk-toggleable__content pre {margin: 0.2em;color: black;border-radius: 0.25em;background-color: #f0f8ff;}#sk-container-id-2 input.sk-toggleable__control:checked~div.sk-toggleable__content {max-height: 200px;max-width: 100%;overflow: auto;}#sk-container-id-2 input.sk-toggleable__control:checked~label.sk-toggleable__label-arrow:before {content: \"▾\";}#sk-container-id-2 div.sk-estimator input.sk-toggleable__control:checked~label.sk-toggleable__label {background-color: #d4ebff;}#sk-container-id-2 div.sk-label input.sk-toggleable__control:checked~label.sk-toggleable__label {background-color: #d4ebff;}#sk-container-id-2 input.sk-hidden--visually {border: 0;clip: rect(1px 1px 1px 1px);clip: rect(1px, 1px, 1px, 1px);height: 1px;margin: -1px;overflow: hidden;padding: 0;position: absolute;width: 1px;}#sk-container-id-2 div.sk-estimator {font-family: monospace;background-color: #f0f8ff;border: 1px dotted black;border-radius: 0.25em;box-sizing: border-box;margin-bottom: 0.5em;}#sk-container-id-2 div.sk-estimator:hover {background-color: #d4ebff;}#sk-container-id-2 div.sk-parallel-item::after {content: \"\";width: 100%;border-bottom: 1px solid gray;flex-grow: 1;}#sk-container-id-2 div.sk-label:hover label.sk-toggleable__label {background-color: #d4ebff;}#sk-container-id-2 div.sk-serial::before {content: \"\";position: absolute;border-left: 1px solid gray;box-sizing: border-box;top: 0;bottom: 0;left: 50%;z-index: 0;}#sk-container-id-2 div.sk-serial {display: flex;flex-direction: column;align-items: center;background-color: white;padding-right: 0.2em;padding-left: 0.2em;position: relative;}#sk-container-id-2 div.sk-item {position: relative;z-index: 1;}#sk-container-id-2 div.sk-parallel {display: flex;align-items: stretch;justify-content: center;background-color: white;position: relative;}#sk-container-id-2 div.sk-item::before, #sk-container-id-2 div.sk-parallel-item::before {content: \"\";position: absolute;border-left: 1px solid gray;box-sizing: border-box;top: 0;bottom: 0;left: 50%;z-index: -1;}#sk-container-id-2 div.sk-parallel-item {display: flex;flex-direction: column;z-index: 1;position: relative;background-color: white;}#sk-container-id-2 div.sk-parallel-item:first-child::after {align-self: flex-end;width: 50%;}#sk-container-id-2 div.sk-parallel-item:last-child::after {align-self: flex-start;width: 50%;}#sk-container-id-2 div.sk-parallel-item:only-child::after {width: 0;}#sk-container-id-2 div.sk-dashed-wrapped {border: 1px dashed gray;margin: 0 0.4em 0.5em 0.4em;box-sizing: border-box;padding-bottom: 0.4em;background-color: white;}#sk-container-id-2 div.sk-label label {font-family: monospace;font-weight: bold;display: inline-block;line-height: 1.2em;}#sk-container-id-2 div.sk-label-container {text-align: center;}#sk-container-id-2 div.sk-container {/* jupyter's `normalize.less` sets `[hidden] { display: none; }` but bootstrap.min.css set `[hidden] { display: none !important; }` so we also need the `!important` here to be able to override the default hidden behavior on the sphinx rendered scikit-learn.org. See: https://github.com/scikit-learn/scikit-learn/issues/21755 */display: inline-block !important;position: relative;}#sk-container-id-2 div.sk-text-repr-fallback {display: none;}</style><div id=\"sk-container-id-2\" class=\"sk-top-container\"><div class=\"sk-text-repr-fallback\"><pre>RandomizedSearchCV(cv=5, estimator=LogisticRegression(), n_iter=100,\n",
       "                   param_distributions={&#x27;C&#x27;: [0.001, 0.01, 0.1, 1, 10, 100,\n",
       "                                              1000],\n",
       "                                        &#x27;penalty&#x27;: [&#x27;l1&#x27;, &#x27;l2&#x27;],\n",
       "                                        &#x27;solver&#x27;: [&#x27;newton-cg&#x27;, &#x27;lbfgs&#x27;,\n",
       "                                                   &#x27;liblinear&#x27;, &#x27;sag&#x27;,\n",
       "                                                   &#x27;saga&#x27;]},\n",
       "                   random_state=100, scoring=&#x27;accuracy&#x27;)</pre><b>In a Jupyter environment, please rerun this cell to show the HTML representation or trust the notebook. <br />On GitHub, the HTML representation is unable to render, please try loading this page with nbviewer.org.</b></div><div class=\"sk-container\" hidden><div class=\"sk-item sk-dashed-wrapped\"><div class=\"sk-label-container\"><div class=\"sk-label sk-toggleable\"><input class=\"sk-toggleable__control sk-hidden--visually\" id=\"sk-estimator-id-4\" type=\"checkbox\" ><label for=\"sk-estimator-id-4\" class=\"sk-toggleable__label sk-toggleable__label-arrow\">RandomizedSearchCV</label><div class=\"sk-toggleable__content\"><pre>RandomizedSearchCV(cv=5, estimator=LogisticRegression(), n_iter=100,\n",
       "                   param_distributions={&#x27;C&#x27;: [0.001, 0.01, 0.1, 1, 10, 100,\n",
       "                                              1000],\n",
       "                                        &#x27;penalty&#x27;: [&#x27;l1&#x27;, &#x27;l2&#x27;],\n",
       "                                        &#x27;solver&#x27;: [&#x27;newton-cg&#x27;, &#x27;lbfgs&#x27;,\n",
       "                                                   &#x27;liblinear&#x27;, &#x27;sag&#x27;,\n",
       "                                                   &#x27;saga&#x27;]},\n",
       "                   random_state=100, scoring=&#x27;accuracy&#x27;)</pre></div></div></div><div class=\"sk-parallel\"><div class=\"sk-parallel-item\"><div class=\"sk-item\"><div class=\"sk-label-container\"><div class=\"sk-label sk-toggleable\"><input class=\"sk-toggleable__control sk-hidden--visually\" id=\"sk-estimator-id-5\" type=\"checkbox\" ><label for=\"sk-estimator-id-5\" class=\"sk-toggleable__label sk-toggleable__label-arrow\">estimator: LogisticRegression</label><div class=\"sk-toggleable__content\"><pre>LogisticRegression()</pre></div></div></div><div class=\"sk-serial\"><div class=\"sk-item\"><div class=\"sk-estimator sk-toggleable\"><input class=\"sk-toggleable__control sk-hidden--visually\" id=\"sk-estimator-id-6\" type=\"checkbox\" ><label for=\"sk-estimator-id-6\" class=\"sk-toggleable__label sk-toggleable__label-arrow\">LogisticRegression</label><div class=\"sk-toggleable__content\"><pre>LogisticRegression()</pre></div></div></div></div></div></div></div></div></div></div>"
      ],
      "text/plain": [
       "RandomizedSearchCV(cv=5, estimator=LogisticRegression(), n_iter=100,\n",
       "                   param_distributions={'C': [0.001, 0.01, 0.1, 1, 10, 100,\n",
       "                                              1000],\n",
       "                                        'penalty': ['l1', 'l2'],\n",
       "                                        'solver': ['newton-cg', 'lbfgs',\n",
       "                                                   'liblinear', 'sag',\n",
       "                                                   'saga']},\n",
       "                   random_state=100, scoring='accuracy')"
      ]
     },
     "execution_count": 21,
     "metadata": {},
     "output_type": "execute_result"
    }
   ],
   "source": [
    "# Parameter Grid\n",
    "param_grid_binary = {\n",
    "    'C': [0.001, 0.01, 0.1, 1, 10, 100, 1000],\n",
    "    'penalty': ['l1', 'l2'],\n",
    "    'solver': ['newton-cg', 'lbfgs', 'liblinear', 'sag', 'saga']\n",
    "}\n",
    "\n",
    "# Hyperparameter Tuning\n",
    "logreg_binary = LogisticRegression()\n",
    "\n",
    "logreg_rs_binary = RandomizedSearchCV(estimator=logreg_binary,\n",
    "                                param_distributions=param_grid_binary,\n",
    "                                n_iter = 100,\n",
    "                                cv = 5,\n",
    "                                scoring = 'accuracy',\n",
    "                                random_state=100)\n",
    "\n",
    "# Fit the model\n",
    "logreg_rs_binary.fit(X_train2, y_train2)"
   ]
  },
  {
   "cell_type": "code",
   "execution_count": 24,
   "id": "983b9438",
   "metadata": {},
   "outputs": [
    {
     "name": "stdout",
     "output_type": "stream",
     "text": [
      "Training Accuracy: 84.18%\n",
      "Test Accuracy: 82.83%\n",
      "Precision: 78.09%\n",
      "Recall: 82.83%\n",
      "F1 Score: 79.58%\n",
      "\n",
      "Confusion Matrix:\n",
      "[[503  25]\n",
      " [ 82  13]]\n",
      "\n"
     ]
    },
    {
     "data": {
      "text/plain": [
       "Text(50.722222222222214, 0.5, 'Actual Label')"
      ]
     },
     "execution_count": 24,
     "metadata": {},
     "output_type": "execute_result"
    },
    {
     "data": {
      "image/png": "[encoded data removed]",
      "text/plain": [
       "<Figure size 640x480 with 2 Axes>"
      ]
     },
     "metadata": {},
     "output_type": "display_data"
    }
   ],
   "source": [
    "# Performance metrics\n",
    "y_pred2 = logreg_rs_binary.predict(X_test2)\n",
    "# Training and Testing Accuracy Score\n",
    "print(f\"Training Accuracy: {logreg_rs_binary.best_score_*100:.2f}%\")\n",
    "print(f\"Test Accuracy: {accuracy_score(y_test2, y_pred2)*100:.2f}%\")\n",
    "# Other Metrics\n",
    "print(f\"Precision: {precision_score(y_test2, y_pred2, average='weighted')*100:.2f}%\")\n",
    "print(f\"Recall: {recall_score(y_test2, y_pred2, average='weighted')*100:.2f}%\")\n",
    "print(f\"F1 Score: {f1_score(y_test2, y_pred2, average='weighted')*100:.2f}%\\n\")\n",
    "# Confusion Matrix\n",
    "print(f\"Confusion Matrix:\")\n",
    "cm = confusion_matrix(y_test2, y_pred2)\n",
    "print(f\"{cm}\\n\")\n",
    "sns.heatmap(cm, annot=True, fmt='g', cmap='coolwarm')\n",
    "plt.xlabel('Predicted Label')\n",
    "plt.ylabel('Actual Label')"
   ]
  },
  {
   "cell_type": "code",
   "execution_count": null,
   "id": "6de45753",
   "metadata": {},
   "outputs": [],
   "source": []
  }
 ],
 "metadata": {
  "kernelspec": {
   "display_name": "Python 3 (ipykernel)",
   "language": "python",
   "name": "python3"
  },
  "language_info": {
   "codemirror_mode": {
    "name": "ipython",
    "version": 3
   },
   "file_extension": ".py",
   "mimetype": "text/x-python",
   "name": "python",
   "nbconvert_exporter": "python",
   "pygments_lexer": "ipython3",
   "version": "3.11.3"
  }
 },
 "nbformat": 4,
 "nbformat_minor": 5
}

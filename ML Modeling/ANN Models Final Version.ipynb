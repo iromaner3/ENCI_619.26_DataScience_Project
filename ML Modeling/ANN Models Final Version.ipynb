{
 "cells": [
  {
   "cell_type": "markdown",
   "id": "a3a5d76b",
   "metadata": {},
   "source": [
    "# Artificial Neural Network (ANN) Model for Pedestrian Injury Severity\n",
    "\n",
    "This notebook aims to perform neural network training on the processed dataset for predicting the pedestrian injury severity. The unique values in the target variables are Fatal (4), Major (3), Minor (2), Minimal (1), and None (0) which means we will be performing a *multiclassification* exercise. This notebook is outline as follows:\n",
    "\n",
    "1. Import Data and Preprocessing\n",
    "2. Neural Network (NN) Training\n",
    "3. Performance Metrics\n",
    "\n",
    "We are hoping that atleast one of these models will yield more than 78% accuracy as observed from the conventional Machine Learning (ML) models"
   ]
  },
  {
   "cell_type": "markdown",
   "id": "692ffd24",
   "metadata": {},
   "source": [
    "# 1. Import Data and Preprocessing"
   ]
  },
  {
   "cell_type": "markdown",
   "id": "af1ed1da",
   "metadata": {},
   "source": [
    "## 1.1. Load Necessary Packages"
   ]
  },
  {
   "cell_type": "code",
   "execution_count": 1,
   "id": "7d8bb802",
   "metadata": {},
   "outputs": [],
   "source": [
    "# PACKAGES\n",
    "# Neural Networks\n",
    "import tensorflow as tf\n",
    "from tensorflow.keras.layers import Dense, Input, Dropout\n",
    "from tensorflow.keras.models import Sequential\n",
    "from tensorflow.keras.losses import SparseCategoricalCrossentropy\n",
    "from tensorflow.keras.regularizers import L2, L1\n",
    "from tensorflow.keras.callbacks import EarlyStopping\n",
    "from tensorflow.keras.optimizers import Adam\n",
    "# Data Analysis, Manipulation and Visualization\n",
    "import pandas as pd\n",
    "import numpy as np\n",
    "import matplotlib.pyplot as plt\n",
    "# Transformation, Preprocessing, and Model Metrics\n",
    "from sklearn.model_selection import train_test_split\n",
    "from sklearn.preprocessing import StandardScaler, OneHotEncoder\n",
    "from sklearn.metrics import f1_score, precision_score, recall_score\n",
    "# Other Packages\n",
    "import warnings\n",
    "pd.set_option('display.max_columns', None)\n",
    "pd.set_option('display.max_rows', None)\n",
    "warnings.filterwarnings('ignore')\n",
    "%matplotlib inline"
   ]
  },
  {
   "cell_type": "markdown",
   "id": "6e00031a",
   "metadata": {},
   "source": [
    "## 1.2. Load Data for Preprocessing"
   ]
  },
  {
   "cell_type": "code",
   "execution_count": 2,
   "id": "15236ba2",
   "metadata": {},
   "outputs": [],
   "source": [
    "np.random.seed(100)"
   ]
  },
  {
   "cell_type": "code",
   "execution_count": 3,
   "id": "752a48d1",
   "metadata": {},
   "outputs": [
    {
     "data": {
      "text/html": [
       "<div>\n",
       "<style scoped>\n",
       "    .dataframe tbody tr th:only-of-type {\n",
       "        vertical-align: middle;\n",
       "    }\n",
       "\n",
       "    .dataframe tbody tr th {\n",
       "        vertical-align: top;\n",
       "    }\n",
       "\n",
       "    .dataframe thead th {\n",
       "        text-align: right;\n",
       "    }\n",
       "</style>\n",
       "<table border=\"1\" class=\"dataframe\">\n",
       "  <thead>\n",
       "    <tr style=\"text-align: right;\">\n",
       "      <th></th>\n",
       "      <th>HOUR</th>\n",
       "      <th>DAYOFWEEK</th>\n",
       "      <th>VISIBILITY</th>\n",
       "      <th>LIGHT</th>\n",
       "      <th>RDSFCOND</th>\n",
       "      <th>TEMP</th>\n",
       "      <th>REL_HUMID</th>\n",
       "      <th>LOCCOORD</th>\n",
       "      <th>TRAFFCTL</th>\n",
       "      <th>ROADCLASS</th>\n",
       "      <th>SPEEDLMT</th>\n",
       "      <th>VEH_ADT</th>\n",
       "      <th>PED_ADT</th>\n",
       "      <th>LAND_USE</th>\n",
       "      <th>POP_2021</th>\n",
       "      <th>PRIV_DWELL</th>\n",
       "      <th>LAND_AREA</th>\n",
       "      <th>INVAGE</th>\n",
       "      <th>PEDCOND</th>\n",
       "      <th>PEDACT</th>\n",
       "      <th>VEHINV</th>\n",
       "      <th>VIOL</th>\n",
       "      <th>INJURY</th>\n",
       "    </tr>\n",
       "  </thead>\n",
       "  <tbody>\n",
       "    <tr>\n",
       "      <th>0</th>\n",
       "      <td>7</td>\n",
       "      <td>weekday</td>\n",
       "      <td>Other</td>\n",
       "      <td>Dark</td>\n",
       "      <td>Wet</td>\n",
       "      <td>1.5</td>\n",
       "      <td>0.99</td>\n",
       "      <td>Midblock</td>\n",
       "      <td>No Control</td>\n",
       "      <td>Major Arterial</td>\n",
       "      <td>60</td>\n",
       "      <td>498.0</td>\n",
       "      <td>219.0</td>\n",
       "      <td>Mixed Use</td>\n",
       "      <td>504</td>\n",
       "      <td>263</td>\n",
       "      <td>225</td>\n",
       "      <td>45 to 64</td>\n",
       "      <td>Distracted</td>\n",
       "      <td>Crossing without ROW</td>\n",
       "      <td>automobile</td>\n",
       "      <td>speeding</td>\n",
       "      <td>3</td>\n",
       "    </tr>\n",
       "    <tr>\n",
       "      <th>1</th>\n",
       "      <td>19</td>\n",
       "      <td>weekday</td>\n",
       "      <td>Rain</td>\n",
       "      <td>Dark</td>\n",
       "      <td>Wet</td>\n",
       "      <td>4.8</td>\n",
       "      <td>1.00</td>\n",
       "      <td>Midblock</td>\n",
       "      <td>Traffic Signal including Transit</td>\n",
       "      <td>Major Arterial</td>\n",
       "      <td>60</td>\n",
       "      <td>351.0</td>\n",
       "      <td>63.0</td>\n",
       "      <td>Residential</td>\n",
       "      <td>452</td>\n",
       "      <td>205</td>\n",
       "      <td>183</td>\n",
       "      <td>Over 65</td>\n",
       "      <td>Normal</td>\n",
       "      <td>Crossing without ROW</td>\n",
       "      <td>automobile</td>\n",
       "      <td>speeding</td>\n",
       "      <td>3</td>\n",
       "    </tr>\n",
       "    <tr>\n",
       "      <th>2</th>\n",
       "      <td>22</td>\n",
       "      <td>weekday</td>\n",
       "      <td>Clear</td>\n",
       "      <td>Dark</td>\n",
       "      <td>Dry</td>\n",
       "      <td>-5.8</td>\n",
       "      <td>0.67</td>\n",
       "      <td>Intersection</td>\n",
       "      <td>Traffic Signal including Transit</td>\n",
       "      <td>Major Arterial</td>\n",
       "      <td>60</td>\n",
       "      <td>650.0</td>\n",
       "      <td>50.0</td>\n",
       "      <td>Residential</td>\n",
       "      <td>807</td>\n",
       "      <td>375</td>\n",
       "      <td>322</td>\n",
       "      <td>15 to 29</td>\n",
       "      <td>Distracted</td>\n",
       "      <td>Crossing with ROW</td>\n",
       "      <td>automobile</td>\n",
       "      <td>speeding</td>\n",
       "      <td>3</td>\n",
       "    </tr>\n",
       "    <tr>\n",
       "      <th>3</th>\n",
       "      <td>18</td>\n",
       "      <td>weekend</td>\n",
       "      <td>Clear</td>\n",
       "      <td>Dark</td>\n",
       "      <td>Dry</td>\n",
       "      <td>2.4</td>\n",
       "      <td>0.76</td>\n",
       "      <td>Intersection</td>\n",
       "      <td>Pedestrian Crossover</td>\n",
       "      <td>Major Arterial</td>\n",
       "      <td>60</td>\n",
       "      <td>437.0</td>\n",
       "      <td>8.0</td>\n",
       "      <td>Residential</td>\n",
       "      <td>907</td>\n",
       "      <td>315</td>\n",
       "      <td>305</td>\n",
       "      <td>Under 15</td>\n",
       "      <td>Normal</td>\n",
       "      <td>Crossing with ROW</td>\n",
       "      <td>automobile</td>\n",
       "      <td>aggressive driving</td>\n",
       "      <td>4</td>\n",
       "    </tr>\n",
       "    <tr>\n",
       "      <th>4</th>\n",
       "      <td>14</td>\n",
       "      <td>weekday</td>\n",
       "      <td>Clear</td>\n",
       "      <td>Daylight</td>\n",
       "      <td>Dry</td>\n",
       "      <td>3.5</td>\n",
       "      <td>0.78</td>\n",
       "      <td>Intersection</td>\n",
       "      <td>Traffic Signal including Transit</td>\n",
       "      <td>Major Arterial</td>\n",
       "      <td>60</td>\n",
       "      <td>903.0</td>\n",
       "      <td>43.0</td>\n",
       "      <td>Residential</td>\n",
       "      <td>974</td>\n",
       "      <td>371</td>\n",
       "      <td>364</td>\n",
       "      <td>Over 65</td>\n",
       "      <td>Unknown</td>\n",
       "      <td>Crossing without ROW</td>\n",
       "      <td>automobile</td>\n",
       "      <td>speeding</td>\n",
       "      <td>4</td>\n",
       "    </tr>\n",
       "  </tbody>\n",
       "</table>\n",
       "</div>"
      ],
      "text/plain": [
       "   HOUR DAYOFWEEK VISIBILITY     LIGHT RDSFCOND  TEMP  REL_HUMID   \n",
       "0     7   weekday      Other      Dark      Wet   1.5       0.99  \\\n",
       "1    19   weekday       Rain      Dark      Wet   4.8       1.00   \n",
       "2    22   weekday      Clear      Dark      Dry  -5.8       0.67   \n",
       "3    18   weekend      Clear      Dark      Dry   2.4       0.76   \n",
       "4    14   weekday      Clear  Daylight      Dry   3.5       0.78   \n",
       "\n",
       "       LOCCOORD                          TRAFFCTL       ROADCLASS  SPEEDLMT   \n",
       "0      Midblock                        No Control  Major Arterial        60  \\\n",
       "1      Midblock  Traffic Signal including Transit  Major Arterial        60   \n",
       "2  Intersection  Traffic Signal including Transit  Major Arterial        60   \n",
       "3  Intersection              Pedestrian Crossover  Major Arterial        60   \n",
       "4  Intersection  Traffic Signal including Transit  Major Arterial        60   \n",
       "\n",
       "   VEH_ADT  PED_ADT     LAND_USE  POP_2021  PRIV_DWELL  LAND_AREA    INVAGE   \n",
       "0    498.0    219.0    Mixed Use       504         263        225  45 to 64  \\\n",
       "1    351.0     63.0  Residential       452         205        183   Over 65   \n",
       "2    650.0     50.0  Residential       807         375        322  15 to 29   \n",
       "3    437.0      8.0  Residential       907         315        305  Under 15   \n",
       "4    903.0     43.0  Residential       974         371        364   Over 65   \n",
       "\n",
       "      PEDCOND                PEDACT      VEHINV                VIOL  INJURY  \n",
       "0  Distracted  Crossing without ROW  automobile            speeding       3  \n",
       "1      Normal  Crossing without ROW  automobile            speeding       3  \n",
       "2  Distracted     Crossing with ROW  automobile            speeding       3  \n",
       "3      Normal     Crossing with ROW  automobile  aggressive driving       4  \n",
       "4     Unknown  Crossing without ROW  automobile            speeding       4  "
      ]
     },
     "execution_count": 3,
     "metadata": {},
     "output_type": "execute_result"
    }
   ],
   "source": [
    "# Import data\n",
    "df = pd.read_csv('data_for_ml.csv')\n",
    "# Drop the 'INDEX_' column, we will not be using it\n",
    "df = df.drop('INDEX_', axis=1)\n",
    "# Create a mapping dictionary to label encode the target variable ('INJURY')\n",
    "injury = {\n",
    "    'Fatal' : 4,\n",
    "    'Major' : 3,\n",
    "    'Minor' : 2,\n",
    "    'Minimal' : 1,\n",
    "    np.nan : 0\n",
    "}\n",
    "df['INJURY'] = df['INJURY'].replace(injury).astype('int64')\n",
    "# Review first 5 records\n",
    "df.head()"
   ]
  },
  {
   "cell_type": "markdown",
   "id": "c1503af7",
   "metadata": {},
   "source": [
    "## 1.3. Preprocessing / Transformation / Reduction"
   ]
  },
  {
   "cell_type": "markdown",
   "id": "72eacc15",
   "metadata": {},
   "source": [
    "*Split into X and y values*"
   ]
  },
  {
   "cell_type": "code",
   "execution_count": 4,
   "id": "ec68e022",
   "metadata": {},
   "outputs": [],
   "source": [
    "X = df.iloc[:,:-1].values\n",
    "y = df.iloc[:,-1].values"
   ]
  },
  {
   "cell_type": "markdown",
   "id": "a0547b0e",
   "metadata": {},
   "source": [
    "*One Hot Encode the Categorical Variables for efficient modeling*"
   ]
  },
  {
   "cell_type": "code",
   "execution_count": 5,
   "id": "3016528f",
   "metadata": {},
   "outputs": [
    {
     "name": "stdout",
     "output_type": "stream",
     "text": [
      "[[1. 0. 1. ... 0. 0. 1.]\n",
      " [0. 1. 0. ... 0. 0. 1.]\n",
      " [0. 1. 1. ... 0. 0. 1.]\n",
      " ...\n",
      " [1. 0. 0. ... 0. 0. 0.]\n",
      " [0. 1. 1. ... 0. 0. 0.]\n",
      " [1. 0. 1. ... 0. 0. 1.]]\n"
     ]
    }
   ],
   "source": [
    "categorical_columns = [1, 2, 3, 4, 7, 8, 9, 13, 17, 18, 19, 20, 21]\n",
    "encoder = OneHotEncoder(categories='auto', sparse=False, handle_unknown='ignore')\n",
    "X_categorical = encoder.fit_transform(X[:, categorical_columns])\n",
    "print(X_categorical[5:])"
   ]
  },
  {
   "cell_type": "markdown",
   "id": "16e6affc",
   "metadata": {},
   "source": [
    "*Now that we have performed the binary encoding, we need to combine the `X_categorical` variable to the rest of the variables (i.e., numerical)*"
   ]
  },
  {
   "cell_type": "code",
   "execution_count": 6,
   "id": "a5ef104a",
   "metadata": {},
   "outputs": [
    {
     "name": "stdout",
     "output_type": "stream",
     "text": [
      "[[1.000e+00 0.000e+00 1.000e+00 ... 4.740e+02 1.470e+02 1.470e+02]\n",
      " [0.000e+00 1.000e+00 0.000e+00 ... 4.020e+02 1.480e+02 1.400e+02]\n",
      " [0.000e+00 1.000e+00 1.000e+00 ... 4.890e+02 2.550e+02 2.300e+02]\n",
      " ...\n",
      " [1.000e+00 0.000e+00 0.000e+00 ... 4.820e+02 2.520e+02 2.310e+02]\n",
      " [0.000e+00 1.000e+00 1.000e+00 ... 1.981e+03 1.195e+03 1.112e+03]\n",
      " [1.000e+00 0.000e+00 1.000e+00 ... 1.170e+03 4.820e+02 4.670e+02]]\n"
     ]
    }
   ],
   "source": [
    "numerical_columns = [0, 5, 6, 10, 11, 12, 14, 15, 16]\n",
    "X_encoded = np.concatenate((X_categorical, X[:, numerical_columns].astype(float)), axis=1)\n",
    "print(X_encoded[5:])"
   ]
  },
  {
   "cell_type": "markdown",
   "id": "8513e4d5",
   "metadata": {},
   "source": [
    "*Split into train and test data. We will be using 80-20 split (i.e., 80% train set and 20% test set)*"
   ]
  },
  {
   "cell_type": "code",
   "execution_count": 7,
   "id": "200c7b56",
   "metadata": {},
   "outputs": [],
   "source": [
    "X_train, X_test, y_train, y_test = train_test_split(X_encoded, y, test_size=0.20, random_state=100)"
   ]
  },
  {
   "cell_type": "markdown",
   "id": "f13baa7c",
   "metadata": {},
   "source": [
    "*Finally, we need to scale the numerical features for both the train and test attributes*"
   ]
  },
  {
   "cell_type": "code",
   "execution_count": 8,
   "id": "231fdd6f",
   "metadata": {},
   "outputs": [
    {
     "name": "stdout",
     "output_type": "stream",
     "text": [
      "X_train dimension: (2490, 83)\n",
      "X_test dimension: (623, 83)\n"
     ]
    }
   ],
   "source": [
    "scaler = StandardScaler()\n",
    "X_train[:, -len(numerical_columns):] = scaler.fit_transform(X_train[:, -len(numerical_columns):])\n",
    "X_test[:, -len(numerical_columns):] = scaler.transform(X_test[:, -len(numerical_columns):])\n",
    "# Print the dimensions of both X_train and X_test \n",
    "print(f'X_train dimension: {X_train.shape}')\n",
    "print(f'X_test dimension: {X_test.shape}')"
   ]
  },
  {
   "cell_type": "markdown",
   "id": "8ab899d2",
   "metadata": {},
   "source": [
    "*We may have 22 attributes (13 categorical and 9 numerical) but as shown in the dimension in both train and test set that we have 83 input units for our neural network models*"
   ]
  },
  {
   "cell_type": "markdown",
   "id": "623a7ac4",
   "metadata": {},
   "source": [
    "# 2. Neural Network (NN) Modeling\n",
    "\n",
    "We will be constructing two (2) NN architecture to experiment. Here are some values used in constructing the NN:\n",
    "\n",
    "1. All hidden layer activation function is `ReLU` with the output layer activation function as `linear` for the multiclassification exercise.\n",
    "2. All hidden layer must have 65 nodes with alternating dropout layer with dropout rate of 10% (0.1)\n",
    "3. L2 regularization is applied to the output layer to reduce overfitting. Regularization rate applied was 0.01.\n",
    "4. Adam optimizer is used with learning_rate equal to 0.01 with epoch equal to 100\n",
    "5. Sparse Categorical Crossentropy is the loss function\n",
    "\n",
    "We also need to seet a random seed for reproducibility."
   ]
  },
  {
   "cell_type": "code",
   "execution_count": 9,
   "id": "2af3ad76",
   "metadata": {},
   "outputs": [],
   "source": [
    "tf.random.set_seed(100)"
   ]
  },
  {
   "cell_type": "code",
   "execution_count": 30,
   "id": "566e13c4",
   "metadata": {},
   "outputs": [],
   "source": [
    "early_stopping = EarlyStopping(monitor='val_accuracy', patience=20, restore_best_weights=True)"
   ]
  },
  {
   "cell_type": "markdown",
   "id": "af70e4dc",
   "metadata": {},
   "source": [
    "## 2.1. Design 1 - 2 Hidden Layers"
   ]
  },
  {
   "cell_type": "code",
   "execution_count": 31,
   "id": "2d52a390",
   "metadata": {},
   "outputs": [
    {
     "name": "stdout",
     "output_type": "stream",
     "text": [
      "Epoch 1/100\n",
      "78/78 [==============================] - 1s 3ms/step - loss: 0.9380 - accuracy: 0.7614 - val_loss: 0.7520 - val_accuracy: 0.7817\n",
      "Epoch 2/100\n",
      "78/78 [==============================] - 0s 2ms/step - loss: 0.7199 - accuracy: 0.7823 - val_loss: 0.7311 - val_accuracy: 0.7753\n",
      "Epoch 3/100\n",
      "78/78 [==============================] - 0s 2ms/step - loss: 0.6995 - accuracy: 0.7815 - val_loss: 0.7365 - val_accuracy: 0.7689\n",
      "Epoch 4/100\n",
      "78/78 [==============================] - 0s 2ms/step - loss: 0.7032 - accuracy: 0.7755 - val_loss: 0.7276 - val_accuracy: 0.7769\n",
      "Epoch 5/100\n",
      "78/78 [==============================] - 0s 2ms/step - loss: 0.6845 - accuracy: 0.7892 - val_loss: 0.7333 - val_accuracy: 0.7705\n",
      "Epoch 6/100\n",
      "78/78 [==============================] - 0s 2ms/step - loss: 0.6758 - accuracy: 0.7851 - val_loss: 0.7329 - val_accuracy: 0.7769\n",
      "Epoch 7/100\n",
      "78/78 [==============================] - 0s 2ms/step - loss: 0.6651 - accuracy: 0.7823 - val_loss: 0.7298 - val_accuracy: 0.7785\n",
      "Epoch 8/100\n",
      "78/78 [==============================] - 0s 2ms/step - loss: 0.6490 - accuracy: 0.7932 - val_loss: 0.7616 - val_accuracy: 0.7416\n",
      "Epoch 9/100\n",
      "78/78 [==============================] - 0s 2ms/step - loss: 0.6594 - accuracy: 0.7896 - val_loss: 0.7665 - val_accuracy: 0.7368\n",
      "Epoch 10/100\n",
      "78/78 [==============================] - 0s 2ms/step - loss: 0.6533 - accuracy: 0.7992 - val_loss: 0.7244 - val_accuracy: 0.7689\n",
      "Epoch 11/100\n",
      "78/78 [==============================] - 0s 2ms/step - loss: 0.6511 - accuracy: 0.7924 - val_loss: 0.7287 - val_accuracy: 0.7689\n",
      "Epoch 12/100\n",
      "78/78 [==============================] - 0s 2ms/step - loss: 0.6449 - accuracy: 0.7936 - val_loss: 0.7141 - val_accuracy: 0.7785\n",
      "Epoch 13/100\n",
      "78/78 [==============================] - 0s 2ms/step - loss: 0.6350 - accuracy: 0.7964 - val_loss: 0.7205 - val_accuracy: 0.7849\n",
      "Epoch 14/100\n",
      "78/78 [==============================] - 0s 2ms/step - loss: 0.6286 - accuracy: 0.7984 - val_loss: 0.7234 - val_accuracy: 0.7737\n",
      "Epoch 15/100\n",
      "78/78 [==============================] - 0s 2ms/step - loss: 0.6263 - accuracy: 0.8008 - val_loss: 0.7253 - val_accuracy: 0.7753\n",
      "Epoch 16/100\n",
      "78/78 [==============================] - 0s 2ms/step - loss: 0.6246 - accuracy: 0.7984 - val_loss: 0.7288 - val_accuracy: 0.7801\n",
      "Epoch 17/100\n",
      "78/78 [==============================] - 0s 2ms/step - loss: 0.6377 - accuracy: 0.7920 - val_loss: 0.7351 - val_accuracy: 0.7849\n",
      "Epoch 18/100\n",
      "78/78 [==============================] - 0s 2ms/step - loss: 0.6179 - accuracy: 0.8000 - val_loss: 0.7331 - val_accuracy: 0.7640\n",
      "Epoch 19/100\n",
      "78/78 [==============================] - 0s 2ms/step - loss: 0.6252 - accuracy: 0.7984 - val_loss: 0.7390 - val_accuracy: 0.7817\n",
      "Epoch 20/100\n",
      "78/78 [==============================] - 0s 2ms/step - loss: 0.6173 - accuracy: 0.7996 - val_loss: 0.7267 - val_accuracy: 0.7721\n",
      "Epoch 21/100\n",
      "78/78 [==============================] - 0s 2ms/step - loss: 0.6170 - accuracy: 0.8016 - val_loss: 0.7301 - val_accuracy: 0.7640\n",
      "Epoch 22/100\n",
      "78/78 [==============================] - 0s 2ms/step - loss: 0.6151 - accuracy: 0.8008 - val_loss: 0.7588 - val_accuracy: 0.7384\n",
      "Epoch 23/100\n",
      "78/78 [==============================] - 0s 2ms/step - loss: 0.6205 - accuracy: 0.7992 - val_loss: 0.7290 - val_accuracy: 0.7624\n",
      "Epoch 24/100\n",
      "78/78 [==============================] - 0s 2ms/step - loss: 0.6109 - accuracy: 0.8036 - val_loss: 0.7445 - val_accuracy: 0.7560\n",
      "Epoch 25/100\n",
      "78/78 [==============================] - 0s 2ms/step - loss: 0.6192 - accuracy: 0.7984 - val_loss: 0.7502 - val_accuracy: 0.7512\n",
      "Epoch 26/100\n",
      "78/78 [==============================] - 0s 2ms/step - loss: 0.6156 - accuracy: 0.8008 - val_loss: 0.7306 - val_accuracy: 0.7576\n",
      "Epoch 27/100\n",
      "78/78 [==============================] - 0s 2ms/step - loss: 0.6077 - accuracy: 0.8088 - val_loss: 0.7390 - val_accuracy: 0.7705\n",
      "Epoch 28/100\n",
      "78/78 [==============================] - 0s 2ms/step - loss: 0.6126 - accuracy: 0.8032 - val_loss: 0.7349 - val_accuracy: 0.7849\n",
      "Epoch 29/100\n",
      "78/78 [==============================] - 0s 2ms/step - loss: 0.6125 - accuracy: 0.8044 - val_loss: 0.7232 - val_accuracy: 0.7785\n",
      "Epoch 30/100\n",
      "78/78 [==============================] - 0s 2ms/step - loss: 0.6164 - accuracy: 0.8044 - val_loss: 0.7324 - val_accuracy: 0.7817\n",
      "Epoch 31/100\n",
      "78/78 [==============================] - 0s 2ms/step - loss: 0.6137 - accuracy: 0.8020 - val_loss: 0.7387 - val_accuracy: 0.7881\n",
      "Epoch 32/100\n",
      "78/78 [==============================] - 0s 2ms/step - loss: 0.6040 - accuracy: 0.8060 - val_loss: 0.7345 - val_accuracy: 0.7785\n",
      "Epoch 33/100\n",
      "78/78 [==============================] - 0s 2ms/step - loss: 0.6070 - accuracy: 0.8040 - val_loss: 0.7409 - val_accuracy: 0.7624\n",
      "Epoch 34/100\n",
      "78/78 [==============================] - 0s 2ms/step - loss: 0.5991 - accuracy: 0.8120 - val_loss: 0.7431 - val_accuracy: 0.7833\n",
      "Epoch 35/100\n",
      "78/78 [==============================] - 0s 2ms/step - loss: 0.5986 - accuracy: 0.8076 - val_loss: 0.7471 - val_accuracy: 0.7673\n",
      "Epoch 36/100\n",
      "78/78 [==============================] - 0s 2ms/step - loss: 0.6029 - accuracy: 0.8096 - val_loss: 0.7474 - val_accuracy: 0.7657\n",
      "Epoch 37/100\n",
      "78/78 [==============================] - 0s 2ms/step - loss: 0.6035 - accuracy: 0.8068 - val_loss: 0.7401 - val_accuracy: 0.7801\n",
      "Epoch 38/100\n",
      "78/78 [==============================] - 0s 2ms/step - loss: 0.5987 - accuracy: 0.8040 - val_loss: 0.7506 - val_accuracy: 0.7753\n",
      "Epoch 39/100\n",
      "78/78 [==============================] - 0s 2ms/step - loss: 0.5926 - accuracy: 0.8120 - val_loss: 0.7470 - val_accuracy: 0.7705\n",
      "Epoch 40/100\n",
      "78/78 [==============================] - 0s 2ms/step - loss: 0.5922 - accuracy: 0.8100 - val_loss: 0.7433 - val_accuracy: 0.7769\n",
      "Epoch 41/100\n",
      "78/78 [==============================] - 0s 2ms/step - loss: 0.5977 - accuracy: 0.8104 - val_loss: 0.7444 - val_accuracy: 0.7705\n",
      "Epoch 42/100\n",
      "78/78 [==============================] - 0s 2ms/step - loss: 0.5932 - accuracy: 0.8104 - val_loss: 0.7683 - val_accuracy: 0.7753\n",
      "Epoch 43/100\n",
      "78/78 [==============================] - 0s 2ms/step - loss: 0.5919 - accuracy: 0.8124 - val_loss: 0.7467 - val_accuracy: 0.7705\n",
      "Epoch 44/100\n",
      "78/78 [==============================] - 0s 2ms/step - loss: 0.5874 - accuracy: 0.8149 - val_loss: 0.7318 - val_accuracy: 0.7817\n",
      "Epoch 45/100\n",
      "78/78 [==============================] - 0s 2ms/step - loss: 0.5866 - accuracy: 0.8137 - val_loss: 0.7516 - val_accuracy: 0.7753\n",
      "Epoch 46/100\n",
      "78/78 [==============================] - 0s 2ms/step - loss: 0.5922 - accuracy: 0.8141 - val_loss: 0.7435 - val_accuracy: 0.7576\n",
      "Epoch 47/100\n",
      "78/78 [==============================] - 0s 2ms/step - loss: 0.5909 - accuracy: 0.8165 - val_loss: 0.7330 - val_accuracy: 0.7801\n",
      "Epoch 48/100\n",
      "78/78 [==============================] - 0s 2ms/step - loss: 0.5814 - accuracy: 0.8193 - val_loss: 0.7785 - val_accuracy: 0.7737\n",
      "Epoch 49/100\n",
      "78/78 [==============================] - 0s 2ms/step - loss: 0.5807 - accuracy: 0.8149 - val_loss: 0.7620 - val_accuracy: 0.7785\n",
      "Epoch 50/100\n",
      "78/78 [==============================] - 0s 2ms/step - loss: 0.5877 - accuracy: 0.8129 - val_loss: 0.7561 - val_accuracy: 0.7624\n",
      "Epoch 51/100\n",
      "78/78 [==============================] - 0s 2ms/step - loss: 0.5828 - accuracy: 0.8149 - val_loss: 0.7628 - val_accuracy: 0.7608\n"
     ]
    },
    {
     "data": {
      "text/plain": [
       "<keras.src.callbacks.History at 0x1666deff890>"
      ]
     },
     "execution_count": 31,
     "metadata": {},
     "output_type": "execute_result"
    }
   ],
   "source": [
    "# Construct NN Architecture\n",
    "design1 = Sequential([\n",
    "    Dense(units=65, activation='relu', input_shape=(83,)),\n",
    "    Dropout(rate=0.1),\n",
    "    Dense(units=5, activation='linear', kernel_regularizer=L1(0.01))\n",
    "])\n",
    "# Compile the model\n",
    "design1.compile(loss=SparseCategoricalCrossentropy(from_logits=True),\n",
    "               optimizer=Adam(learning_rate=0.01),\n",
    "               metrics=['accuracy'])\n",
    "# Train the model\n",
    "design1.fit(X_train, y_train, epochs=100, validation_data=[X_test, y_test], callbacks=early_stopping)"
   ]
  },
  {
   "cell_type": "markdown",
   "id": "3ddc4c3b",
   "metadata": {},
   "source": [
    "## 2.2. Design 2 - 4 Hidden Layers"
   ]
  },
  {
   "cell_type": "code",
   "execution_count": 32,
   "id": "6eee625d",
   "metadata": {},
   "outputs": [
    {
     "name": "stdout",
     "output_type": "stream",
     "text": [
      "Epoch 1/100\n",
      "78/78 [==============================] - 1s 3ms/step - loss: 0.9299 - accuracy: 0.7655 - val_loss: 0.7529 - val_accuracy: 0.7817\n",
      "Epoch 2/100\n",
      "78/78 [==============================] - 0s 2ms/step - loss: 0.7052 - accuracy: 0.7775 - val_loss: 0.7290 - val_accuracy: 0.7833\n",
      "Epoch 3/100\n",
      "78/78 [==============================] - 0s 2ms/step - loss: 0.6896 - accuracy: 0.7799 - val_loss: 0.7259 - val_accuracy: 0.7801\n",
      "Epoch 4/100\n",
      "78/78 [==============================] - 0s 2ms/step - loss: 0.6850 - accuracy: 0.7823 - val_loss: 0.7221 - val_accuracy: 0.7833\n",
      "Epoch 5/100\n",
      "78/78 [==============================] - 0s 2ms/step - loss: 0.6411 - accuracy: 0.7976 - val_loss: 0.7277 - val_accuracy: 0.7705\n",
      "Epoch 6/100\n",
      "78/78 [==============================] - 0s 2ms/step - loss: 0.6332 - accuracy: 0.7900 - val_loss: 0.7461 - val_accuracy: 0.7753\n",
      "Epoch 7/100\n",
      "78/78 [==============================] - 0s 2ms/step - loss: 0.6153 - accuracy: 0.7948 - val_loss: 0.7359 - val_accuracy: 0.7849\n",
      "Epoch 8/100\n",
      "78/78 [==============================] - 0s 2ms/step - loss: 0.5929 - accuracy: 0.7988 - val_loss: 0.7519 - val_accuracy: 0.7496\n",
      "Epoch 9/100\n",
      "78/78 [==============================] - 0s 2ms/step - loss: 0.5914 - accuracy: 0.8100 - val_loss: 0.7711 - val_accuracy: 0.7496\n",
      "Epoch 10/100\n",
      "78/78 [==============================] - 0s 2ms/step - loss: 0.5732 - accuracy: 0.8092 - val_loss: 0.7472 - val_accuracy: 0.7576\n",
      "Epoch 11/100\n",
      "78/78 [==============================] - 0s 2ms/step - loss: 0.5765 - accuracy: 0.8056 - val_loss: 0.7745 - val_accuracy: 0.7528\n",
      "Epoch 12/100\n",
      "78/78 [==============================] - 0s 2ms/step - loss: 0.5702 - accuracy: 0.8028 - val_loss: 0.7606 - val_accuracy: 0.7721\n",
      "Epoch 13/100\n",
      "78/78 [==============================] - 0s 2ms/step - loss: 0.5554 - accuracy: 0.8149 - val_loss: 0.7746 - val_accuracy: 0.7801\n",
      "Epoch 14/100\n",
      "78/78 [==============================] - 0s 2ms/step - loss: 0.5310 - accuracy: 0.8181 - val_loss: 0.7875 - val_accuracy: 0.7849\n",
      "Epoch 15/100\n",
      "78/78 [==============================] - 0s 2ms/step - loss: 0.5239 - accuracy: 0.8193 - val_loss: 0.7866 - val_accuracy: 0.7544\n",
      "Epoch 16/100\n",
      "78/78 [==============================] - 0s 2ms/step - loss: 0.5142 - accuracy: 0.8269 - val_loss: 0.7972 - val_accuracy: 0.7865\n",
      "Epoch 17/100\n",
      "78/78 [==============================] - 0s 2ms/step - loss: 0.5238 - accuracy: 0.8181 - val_loss: 0.8810 - val_accuracy: 0.7608\n",
      "Epoch 18/100\n",
      "78/78 [==============================] - 0s 2ms/step - loss: 0.4983 - accuracy: 0.8297 - val_loss: 0.8256 - val_accuracy: 0.7592\n",
      "Epoch 19/100\n",
      "78/78 [==============================] - 0s 2ms/step - loss: 0.4855 - accuracy: 0.8398 - val_loss: 0.8940 - val_accuracy: 0.7769\n",
      "Epoch 20/100\n",
      "78/78 [==============================] - 0s 2ms/step - loss: 0.4756 - accuracy: 0.8317 - val_loss: 0.8841 - val_accuracy: 0.7657\n",
      "Epoch 21/100\n",
      "78/78 [==============================] - 0s 2ms/step - loss: 0.4628 - accuracy: 0.8486 - val_loss: 0.9272 - val_accuracy: 0.7416\n",
      "Epoch 22/100\n",
      "78/78 [==============================] - 0s 2ms/step - loss: 0.4787 - accuracy: 0.8390 - val_loss: 0.9936 - val_accuracy: 0.7095\n",
      "Epoch 23/100\n",
      "78/78 [==============================] - 0s 2ms/step - loss: 0.4637 - accuracy: 0.8398 - val_loss: 1.0025 - val_accuracy: 0.7753\n",
      "Epoch 24/100\n",
      "78/78 [==============================] - 0s 2ms/step - loss: 0.4527 - accuracy: 0.8482 - val_loss: 0.9586 - val_accuracy: 0.7400\n",
      "Epoch 25/100\n",
      "78/78 [==============================] - 0s 2ms/step - loss: 0.4539 - accuracy: 0.8450 - val_loss: 0.9196 - val_accuracy: 0.7512\n",
      "Epoch 26/100\n",
      "78/78 [==============================] - 0s 2ms/step - loss: 0.4327 - accuracy: 0.8534 - val_loss: 0.9228 - val_accuracy: 0.7496\n",
      "Epoch 27/100\n",
      "78/78 [==============================] - 0s 2ms/step - loss: 0.4413 - accuracy: 0.8426 - val_loss: 0.9278 - val_accuracy: 0.7657\n",
      "Epoch 28/100\n",
      "78/78 [==============================] - 0s 2ms/step - loss: 0.4208 - accuracy: 0.8574 - val_loss: 1.0555 - val_accuracy: 0.7640\n",
      "Epoch 29/100\n",
      "78/78 [==============================] - 0s 2ms/step - loss: 0.4344 - accuracy: 0.8486 - val_loss: 1.0370 - val_accuracy: 0.7464\n",
      "Epoch 30/100\n",
      "78/78 [==============================] - 0s 2ms/step - loss: 0.3963 - accuracy: 0.8639 - val_loss: 1.0690 - val_accuracy: 0.7576\n",
      "Epoch 31/100\n",
      "78/78 [==============================] - 0s 2ms/step - loss: 0.3997 - accuracy: 0.8594 - val_loss: 1.0866 - val_accuracy: 0.7753\n",
      "Epoch 32/100\n",
      "78/78 [==============================] - 0s 3ms/step - loss: 0.4025 - accuracy: 0.8651 - val_loss: 1.1461 - val_accuracy: 0.7464\n",
      "Epoch 33/100\n",
      "78/78 [==============================] - 0s 2ms/step - loss: 0.4039 - accuracy: 0.8618 - val_loss: 1.0296 - val_accuracy: 0.7416\n",
      "Epoch 34/100\n",
      "78/78 [==============================] - 0s 3ms/step - loss: 0.3804 - accuracy: 0.8695 - val_loss: 1.1676 - val_accuracy: 0.7737\n",
      "Epoch 35/100\n",
      "78/78 [==============================] - 0s 3ms/step - loss: 0.3712 - accuracy: 0.8739 - val_loss: 1.1807 - val_accuracy: 0.7640\n",
      "Epoch 36/100\n",
      "78/78 [==============================] - 0s 2ms/step - loss: 0.3938 - accuracy: 0.8635 - val_loss: 1.1128 - val_accuracy: 0.7496\n"
     ]
    },
    {
     "data": {
      "text/plain": [
       "<keras.src.callbacks.History at 0x1666f19b890>"
      ]
     },
     "execution_count": 32,
     "metadata": {},
     "output_type": "execute_result"
    }
   ],
   "source": [
    "# Construct NN Architecture\n",
    "design2 = Sequential([\n",
    "    Dense(units=65, activation='relu', input_shape=(83,)),\n",
    "    Dropout(rate=0.1),\n",
    "    Dense(units=65, activation='relu'),\n",
    "    Dropout(rate=0.1),\n",
    "    Dense(units=5, activation='linear', kernel_regularizer=L1(0.01))\n",
    "])\n",
    "# Compile the model\n",
    "design2.compile(loss=SparseCategoricalCrossentropy(from_logits=True),\n",
    "               optimizer=Adam(learning_rate=0.01),\n",
    "               metrics=['accuracy'])\n",
    "# Train the model\n",
    "design2.fit(X_train, y_train, epochs=100, validation_data=[X_test, y_test], callbacks=early_stopping)"
   ]
  },
  {
   "cell_type": "markdown",
   "id": "f600fed4",
   "metadata": {},
   "source": [
    "## 2.3. Design 3 - 6 Hidden Layers"
   ]
  },
  {
   "cell_type": "code",
   "execution_count": 33,
   "id": "1ebe2523",
   "metadata": {},
   "outputs": [
    {
     "name": "stdout",
     "output_type": "stream",
     "text": [
      "Epoch 1/100\n",
      "78/78 [==============================] - 1s 5ms/step - loss: 0.9257 - accuracy: 0.7651 - val_loss: 0.7701 - val_accuracy: 0.7833\n",
      "Epoch 2/100\n",
      "78/78 [==============================] - 0s 3ms/step - loss: 0.7223 - accuracy: 0.7715 - val_loss: 0.7185 - val_accuracy: 0.7833\n",
      "Epoch 3/100\n",
      "78/78 [==============================] - 0s 3ms/step - loss: 0.6894 - accuracy: 0.7807 - val_loss: 0.7356 - val_accuracy: 0.7785\n",
      "Epoch 4/100\n",
      "78/78 [==============================] - 0s 3ms/step - loss: 0.6795 - accuracy: 0.7759 - val_loss: 0.7299 - val_accuracy: 0.7753\n",
      "Epoch 5/100\n",
      "78/78 [==============================] - 0s 3ms/step - loss: 0.6548 - accuracy: 0.7928 - val_loss: 0.7259 - val_accuracy: 0.7721\n",
      "Epoch 6/100\n",
      "78/78 [==============================] - 0s 3ms/step - loss: 0.6375 - accuracy: 0.7948 - val_loss: 0.7299 - val_accuracy: 0.7705\n",
      "Epoch 7/100\n",
      "78/78 [==============================] - 0s 3ms/step - loss: 0.6202 - accuracy: 0.7944 - val_loss: 0.7188 - val_accuracy: 0.7737\n",
      "Epoch 8/100\n",
      "78/78 [==============================] - 0s 3ms/step - loss: 0.6062 - accuracy: 0.7980 - val_loss: 0.7596 - val_accuracy: 0.7432\n",
      "Epoch 9/100\n",
      "78/78 [==============================] - 0s 3ms/step - loss: 0.5840 - accuracy: 0.8028 - val_loss: 0.8142 - val_accuracy: 0.7544\n",
      "Epoch 10/100\n",
      "78/78 [==============================] - 0s 3ms/step - loss: 0.5769 - accuracy: 0.8104 - val_loss: 0.7816 - val_accuracy: 0.7544\n",
      "Epoch 11/100\n",
      "78/78 [==============================] - 0s 3ms/step - loss: 0.5898 - accuracy: 0.8056 - val_loss: 0.7900 - val_accuracy: 0.7657\n",
      "Epoch 12/100\n",
      "78/78 [==============================] - 0s 3ms/step - loss: 0.5499 - accuracy: 0.8133 - val_loss: 0.8738 - val_accuracy: 0.7705\n",
      "Epoch 13/100\n",
      "78/78 [==============================] - 0s 3ms/step - loss: 0.5359 - accuracy: 0.8213 - val_loss: 0.7933 - val_accuracy: 0.7801\n",
      "Epoch 14/100\n",
      "78/78 [==============================] - 0s 3ms/step - loss: 0.5219 - accuracy: 0.8173 - val_loss: 0.8226 - val_accuracy: 0.7753\n",
      "Epoch 15/100\n",
      "78/78 [==============================] - 0s 3ms/step - loss: 0.5351 - accuracy: 0.8245 - val_loss: 0.8488 - val_accuracy: 0.7737\n",
      "Epoch 16/100\n",
      "78/78 [==============================] - 0s 3ms/step - loss: 0.5108 - accuracy: 0.8277 - val_loss: 0.8422 - val_accuracy: 0.7849\n",
      "Epoch 17/100\n",
      "78/78 [==============================] - 0s 3ms/step - loss: 0.5197 - accuracy: 0.8273 - val_loss: 0.8897 - val_accuracy: 0.7544\n",
      "Epoch 18/100\n",
      "78/78 [==============================] - 0s 3ms/step - loss: 0.4858 - accuracy: 0.8337 - val_loss: 0.8853 - val_accuracy: 0.7849\n",
      "Epoch 19/100\n",
      "78/78 [==============================] - 0s 3ms/step - loss: 0.4780 - accuracy: 0.8390 - val_loss: 1.0108 - val_accuracy: 0.7897\n",
      "Epoch 20/100\n",
      "78/78 [==============================] - 0s 3ms/step - loss: 0.4794 - accuracy: 0.8406 - val_loss: 0.9453 - val_accuracy: 0.7753\n",
      "Epoch 21/100\n",
      "78/78 [==============================] - 0s 3ms/step - loss: 0.4653 - accuracy: 0.8406 - val_loss: 0.9563 - val_accuracy: 0.7640\n",
      "Epoch 22/100\n",
      "78/78 [==============================] - 0s 3ms/step - loss: 0.4713 - accuracy: 0.8418 - val_loss: 0.9040 - val_accuracy: 0.7560\n",
      "Epoch 23/100\n",
      "78/78 [==============================] - 0s 3ms/step - loss: 0.4531 - accuracy: 0.8446 - val_loss: 0.9927 - val_accuracy: 0.7737\n",
      "Epoch 24/100\n",
      "78/78 [==============================] - 0s 3ms/step - loss: 0.4459 - accuracy: 0.8542 - val_loss: 0.9878 - val_accuracy: 0.7432\n",
      "Epoch 25/100\n",
      "78/78 [==============================] - 0s 3ms/step - loss: 0.4435 - accuracy: 0.8486 - val_loss: 0.9404 - val_accuracy: 0.7721\n",
      "Epoch 26/100\n",
      "78/78 [==============================] - 0s 3ms/step - loss: 0.4492 - accuracy: 0.8478 - val_loss: 0.9206 - val_accuracy: 0.7432\n",
      "Epoch 27/100\n",
      "78/78 [==============================] - 0s 3ms/step - loss: 0.4420 - accuracy: 0.8546 - val_loss: 0.9542 - val_accuracy: 0.7737\n",
      "Epoch 28/100\n",
      "78/78 [==============================] - 0s 3ms/step - loss: 0.4148 - accuracy: 0.8631 - val_loss: 1.0101 - val_accuracy: 0.7721\n",
      "Epoch 29/100\n",
      "78/78 [==============================] - 0s 3ms/step - loss: 0.4227 - accuracy: 0.8614 - val_loss: 1.0047 - val_accuracy: 0.7576\n",
      "Epoch 30/100\n",
      "78/78 [==============================] - 0s 3ms/step - loss: 0.4045 - accuracy: 0.8602 - val_loss: 1.2140 - val_accuracy: 0.7737\n",
      "Epoch 31/100\n",
      "78/78 [==============================] - 0s 3ms/step - loss: 0.4189 - accuracy: 0.8602 - val_loss: 1.0583 - val_accuracy: 0.7657\n",
      "Epoch 32/100\n",
      "78/78 [==============================] - 0s 3ms/step - loss: 0.4041 - accuracy: 0.8671 - val_loss: 1.1403 - val_accuracy: 0.7897\n",
      "Epoch 33/100\n",
      "78/78 [==============================] - 0s 3ms/step - loss: 0.3970 - accuracy: 0.8663 - val_loss: 1.1050 - val_accuracy: 0.7657\n",
      "Epoch 34/100\n",
      "78/78 [==============================] - 0s 3ms/step - loss: 0.3923 - accuracy: 0.8687 - val_loss: 1.2111 - val_accuracy: 0.7753\n",
      "Epoch 35/100\n",
      "78/78 [==============================] - 0s 3ms/step - loss: 0.4038 - accuracy: 0.8667 - val_loss: 1.1201 - val_accuracy: 0.7624\n",
      "Epoch 36/100\n",
      "78/78 [==============================] - 0s 3ms/step - loss: 0.3939 - accuracy: 0.8715 - val_loss: 1.2709 - val_accuracy: 0.7512\n",
      "Epoch 37/100\n",
      "78/78 [==============================] - 0s 3ms/step - loss: 0.3738 - accuracy: 0.8671 - val_loss: 1.2163 - val_accuracy: 0.7496\n",
      "Epoch 38/100\n",
      "78/78 [==============================] - 0s 3ms/step - loss: 0.3770 - accuracy: 0.8759 - val_loss: 1.2000 - val_accuracy: 0.7673\n",
      "Epoch 39/100\n",
      "78/78 [==============================] - 0s 3ms/step - loss: 0.3375 - accuracy: 0.8867 - val_loss: 1.3084 - val_accuracy: 0.7335\n"
     ]
    },
    {
     "data": {
      "text/plain": [
       "<keras.src.callbacks.History at 0x1666f33c490>"
      ]
     },
     "execution_count": 33,
     "metadata": {},
     "output_type": "execute_result"
    }
   ],
   "source": [
    "# Construct NN Architecture\n",
    "design3 = Sequential([\n",
    "    Dense(units=65, activation='relu', input_shape=(83,)),\n",
    "    Dropout(rate=0.1),\n",
    "    Dense(units=65, activation='relu'),\n",
    "    Dropout(rate=0.1),\n",
    "    Dense(units=65, activation='relu'),\n",
    "    Dropout(rate=0.1),\n",
    "    Dense(units=5, activation='linear', kernel_regularizer=L1(0.01))\n",
    "])\n",
    "# Compile the model\n",
    "design3.compile(loss=SparseCategoricalCrossentropy(from_logits=True),\n",
    "               optimizer=Adam(learning_rate=0.01),\n",
    "               metrics=['accuracy'])\n",
    "# Train the model\n",
    "design3.fit(X_train, y_train, epochs=100, validation_data=[X_test, y_test], callbacks=early_stopping)"
   ]
  },
  {
   "cell_type": "markdown",
   "id": "d624cc22",
   "metadata": {},
   "source": [
    "# 3. Performance Metrics\n",
    "\n",
    "For performance metrics, we will be measuring **Accuracy**, **Precision**, **Recall**, and **F1 Score** for both architecture and compare. We will also perform feature importances and plot the most accurate neural network."
   ]
  },
  {
   "cell_type": "code",
   "execution_count": 34,
   "id": "72bd96c8",
   "metadata": {},
   "outputs": [
    {
     "name": "stdout",
     "output_type": "stream",
     "text": [
      "20/20 [==============================] - 0s 1ms/step\n",
      "78/78 [==============================] - 0s 1ms/step - loss: 0.5902 - accuracy: 0.8024\n",
      "20/20 [==============================] - 0s 1ms/step - loss: 0.7387 - accuracy: 0.7881\n",
      "Model Performance Metrics:\n",
      "Training Accuracy: 80.24%\n",
      "Test Accuracy: 78.81%\n",
      "Precision: 71.08%\n",
      "Recall: 78.81%\n",
      "F1 Score: 71.80%\n",
      "\n",
      "20/20 [==============================] - 0s 1ms/step\n",
      "78/78 [==============================] - 0s 1ms/step - loss: 0.4557 - accuracy: 0.8462\n",
      "20/20 [==============================] - 0s 2ms/step - loss: 0.7972 - accuracy: 0.7865\n",
      "Model Performance Metrics:\n",
      "Training Accuracy: 84.62%\n",
      "Test Accuracy: 78.65%\n",
      "Precision: 70.86%\n",
      "Recall: 78.65%\n",
      "F1 Score: 73.41%\n",
      "\n",
      "20/20 [==============================] - 0s 1ms/step\n",
      "78/78 [==============================] - 0s 1ms/step - loss: 0.4312 - accuracy: 0.8494\n",
      "20/20 [==============================] - 0s 2ms/step - loss: 1.0108 - accuracy: 0.7897\n",
      "Model Performance Metrics:\n",
      "Training Accuracy: 84.94%\n",
      "Test Accuracy: 78.97%\n",
      "Precision: 73.15%\n",
      "Recall: 78.97%\n",
      "F1 Score: 73.58%\n",
      "\n"
     ]
    }
   ],
   "source": [
    "models = [design1, design2, design3]\n",
    "for model in models:\n",
    "    y_pred = model.predict(X_test)\n",
    "    y_pred_classes = np.argmax(y_pred, axis=1)\n",
    "    train_loss, train_accuracy = model.evaluate(X_train, y_train)\n",
    "    test_loss, test_accuracy = model.evaluate(X_test, y_test)\n",
    "    precision = precision_score(y_test, y_pred_classes, average='weighted')\n",
    "    recall = recall_score(y_test, y_pred_classes, average='weighted')\n",
    "    f1 = f1_score(y_test, y_pred_classes, average='weighted')\n",
    "    print(f\"Model Performance Metrics:\")\n",
    "    print(f\"Training Accuracy: {train_accuracy*100:.2f}%\")\n",
    "    print(f\"Test Accuracy: {test_accuracy*100:.2f}%\")\n",
    "    print(f\"Precision: {precision*100:.2f}%\")\n",
    "    print(f\"Recall: {recall*100:.2f}%\")\n",
    "    print(f\"F1 Score: {f1*100:.2f}%\\n\")"
   ]
  }
 ],
 "metadata": {
  "kernelspec": {
   "display_name": "Python 3 (ipykernel)",
   "language": "python",
   "name": "python3"
  },
  "language_info": {
   "codemirror_mode": {
    "name": "ipython",
    "version": 3
   },
   "file_extension": ".py",
   "mimetype": "text/x-python",
   "name": "python",
   "nbconvert_exporter": "python",
   "pygments_lexer": "ipython3",
   "version": "3.11.3"
  }
 },
 "nbformat": 4,
 "nbformat_minor": 5
}

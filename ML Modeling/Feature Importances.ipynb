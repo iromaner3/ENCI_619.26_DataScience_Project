{
 "cells": [
  {
   "cell_type": "code",
   "execution_count": 1,
   "id": "9a2d77b5",
   "metadata": {},
   "outputs": [],
   "source": [
    "import pandas as pd\n",
    "import numpy as np\n",
    "import matplotlib.pyplot as plt\n",
    "import seaborn as sns\n",
    "import warnings\n",
    "from xgboost import XGBClassifier\n",
    "from sklearn.ensemble import RandomForestClassifier\n",
    "from sklearn.metrics import classification_report\n",
    "from sklearn.preprocessing import LabelEncoder, StandardScaler\n",
    "from sklearn.model_selection import train_test_split\n",
    "pd.set_option('display.max_columns', None)\n",
    "pd.set_option('display.max_rows', None)\n",
    "warnings.filterwarnings('ignore')\n",
    "%matplotlib inline"
   ]
  },
  {
   "cell_type": "code",
   "execution_count": 2,
   "id": "ec9834c6",
   "metadata": {},
   "outputs": [],
   "source": [
    "plt.rcParams.update({\n",
    "    'text.usetex' : True,\n",
    "    'font.family' : 'serif',\n",
    "    'font.serif' : ['Computer Modern']\n",
    "})"
   ]
  },
  {
   "cell_type": "code",
   "execution_count": 3,
   "id": "86747148",
   "metadata": {},
   "outputs": [],
   "source": [
    "np.random.seed(100)"
   ]
  },
  {
   "cell_type": "code",
   "execution_count": 4,
   "id": "05b0ea7f",
   "metadata": {},
   "outputs": [
    {
     "data": {
      "text/html": [
       "<div>\n",
       "<style scoped>\n",
       "    .dataframe tbody tr th:only-of-type {\n",
       "        vertical-align: middle;\n",
       "    }\n",
       "\n",
       "    .dataframe tbody tr th {\n",
       "        vertical-align: top;\n",
       "    }\n",
       "\n",
       "    .dataframe thead th {\n",
       "        text-align: right;\n",
       "    }\n",
       "</style>\n",
       "<table border=\"1\" class=\"dataframe\">\n",
       "  <thead>\n",
       "    <tr style=\"text-align: right;\">\n",
       "      <th></th>\n",
       "      <th>INDEX_</th>\n",
       "      <th>HOUR</th>\n",
       "      <th>DAYOFWEEK</th>\n",
       "      <th>VISIBILITY</th>\n",
       "      <th>LIGHT</th>\n",
       "      <th>RDSFCOND</th>\n",
       "      <th>TEMP</th>\n",
       "      <th>REL_HUMID</th>\n",
       "      <th>LOCCOORD</th>\n",
       "      <th>TRAFFCTL</th>\n",
       "      <th>ROADCLASS</th>\n",
       "      <th>SPEEDLMT</th>\n",
       "      <th>VEH_ADT</th>\n",
       "      <th>PED_ADT</th>\n",
       "      <th>LAND_USE</th>\n",
       "      <th>POP_2021</th>\n",
       "      <th>PRIV_DWELL</th>\n",
       "      <th>LAND_AREA</th>\n",
       "      <th>INVAGE</th>\n",
       "      <th>PEDCOND</th>\n",
       "      <th>PEDACT</th>\n",
       "      <th>VEHINV</th>\n",
       "      <th>VIOL</th>\n",
       "      <th>INJURY</th>\n",
       "    </tr>\n",
       "  </thead>\n",
       "  <tbody>\n",
       "    <tr>\n",
       "      <th>0</th>\n",
       "      <td>3366652</td>\n",
       "      <td>7</td>\n",
       "      <td>weekday</td>\n",
       "      <td>Other</td>\n",
       "      <td>Dark</td>\n",
       "      <td>Wet</td>\n",
       "      <td>1.5</td>\n",
       "      <td>0.99</td>\n",
       "      <td>Midblock</td>\n",
       "      <td>No Control</td>\n",
       "      <td>Major Arterial</td>\n",
       "      <td>60</td>\n",
       "      <td>498.0</td>\n",
       "      <td>219.0</td>\n",
       "      <td>Mixed Use</td>\n",
       "      <td>504</td>\n",
       "      <td>263</td>\n",
       "      <td>225</td>\n",
       "      <td>45 to 64</td>\n",
       "      <td>Distracted</td>\n",
       "      <td>Crossing without ROW</td>\n",
       "      <td>automobile</td>\n",
       "      <td>speeding</td>\n",
       "      <td>Major</td>\n",
       "    </tr>\n",
       "    <tr>\n",
       "      <th>1</th>\n",
       "      <td>3370334</td>\n",
       "      <td>19</td>\n",
       "      <td>weekday</td>\n",
       "      <td>Rain</td>\n",
       "      <td>Dark</td>\n",
       "      <td>Wet</td>\n",
       "      <td>4.8</td>\n",
       "      <td>1.00</td>\n",
       "      <td>Midblock</td>\n",
       "      <td>Traffic Signal including Transit</td>\n",
       "      <td>Major Arterial</td>\n",
       "      <td>60</td>\n",
       "      <td>351.0</td>\n",
       "      <td>63.0</td>\n",
       "      <td>Residential</td>\n",
       "      <td>452</td>\n",
       "      <td>205</td>\n",
       "      <td>183</td>\n",
       "      <td>Over 65</td>\n",
       "      <td>Normal</td>\n",
       "      <td>Crossing without ROW</td>\n",
       "      <td>automobile</td>\n",
       "      <td>speeding</td>\n",
       "      <td>Major</td>\n",
       "    </tr>\n",
       "  </tbody>\n",
       "</table>\n",
       "</div>"
      ],
      "text/plain": [
       "    INDEX_  HOUR DAYOFWEEK VISIBILITY LIGHT RDSFCOND  TEMP  REL_HUMID   \n",
       "0  3366652     7   weekday      Other  Dark      Wet   1.5       0.99  \\\n",
       "1  3370334    19   weekday       Rain  Dark      Wet   4.8       1.00   \n",
       "\n",
       "   LOCCOORD                          TRAFFCTL       ROADCLASS  SPEEDLMT   \n",
       "0  Midblock                        No Control  Major Arterial        60  \\\n",
       "1  Midblock  Traffic Signal including Transit  Major Arterial        60   \n",
       "\n",
       "   VEH_ADT  PED_ADT     LAND_USE  POP_2021  PRIV_DWELL  LAND_AREA    INVAGE   \n",
       "0    498.0    219.0    Mixed Use       504         263        225  45 to 64  \\\n",
       "1    351.0     63.0  Residential       452         205        183   Over 65   \n",
       "\n",
       "      PEDCOND                PEDACT      VEHINV      VIOL INJURY  \n",
       "0  Distracted  Crossing without ROW  automobile  speeding  Major  \n",
       "1      Normal  Crossing without ROW  automobile  speeding  Major  "
      ]
     },
     "execution_count": 4,
     "metadata": {},
     "output_type": "execute_result"
    }
   ],
   "source": [
    "DF = pd.read_csv('data_for_ml.csv')\n",
    "DF.head(2)"
   ]
  },
  {
   "cell_type": "code",
   "execution_count": 5,
   "id": "8013a53c",
   "metadata": {},
   "outputs": [
    {
     "data": {
      "text/html": [
       "<div>\n",
       "<style scoped>\n",
       "    .dataframe tbody tr th:only-of-type {\n",
       "        vertical-align: middle;\n",
       "    }\n",
       "\n",
       "    .dataframe tbody tr th {\n",
       "        vertical-align: top;\n",
       "    }\n",
       "\n",
       "    .dataframe thead th {\n",
       "        text-align: right;\n",
       "    }\n",
       "</style>\n",
       "<table border=\"1\" class=\"dataframe\">\n",
       "  <thead>\n",
       "    <tr style=\"text-align: right;\">\n",
       "      <th></th>\n",
       "      <th>HOUR</th>\n",
       "      <th>DAYOFWEEK</th>\n",
       "      <th>VISIBILITY</th>\n",
       "      <th>LIGHT</th>\n",
       "      <th>RDSFCOND</th>\n",
       "      <th>TEMP</th>\n",
       "      <th>REL_HUMID</th>\n",
       "      <th>LOCCOORD</th>\n",
       "      <th>TRAFFCTL</th>\n",
       "      <th>ROADCLASS</th>\n",
       "      <th>SPEEDLMT</th>\n",
       "      <th>VEH_ADT</th>\n",
       "      <th>PED_ADT</th>\n",
       "      <th>LAND_USE</th>\n",
       "      <th>POP_2021</th>\n",
       "      <th>PRIV_DWELL</th>\n",
       "      <th>LAND_AREA</th>\n",
       "      <th>INVAGE</th>\n",
       "      <th>PEDCOND</th>\n",
       "      <th>PEDACT</th>\n",
       "      <th>VEHINV</th>\n",
       "      <th>VIOL</th>\n",
       "      <th>INJURY</th>\n",
       "    </tr>\n",
       "  </thead>\n",
       "  <tbody>\n",
       "    <tr>\n",
       "      <th>0</th>\n",
       "      <td>7</td>\n",
       "      <td>weekday</td>\n",
       "      <td>Other</td>\n",
       "      <td>Dark</td>\n",
       "      <td>Wet</td>\n",
       "      <td>1.5</td>\n",
       "      <td>0.99</td>\n",
       "      <td>Midblock</td>\n",
       "      <td>No Control</td>\n",
       "      <td>Major Arterial</td>\n",
       "      <td>60</td>\n",
       "      <td>498.0</td>\n",
       "      <td>219.0</td>\n",
       "      <td>Mixed Use</td>\n",
       "      <td>504</td>\n",
       "      <td>263</td>\n",
       "      <td>225</td>\n",
       "      <td>45 to 64</td>\n",
       "      <td>Distracted</td>\n",
       "      <td>Crossing without ROW</td>\n",
       "      <td>automobile</td>\n",
       "      <td>speeding</td>\n",
       "      <td>Major</td>\n",
       "    </tr>\n",
       "    <tr>\n",
       "      <th>1</th>\n",
       "      <td>19</td>\n",
       "      <td>weekday</td>\n",
       "      <td>Rain</td>\n",
       "      <td>Dark</td>\n",
       "      <td>Wet</td>\n",
       "      <td>4.8</td>\n",
       "      <td>1.00</td>\n",
       "      <td>Midblock</td>\n",
       "      <td>Traffic Signal including Transit</td>\n",
       "      <td>Major Arterial</td>\n",
       "      <td>60</td>\n",
       "      <td>351.0</td>\n",
       "      <td>63.0</td>\n",
       "      <td>Residential</td>\n",
       "      <td>452</td>\n",
       "      <td>205</td>\n",
       "      <td>183</td>\n",
       "      <td>Over 65</td>\n",
       "      <td>Normal</td>\n",
       "      <td>Crossing without ROW</td>\n",
       "      <td>automobile</td>\n",
       "      <td>speeding</td>\n",
       "      <td>Major</td>\n",
       "    </tr>\n",
       "  </tbody>\n",
       "</table>\n",
       "</div>"
      ],
      "text/plain": [
       "   HOUR DAYOFWEEK VISIBILITY LIGHT RDSFCOND  TEMP  REL_HUMID  LOCCOORD   \n",
       "0     7   weekday      Other  Dark      Wet   1.5       0.99  Midblock  \\\n",
       "1    19   weekday       Rain  Dark      Wet   4.8       1.00  Midblock   \n",
       "\n",
       "                           TRAFFCTL       ROADCLASS  SPEEDLMT  VEH_ADT   \n",
       "0                        No Control  Major Arterial        60    498.0  \\\n",
       "1  Traffic Signal including Transit  Major Arterial        60    351.0   \n",
       "\n",
       "   PED_ADT     LAND_USE  POP_2021  PRIV_DWELL  LAND_AREA    INVAGE   \n",
       "0    219.0    Mixed Use       504         263        225  45 to 64  \\\n",
       "1     63.0  Residential       452         205        183   Over 65   \n",
       "\n",
       "      PEDCOND                PEDACT      VEHINV      VIOL INJURY  \n",
       "0  Distracted  Crossing without ROW  automobile  speeding  Major  \n",
       "1      Normal  Crossing without ROW  automobile  speeding  Major  "
      ]
     },
     "execution_count": 5,
     "metadata": {},
     "output_type": "execute_result"
    }
   ],
   "source": [
    "df = DF.drop('INDEX_', axis=1)\n",
    "df.head(2)"
   ]
  },
  {
   "cell_type": "code",
   "execution_count": 6,
   "id": "a00bf171",
   "metadata": {},
   "outputs": [
    {
     "data": {
      "text/html": [
       "<div>\n",
       "<style scoped>\n",
       "    .dataframe tbody tr th:only-of-type {\n",
       "        vertical-align: middle;\n",
       "    }\n",
       "\n",
       "    .dataframe tbody tr th {\n",
       "        vertical-align: top;\n",
       "    }\n",
       "\n",
       "    .dataframe thead th {\n",
       "        text-align: right;\n",
       "    }\n",
       "</style>\n",
       "<table border=\"1\" class=\"dataframe\">\n",
       "  <thead>\n",
       "    <tr style=\"text-align: right;\">\n",
       "      <th></th>\n",
       "      <th>HOUR</th>\n",
       "      <th>DAYOFWEEK</th>\n",
       "      <th>VISIBILITY</th>\n",
       "      <th>LIGHT</th>\n",
       "      <th>RDSFCOND</th>\n",
       "      <th>TEMP</th>\n",
       "      <th>REL_HUMID</th>\n",
       "      <th>LOCCOORD</th>\n",
       "      <th>TRAFFCTL</th>\n",
       "      <th>ROADCLASS</th>\n",
       "      <th>SPEEDLMT</th>\n",
       "      <th>VEH_ADT</th>\n",
       "      <th>PED_ADT</th>\n",
       "      <th>LAND_USE</th>\n",
       "      <th>POP_2021</th>\n",
       "      <th>PRIV_DWELL</th>\n",
       "      <th>LAND_AREA</th>\n",
       "      <th>INVAGE</th>\n",
       "      <th>PEDCOND</th>\n",
       "      <th>PEDACT</th>\n",
       "      <th>VEHINV</th>\n",
       "      <th>VIOL</th>\n",
       "      <th>INJURY</th>\n",
       "    </tr>\n",
       "  </thead>\n",
       "  <tbody>\n",
       "    <tr>\n",
       "      <th>0</th>\n",
       "      <td>7</td>\n",
       "      <td>0</td>\n",
       "      <td>4</td>\n",
       "      <td>0</td>\n",
       "      <td>6</td>\n",
       "      <td>1.5</td>\n",
       "      <td>0.99</td>\n",
       "      <td>1</td>\n",
       "      <td>0</td>\n",
       "      <td>3</td>\n",
       "      <td>60</td>\n",
       "      <td>498.0</td>\n",
       "      <td>219.0</td>\n",
       "      <td>2</td>\n",
       "      <td>504</td>\n",
       "      <td>263</td>\n",
       "      <td>225</td>\n",
       "      <td>2</td>\n",
       "      <td>0</td>\n",
       "      <td>2</td>\n",
       "      <td>0</td>\n",
       "      <td>3</td>\n",
       "      <td>1</td>\n",
       "    </tr>\n",
       "    <tr>\n",
       "      <th>1</th>\n",
       "      <td>19</td>\n",
       "      <td>0</td>\n",
       "      <td>5</td>\n",
       "      <td>0</td>\n",
       "      <td>6</td>\n",
       "      <td>4.8</td>\n",
       "      <td>1.00</td>\n",
       "      <td>1</td>\n",
       "      <td>3</td>\n",
       "      <td>3</td>\n",
       "      <td>60</td>\n",
       "      <td>351.0</td>\n",
       "      <td>63.0</td>\n",
       "      <td>7</td>\n",
       "      <td>452</td>\n",
       "      <td>205</td>\n",
       "      <td>183</td>\n",
       "      <td>3</td>\n",
       "      <td>6</td>\n",
       "      <td>2</td>\n",
       "      <td>0</td>\n",
       "      <td>3</td>\n",
       "      <td>1</td>\n",
       "    </tr>\n",
       "  </tbody>\n",
       "</table>\n",
       "</div>"
      ],
      "text/plain": [
       "   HOUR  DAYOFWEEK  VISIBILITY  LIGHT  RDSFCOND  TEMP  REL_HUMID  LOCCOORD   \n",
       "0     7          0           4      0         6   1.5       0.99         1  \\\n",
       "1    19          0           5      0         6   4.8       1.00         1   \n",
       "\n",
       "   TRAFFCTL  ROADCLASS  SPEEDLMT  VEH_ADT  PED_ADT  LAND_USE  POP_2021   \n",
       "0         0          3        60    498.0    219.0         2       504  \\\n",
       "1         3          3        60    351.0     63.0         7       452   \n",
       "\n",
       "   PRIV_DWELL  LAND_AREA  INVAGE  PEDCOND  PEDACT  VEHINV  VIOL  INJURY  \n",
       "0         263        225       2        0       2       0     3       1  \n",
       "1         205        183       3        6       2       0     3       1  "
      ]
     },
     "execution_count": 6,
     "metadata": {},
     "output_type": "execute_result"
    }
   ],
   "source": [
    "# Label Encode 'object' datatypes\n",
    "for col in df.columns:\n",
    "    if df[col].dtype == 'object':\n",
    "        label_encoder = LabelEncoder()\n",
    "        df[col] = label_encoder.fit_transform(df[col])\n",
    "df.head(2)"
   ]
  },
  {
   "cell_type": "code",
   "execution_count": 7,
   "id": "f1beb31e",
   "metadata": {},
   "outputs": [],
   "source": [
    "X = df.iloc[:,:-1].values\n",
    "y = df.iloc[:,-1].values"
   ]
  },
  {
   "cell_type": "code",
   "execution_count": 8,
   "id": "a791b2ed",
   "metadata": {},
   "outputs": [],
   "source": [
    "X_new = df.iloc[:,:-1]"
   ]
  },
  {
   "cell_type": "code",
   "execution_count": 9,
   "id": "231c57ff",
   "metadata": {},
   "outputs": [],
   "source": [
    "X_train, X_test, y_train, y_test = train_test_split(X, y, test_size=0.20, random_state=100)"
   ]
  },
  {
   "cell_type": "code",
   "execution_count": 10,
   "id": "e30291cf",
   "metadata": {},
   "outputs": [],
   "source": [
    "sc = StandardScaler()\n",
    "X_train_scaled = sc.fit_transform(X_train)\n",
    "X_test_scaled = sc.transform(X_test)"
   ]
  },
  {
   "cell_type": "code",
   "execution_count": 11,
   "id": "09989726",
   "metadata": {},
   "outputs": [
    {
     "data": {
      "text/html": [
       "<style>#sk-container-id-1 {color: black;}#sk-container-id-1 pre{padding: 0;}#sk-container-id-1 div.sk-toggleable {background-color: white;}#sk-container-id-1 label.sk-toggleable__label {cursor: pointer;display: block;width: 100%;margin-bottom: 0;padding: 0.3em;box-sizing: border-box;text-align: center;}#sk-container-id-1 label.sk-toggleable__label-arrow:before {content: \"▸\";float: left;margin-right: 0.25em;color: #696969;}#sk-container-id-1 label.sk-toggleable__label-arrow:hover:before {color: black;}#sk-container-id-1 div.sk-estimator:hover label.sk-toggleable__label-arrow:before {color: black;}#sk-container-id-1 div.sk-toggleable__content {max-height: 0;max-width: 0;overflow: hidden;text-align: left;background-color: #f0f8ff;}#sk-container-id-1 div.sk-toggleable__content pre {margin: 0.2em;color: black;border-radius: 0.25em;background-color: #f0f8ff;}#sk-container-id-1 input.sk-toggleable__control:checked~div.sk-toggleable__content {max-height: 200px;max-width: 100%;overflow: auto;}#sk-container-id-1 input.sk-toggleable__control:checked~label.sk-toggleable__label-arrow:before {content: \"▾\";}#sk-container-id-1 div.sk-estimator input.sk-toggleable__control:checked~label.sk-toggleable__label {background-color: #d4ebff;}#sk-container-id-1 div.sk-label input.sk-toggleable__control:checked~label.sk-toggleable__label {background-color: #d4ebff;}#sk-container-id-1 input.sk-hidden--visually {border: 0;clip: rect(1px 1px 1px 1px);clip: rect(1px, 1px, 1px, 1px);height: 1px;margin: -1px;overflow: hidden;padding: 0;position: absolute;width: 1px;}#sk-container-id-1 div.sk-estimator {font-family: monospace;background-color: #f0f8ff;border: 1px dotted black;border-radius: 0.25em;box-sizing: border-box;margin-bottom: 0.5em;}#sk-container-id-1 div.sk-estimator:hover {background-color: #d4ebff;}#sk-container-id-1 div.sk-parallel-item::after {content: \"\";width: 100%;border-bottom: 1px solid gray;flex-grow: 1;}#sk-container-id-1 div.sk-label:hover label.sk-toggleable__label {background-color: #d4ebff;}#sk-container-id-1 div.sk-serial::before {content: \"\";position: absolute;border-left: 1px solid gray;box-sizing: border-box;top: 0;bottom: 0;left: 50%;z-index: 0;}#sk-container-id-1 div.sk-serial {display: flex;flex-direction: column;align-items: center;background-color: white;padding-right: 0.2em;padding-left: 0.2em;position: relative;}#sk-container-id-1 div.sk-item {position: relative;z-index: 1;}#sk-container-id-1 div.sk-parallel {display: flex;align-items: stretch;justify-content: center;background-color: white;position: relative;}#sk-container-id-1 div.sk-item::before, #sk-container-id-1 div.sk-parallel-item::before {content: \"\";position: absolute;border-left: 1px solid gray;box-sizing: border-box;top: 0;bottom: 0;left: 50%;z-index: -1;}#sk-container-id-1 div.sk-parallel-item {display: flex;flex-direction: column;z-index: 1;position: relative;background-color: white;}#sk-container-id-1 div.sk-parallel-item:first-child::after {align-self: flex-end;width: 50%;}#sk-container-id-1 div.sk-parallel-item:last-child::after {align-self: flex-start;width: 50%;}#sk-container-id-1 div.sk-parallel-item:only-child::after {width: 0;}#sk-container-id-1 div.sk-dashed-wrapped {border: 1px dashed gray;margin: 0 0.4em 0.5em 0.4em;box-sizing: border-box;padding-bottom: 0.4em;background-color: white;}#sk-container-id-1 div.sk-label label {font-family: monospace;font-weight: bold;display: inline-block;line-height: 1.2em;}#sk-container-id-1 div.sk-label-container {text-align: center;}#sk-container-id-1 div.sk-container {/* jupyter's `normalize.less` sets `[hidden] { display: none; }` but bootstrap.min.css set `[hidden] { display: none !important; }` so we also need the `!important` here to be able to override the default hidden behavior on the sphinx rendered scikit-learn.org. See: https://github.com/scikit-learn/scikit-learn/issues/21755 */display: inline-block !important;position: relative;}#sk-container-id-1 div.sk-text-repr-fallback {display: none;}</style><div id=\"sk-container-id-1\" class=\"sk-top-container\"><div class=\"sk-text-repr-fallback\"><pre>XGBClassifier(base_score=None, booster=None, callbacks=None,\n",
       "              colsample_bylevel=None, colsample_bynode=None,\n",
       "              colsample_bytree=0.8, device=None, early_stopping_rounds=None,\n",
       "              enable_categorical=False, eval_metric=None, feature_types=None,\n",
       "              gamma=None, grow_policy=None, importance_type=None,\n",
       "              interaction_constraints=None, learning_rate=0.1, max_bin=None,\n",
       "              max_cat_threshold=None, max_cat_to_onehot=None,\n",
       "              max_delta_step=None, max_depth=3, max_leaves=None,\n",
       "              min_child_weight=5, missing=nan, monotone_constraints=None,\n",
       "              multi_strategy=None, n_estimators=None, n_jobs=None,\n",
       "              num_parallel_tree=None, objective=&#x27;multi:softprob&#x27;, ...)</pre><b>In a Jupyter environment, please rerun this cell to show the HTML representation or trust the notebook. <br />On GitHub, the HTML representation is unable to render, please try loading this page with nbviewer.org.</b></div><div class=\"sk-container\" hidden><div class=\"sk-item\"><div class=\"sk-estimator sk-toggleable\"><input class=\"sk-toggleable__control sk-hidden--visually\" id=\"sk-estimator-id-1\" type=\"checkbox\" checked><label for=\"sk-estimator-id-1\" class=\"sk-toggleable__label sk-toggleable__label-arrow\">XGBClassifier</label><div class=\"sk-toggleable__content\"><pre>XGBClassifier(base_score=None, booster=None, callbacks=None,\n",
       "              colsample_bylevel=None, colsample_bynode=None,\n",
       "              colsample_bytree=0.8, device=None, early_stopping_rounds=None,\n",
       "              enable_categorical=False, eval_metric=None, feature_types=None,\n",
       "              gamma=None, grow_policy=None, importance_type=None,\n",
       "              interaction_constraints=None, learning_rate=0.1, max_bin=None,\n",
       "              max_cat_threshold=None, max_cat_to_onehot=None,\n",
       "              max_delta_step=None, max_depth=3, max_leaves=None,\n",
       "              min_child_weight=5, missing=nan, monotone_constraints=None,\n",
       "              multi_strategy=None, n_estimators=None, n_jobs=None,\n",
       "              num_parallel_tree=None, objective=&#x27;multi:softprob&#x27;, ...)</pre></div></div></div></div></div>"
      ],
      "text/plain": [
       "XGBClassifier(base_score=None, booster=None, callbacks=None,\n",
       "              colsample_bylevel=None, colsample_bynode=None,\n",
       "              colsample_bytree=0.8, device=None, early_stopping_rounds=None,\n",
       "              enable_categorical=False, eval_metric=None, feature_types=None,\n",
       "              gamma=None, grow_policy=None, importance_type=None,\n",
       "              interaction_constraints=None, learning_rate=0.1, max_bin=None,\n",
       "              max_cat_threshold=None, max_cat_to_onehot=None,\n",
       "              max_delta_step=None, max_depth=3, max_leaves=None,\n",
       "              min_child_weight=5, missing=nan, monotone_constraints=None,\n",
       "              multi_strategy=None, n_estimators=None, n_jobs=None,\n",
       "              num_parallel_tree=None, objective='multi:softprob', ...)"
      ]
     },
     "execution_count": 11,
     "metadata": {},
     "output_type": "execute_result"
    }
   ],
   "source": [
    "xgb = XGBClassifier(subsample=0.8, min_child_weight=5, max_depth=3, learning_rate=0.1, \n",
    "                    colsample_bytree=0.8, random_state=100)\n",
    "xgb.fit(X_train_scaled, y_train)"
   ]
  },
  {
   "cell_type": "code",
   "execution_count": 12,
   "id": "cdbd673c",
   "metadata": {},
   "outputs": [],
   "source": [
    "importance = xgb.feature_importances_"
   ]
  },
  {
   "cell_type": "code",
   "execution_count": 17,
   "id": "8b39a784",
   "metadata": {},
   "outputs": [
    {
     "data": {
      "image/png": "[encoded data removed]",
      "text/plain": [
       "<Figure size 500x500 with 1 Axes>"
      ]
     },
     "metadata": {},
     "output_type": "display_data"
    }
   ],
   "source": [
    "plt.figure(figsize=(5,5))\n",
    "plt.bar(X_new.columns, sorted(importance))\n",
    "plt.xlabel('Feature')\n",
    "plt.xticks(rotation=90)\n",
    "plt.gca().spines['top'].set_visible(False)\n",
    "plt.gca().spines['right'].set_visible(False)\n",
    "plt.tight_layout()\n",
    "# plt.savefig('feature_importance_xgb.png', dpi=200)"
   ]
  },
  {
   "cell_type": "code",
   "execution_count": 14,
   "id": "7c7255d4",
   "metadata": {},
   "outputs": [
    {
     "data": {
      "text/html": [
       "<style>#sk-container-id-2 {color: black;}#sk-container-id-2 pre{padding: 0;}#sk-container-id-2 div.sk-toggleable {background-color: white;}#sk-container-id-2 label.sk-toggleable__label {cursor: pointer;display: block;width: 100%;margin-bottom: 0;padding: 0.3em;box-sizing: border-box;text-align: center;}#sk-container-id-2 label.sk-toggleable__label-arrow:before {content: \"▸\";float: left;margin-right: 0.25em;color: #696969;}#sk-container-id-2 label.sk-toggleable__label-arrow:hover:before {color: black;}#sk-container-id-2 div.sk-estimator:hover label.sk-toggleable__label-arrow:before {color: black;}#sk-container-id-2 div.sk-toggleable__content {max-height: 0;max-width: 0;overflow: hidden;text-align: left;background-color: #f0f8ff;}#sk-container-id-2 div.sk-toggleable__content pre {margin: 0.2em;color: black;border-radius: 0.25em;background-color: #f0f8ff;}#sk-container-id-2 input.sk-toggleable__control:checked~div.sk-toggleable__content {max-height: 200px;max-width: 100%;overflow: auto;}#sk-container-id-2 input.sk-toggleable__control:checked~label.sk-toggleable__label-arrow:before {content: \"▾\";}#sk-container-id-2 div.sk-estimator input.sk-toggleable__control:checked~label.sk-toggleable__label {background-color: #d4ebff;}#sk-container-id-2 div.sk-label input.sk-toggleable__control:checked~label.sk-toggleable__label {background-color: #d4ebff;}#sk-container-id-2 input.sk-hidden--visually {border: 0;clip: rect(1px 1px 1px 1px);clip: rect(1px, 1px, 1px, 1px);height: 1px;margin: -1px;overflow: hidden;padding: 0;position: absolute;width: 1px;}#sk-container-id-2 div.sk-estimator {font-family: monospace;background-color: #f0f8ff;border: 1px dotted black;border-radius: 0.25em;box-sizing: border-box;margin-bottom: 0.5em;}#sk-container-id-2 div.sk-estimator:hover {background-color: #d4ebff;}#sk-container-id-2 div.sk-parallel-item::after {content: \"\";width: 100%;border-bottom: 1px solid gray;flex-grow: 1;}#sk-container-id-2 div.sk-label:hover label.sk-toggleable__label {background-color: #d4ebff;}#sk-container-id-2 div.sk-serial::before {content: \"\";position: absolute;border-left: 1px solid gray;box-sizing: border-box;top: 0;bottom: 0;left: 50%;z-index: 0;}#sk-container-id-2 div.sk-serial {display: flex;flex-direction: column;align-items: center;background-color: white;padding-right: 0.2em;padding-left: 0.2em;position: relative;}#sk-container-id-2 div.sk-item {position: relative;z-index: 1;}#sk-container-id-2 div.sk-parallel {display: flex;align-items: stretch;justify-content: center;background-color: white;position: relative;}#sk-container-id-2 div.sk-item::before, #sk-container-id-2 div.sk-parallel-item::before {content: \"\";position: absolute;border-left: 1px solid gray;box-sizing: border-box;top: 0;bottom: 0;left: 50%;z-index: -1;}#sk-container-id-2 div.sk-parallel-item {display: flex;flex-direction: column;z-index: 1;position: relative;background-color: white;}#sk-container-id-2 div.sk-parallel-item:first-child::after {align-self: flex-end;width: 50%;}#sk-container-id-2 div.sk-parallel-item:last-child::after {align-self: flex-start;width: 50%;}#sk-container-id-2 div.sk-parallel-item:only-child::after {width: 0;}#sk-container-id-2 div.sk-dashed-wrapped {border: 1px dashed gray;margin: 0 0.4em 0.5em 0.4em;box-sizing: border-box;padding-bottom: 0.4em;background-color: white;}#sk-container-id-2 div.sk-label label {font-family: monospace;font-weight: bold;display: inline-block;line-height: 1.2em;}#sk-container-id-2 div.sk-label-container {text-align: center;}#sk-container-id-2 div.sk-container {/* jupyter's `normalize.less` sets `[hidden] { display: none; }` but bootstrap.min.css set `[hidden] { display: none !important; }` so we also need the `!important` here to be able to override the default hidden behavior on the sphinx rendered scikit-learn.org. See: https://github.com/scikit-learn/scikit-learn/issues/21755 */display: inline-block !important;position: relative;}#sk-container-id-2 div.sk-text-repr-fallback {display: none;}</style><div id=\"sk-container-id-2\" class=\"sk-top-container\"><div class=\"sk-text-repr-fallback\"><pre>RandomForestClassifier(min_samples_leaf=2, min_samples_split=10,\n",
       "                       random_state=100)</pre><b>In a Jupyter environment, please rerun this cell to show the HTML representation or trust the notebook. <br />On GitHub, the HTML representation is unable to render, please try loading this page with nbviewer.org.</b></div><div class=\"sk-container\" hidden><div class=\"sk-item\"><div class=\"sk-estimator sk-toggleable\"><input class=\"sk-toggleable__control sk-hidden--visually\" id=\"sk-estimator-id-2\" type=\"checkbox\" checked><label for=\"sk-estimator-id-2\" class=\"sk-toggleable__label sk-toggleable__label-arrow\">RandomForestClassifier</label><div class=\"sk-toggleable__content\"><pre>RandomForestClassifier(min_samples_leaf=2, min_samples_split=10,\n",
       "                       random_state=100)</pre></div></div></div></div></div>"
      ],
      "text/plain": [
       "RandomForestClassifier(min_samples_leaf=2, min_samples_split=10,\n",
       "                       random_state=100)"
      ]
     },
     "execution_count": 14,
     "metadata": {},
     "output_type": "execute_result"
    }
   ],
   "source": [
    "rf = RandomForestClassifier(n_estimators=100, min_samples_split=10, min_samples_leaf=2, max_features='sqrt',\n",
    "                           max_depth=None, criterion='gini', bootstrap=True, random_state=100)\n",
    "rf.fit(X_train_scaled, y_train)"
   ]
  },
  {
   "cell_type": "code",
   "execution_count": 15,
   "id": "71223641",
   "metadata": {},
   "outputs": [],
   "source": [
    "importance_rf = rf.feature_importances_"
   ]
  },
  {
   "cell_type": "code",
   "execution_count": 18,
   "id": "ba017aa4",
   "metadata": {},
   "outputs": [
    {
     "data": {
      "image/png": "[encoded data removed]",
      "text/plain": [
       "<Figure size 500x500 with 1 Axes>"
      ]
     },
     "metadata": {},
     "output_type": "display_data"
    }
   ],
   "source": [
    "plt.figure(figsize=(5,5))\n",
    "plt.bar(X_new.columns, sorted(importance_rf))\n",
    "plt.xlabel('Feature')\n",
    "plt.xticks(rotation=90)\n",
    "plt.gca().spines['top'].set_visible(False)\n",
    "plt.gca().spines['right'].set_visible(False)\n",
    "plt.tight_layout()\n",
    "# plt.savefig('feature_importance_rf.png', dpi=200)"
   ]
  },
  {
   "cell_type": "code",
   "execution_count": null,
   "id": "e3aa1d15",
   "metadata": {},
   "outputs": [],
   "source": []
  }
 ],
 "metadata": {
  "kernelspec": {
   "display_name": "Python 3 (ipykernel)",
   "language": "python",
   "name": "python3"
  },
  "language_info": {
   "codemirror_mode": {
    "name": "ipython",
    "version": 3
   },
   "file_extension": ".py",
   "mimetype": "text/x-python",
   "name": "python",
   "nbconvert_exporter": "python",
   "pygments_lexer": "ipython3",
   "version": "3.11.3"
  }
 },
 "nbformat": 4,
 "nbformat_minor": 5
}
